{
 "cells": [
  {
   "cell_type": "code",
   "execution_count": null,
   "metadata": {},
   "outputs": [],
   "source": [
    "import pandas as pd\n",
    "import numpy as np\n",
    "import matplotlib.pyplot as plt\n",
    "import warnings\n",
    "warnings.filterwarnings(action = \"ignore\")"
   ]
  },
  {
   "cell_type": "code",
   "execution_count": 2,
   "metadata": {},
   "outputs": [],
   "source": [
    "movies = pd.read_csv('movies.dat',sep = \"::\", names = ['MovieID', 'Title', 'Genres'])"
   ]
  },
  {
   "cell_type": "code",
   "execution_count": 3,
   "metadata": {},
   "outputs": [
    {
     "data": {
      "text/html": [
       "<div>\n",
       "<style scoped>\n",
       "    .dataframe tbody tr th:only-of-type {\n",
       "        vertical-align: middle;\n",
       "    }\n",
       "\n",
       "    .dataframe tbody tr th {\n",
       "        vertical-align: top;\n",
       "    }\n",
       "\n",
       "    .dataframe thead th {\n",
       "        text-align: right;\n",
       "    }\n",
       "</style>\n",
       "<table border=\"1\" class=\"dataframe\">\n",
       "  <thead>\n",
       "    <tr style=\"text-align: right;\">\n",
       "      <th></th>\n",
       "      <th>MovieID</th>\n",
       "      <th>Title</th>\n",
       "      <th>Genres</th>\n",
       "    </tr>\n",
       "  </thead>\n",
       "  <tbody>\n",
       "    <tr>\n",
       "      <td>0</td>\n",
       "      <td>1</td>\n",
       "      <td>Toy Story (1995)</td>\n",
       "      <td>Animation|Children's|Comedy</td>\n",
       "    </tr>\n",
       "    <tr>\n",
       "      <td>1</td>\n",
       "      <td>2</td>\n",
       "      <td>Jumanji (1995)</td>\n",
       "      <td>Adventure|Children's|Fantasy</td>\n",
       "    </tr>\n",
       "    <tr>\n",
       "      <td>2</td>\n",
       "      <td>3</td>\n",
       "      <td>Grumpier Old Men (1995)</td>\n",
       "      <td>Comedy|Romance</td>\n",
       "    </tr>\n",
       "    <tr>\n",
       "      <td>3</td>\n",
       "      <td>4</td>\n",
       "      <td>Waiting to Exhale (1995)</td>\n",
       "      <td>Comedy|Drama</td>\n",
       "    </tr>\n",
       "    <tr>\n",
       "      <td>4</td>\n",
       "      <td>5</td>\n",
       "      <td>Father of the Bride Part II (1995)</td>\n",
       "      <td>Comedy</td>\n",
       "    </tr>\n",
       "    <tr>\n",
       "      <td>5</td>\n",
       "      <td>6</td>\n",
       "      <td>Heat (1995)</td>\n",
       "      <td>Action|Crime|Thriller</td>\n",
       "    </tr>\n",
       "    <tr>\n",
       "      <td>6</td>\n",
       "      <td>7</td>\n",
       "      <td>Sabrina (1995)</td>\n",
       "      <td>Comedy|Romance</td>\n",
       "    </tr>\n",
       "    <tr>\n",
       "      <td>7</td>\n",
       "      <td>8</td>\n",
       "      <td>Tom and Huck (1995)</td>\n",
       "      <td>Adventure|Children's</td>\n",
       "    </tr>\n",
       "    <tr>\n",
       "      <td>8</td>\n",
       "      <td>9</td>\n",
       "      <td>Sudden Death (1995)</td>\n",
       "      <td>Action</td>\n",
       "    </tr>\n",
       "    <tr>\n",
       "      <td>9</td>\n",
       "      <td>10</td>\n",
       "      <td>GoldenEye (1995)</td>\n",
       "      <td>Action|Adventure|Thriller</td>\n",
       "    </tr>\n",
       "  </tbody>\n",
       "</table>\n",
       "</div>"
      ],
      "text/plain": [
       "   MovieID                               Title                        Genres\n",
       "0        1                    Toy Story (1995)   Animation|Children's|Comedy\n",
       "1        2                      Jumanji (1995)  Adventure|Children's|Fantasy\n",
       "2        3             Grumpier Old Men (1995)                Comedy|Romance\n",
       "3        4            Waiting to Exhale (1995)                  Comedy|Drama\n",
       "4        5  Father of the Bride Part II (1995)                        Comedy\n",
       "5        6                         Heat (1995)         Action|Crime|Thriller\n",
       "6        7                      Sabrina (1995)                Comedy|Romance\n",
       "7        8                 Tom and Huck (1995)          Adventure|Children's\n",
       "8        9                 Sudden Death (1995)                        Action\n",
       "9       10                    GoldenEye (1995)     Action|Adventure|Thriller"
      ]
     },
     "execution_count": 3,
     "metadata": {},
     "output_type": "execute_result"
    }
   ],
   "source": [
    "movies.head(10)"
   ]
  },
  {
   "cell_type": "code",
   "execution_count": 4,
   "metadata": {},
   "outputs": [],
   "source": [
    "ratings = pd.read_csv('ratings.dat', sep = \"::\", names = ['UserID','MovieID', 'Rating', 'Timestamp'])"
   ]
  },
  {
   "cell_type": "code",
   "execution_count": 5,
   "metadata": {},
   "outputs": [
    {
     "data": {
      "text/html": [
       "<div>\n",
       "<style scoped>\n",
       "    .dataframe tbody tr th:only-of-type {\n",
       "        vertical-align: middle;\n",
       "    }\n",
       "\n",
       "    .dataframe tbody tr th {\n",
       "        vertical-align: top;\n",
       "    }\n",
       "\n",
       "    .dataframe thead th {\n",
       "        text-align: right;\n",
       "    }\n",
       "</style>\n",
       "<table border=\"1\" class=\"dataframe\">\n",
       "  <thead>\n",
       "    <tr style=\"text-align: right;\">\n",
       "      <th></th>\n",
       "      <th>UserID</th>\n",
       "      <th>MovieID</th>\n",
       "      <th>Rating</th>\n",
       "      <th>Timestamp</th>\n",
       "    </tr>\n",
       "  </thead>\n",
       "  <tbody>\n",
       "    <tr>\n",
       "      <td>0</td>\n",
       "      <td>1</td>\n",
       "      <td>1193</td>\n",
       "      <td>5</td>\n",
       "      <td>978300760</td>\n",
       "    </tr>\n",
       "    <tr>\n",
       "      <td>1</td>\n",
       "      <td>1</td>\n",
       "      <td>661</td>\n",
       "      <td>3</td>\n",
       "      <td>978302109</td>\n",
       "    </tr>\n",
       "    <tr>\n",
       "      <td>2</td>\n",
       "      <td>1</td>\n",
       "      <td>914</td>\n",
       "      <td>3</td>\n",
       "      <td>978301968</td>\n",
       "    </tr>\n",
       "  </tbody>\n",
       "</table>\n",
       "</div>"
      ],
      "text/plain": [
       "   UserID  MovieID  Rating  Timestamp\n",
       "0       1     1193       5  978300760\n",
       "1       1      661       3  978302109\n",
       "2       1      914       3  978301968"
      ]
     },
     "execution_count": 5,
     "metadata": {},
     "output_type": "execute_result"
    }
   ],
   "source": [
    "ratings.head(3)"
   ]
  },
  {
   "cell_type": "code",
   "execution_count": 6,
   "metadata": {},
   "outputs": [
    {
     "data": {
      "text/html": [
       "<div>\n",
       "<style scoped>\n",
       "    .dataframe tbody tr th:only-of-type {\n",
       "        vertical-align: middle;\n",
       "    }\n",
       "\n",
       "    .dataframe tbody tr th {\n",
       "        vertical-align: top;\n",
       "    }\n",
       "\n",
       "    .dataframe thead th {\n",
       "        text-align: right;\n",
       "    }\n",
       "</style>\n",
       "<table border=\"1\" class=\"dataframe\">\n",
       "  <thead>\n",
       "    <tr style=\"text-align: right;\">\n",
       "      <th></th>\n",
       "      <th>UserID</th>\n",
       "      <th>Gender</th>\n",
       "      <th>Age</th>\n",
       "      <th>Occupation</th>\n",
       "      <th>Zip-Code</th>\n",
       "    </tr>\n",
       "  </thead>\n",
       "  <tbody>\n",
       "    <tr>\n",
       "      <td>0</td>\n",
       "      <td>1</td>\n",
       "      <td>F</td>\n",
       "      <td>1</td>\n",
       "      <td>10</td>\n",
       "      <td>48067</td>\n",
       "    </tr>\n",
       "    <tr>\n",
       "      <td>1</td>\n",
       "      <td>2</td>\n",
       "      <td>M</td>\n",
       "      <td>56</td>\n",
       "      <td>16</td>\n",
       "      <td>70072</td>\n",
       "    </tr>\n",
       "    <tr>\n",
       "      <td>2</td>\n",
       "      <td>3</td>\n",
       "      <td>M</td>\n",
       "      <td>25</td>\n",
       "      <td>15</td>\n",
       "      <td>55117</td>\n",
       "    </tr>\n",
       "  </tbody>\n",
       "</table>\n",
       "</div>"
      ],
      "text/plain": [
       "   UserID Gender  Age  Occupation Zip-Code\n",
       "0       1      F    1          10    48067\n",
       "1       2      M   56          16    70072\n",
       "2       3      M   25          15    55117"
      ]
     },
     "execution_count": 6,
     "metadata": {},
     "output_type": "execute_result"
    }
   ],
   "source": [
    "users = pd.read_csv('users.dat', sep = \"::\", names = ['UserID', 'Gender', 'Age', 'Occupation', 'Zip-Code'])\n",
    "users.head(3)"
   ]
  },
  {
   "cell_type": "code",
   "execution_count": 7,
   "metadata": {},
   "outputs": [
    {
     "data": {
      "text/plain": [
       "((3883, 3), (6040, 5), (1000209, 4))"
      ]
     },
     "execution_count": 7,
     "metadata": {},
     "output_type": "execute_result"
    }
   ],
   "source": [
    "movies.shape, users.shape, ratings.shape"
   ]
  },
  {
   "cell_type": "code",
   "execution_count": 8,
   "metadata": {},
   "outputs": [
    {
     "data": {
      "text/plain": [
       "4     759\n",
       "0     711\n",
       "7     679\n",
       "1     528\n",
       "17    502\n",
       "12    388\n",
       "14    302\n",
       "20    281\n",
       "2     267\n",
       "16    241\n",
       "6     236\n",
       "10    195\n",
       "3     173\n",
       "15    144\n",
       "13    142\n",
       "11    129\n",
       "5     112\n",
       "9      92\n",
       "19     72\n",
       "18     70\n",
       "8      17\n",
       "Name: Occupation, dtype: int64"
      ]
     },
     "execution_count": 8,
     "metadata": {},
     "output_type": "execute_result"
    }
   ],
   "source": [
    "users.Occupation.value_counts()"
   ]
  },
  {
   "cell_type": "code",
   "execution_count": 9,
   "metadata": {},
   "outputs": [
    {
     "data": {
      "text/plain": [
       "(1000209, 6)"
      ]
     },
     "execution_count": 9,
     "metadata": {},
     "output_type": "execute_result"
    }
   ],
   "source": [
    "movie_ratings = pd.merge(movies, ratings, on = \"MovieID\",)\n",
    "movie_ratings.shape"
   ]
  },
  {
   "cell_type": "code",
   "execution_count": 10,
   "metadata": {},
   "outputs": [
    {
     "data": {
      "text/html": [
       "<div>\n",
       "<style scoped>\n",
       "    .dataframe tbody tr th:only-of-type {\n",
       "        vertical-align: middle;\n",
       "    }\n",
       "\n",
       "    .dataframe tbody tr th {\n",
       "        vertical-align: top;\n",
       "    }\n",
       "\n",
       "    .dataframe thead th {\n",
       "        text-align: right;\n",
       "    }\n",
       "</style>\n",
       "<table border=\"1\" class=\"dataframe\">\n",
       "  <thead>\n",
       "    <tr style=\"text-align: right;\">\n",
       "      <th></th>\n",
       "      <th>MovieID</th>\n",
       "      <th>Title</th>\n",
       "      <th>Genres</th>\n",
       "      <th>UserID</th>\n",
       "      <th>Rating</th>\n",
       "      <th>Timestamp</th>\n",
       "    </tr>\n",
       "  </thead>\n",
       "  <tbody>\n",
       "    <tr>\n",
       "      <td>0</td>\n",
       "      <td>1</td>\n",
       "      <td>Toy Story (1995)</td>\n",
       "      <td>Animation|Children's|Comedy</td>\n",
       "      <td>1</td>\n",
       "      <td>5</td>\n",
       "      <td>978824268</td>\n",
       "    </tr>\n",
       "    <tr>\n",
       "      <td>1</td>\n",
       "      <td>1</td>\n",
       "      <td>Toy Story (1995)</td>\n",
       "      <td>Animation|Children's|Comedy</td>\n",
       "      <td>6</td>\n",
       "      <td>4</td>\n",
       "      <td>978237008</td>\n",
       "    </tr>\n",
       "    <tr>\n",
       "      <td>2</td>\n",
       "      <td>1</td>\n",
       "      <td>Toy Story (1995)</td>\n",
       "      <td>Animation|Children's|Comedy</td>\n",
       "      <td>8</td>\n",
       "      <td>4</td>\n",
       "      <td>978233496</td>\n",
       "    </tr>\n",
       "  </tbody>\n",
       "</table>\n",
       "</div>"
      ],
      "text/plain": [
       "   MovieID             Title                       Genres  UserID  Rating  \\\n",
       "0        1  Toy Story (1995)  Animation|Children's|Comedy       1       5   \n",
       "1        1  Toy Story (1995)  Animation|Children's|Comedy       6       4   \n",
       "2        1  Toy Story (1995)  Animation|Children's|Comedy       8       4   \n",
       "\n",
       "   Timestamp  \n",
       "0  978824268  \n",
       "1  978237008  \n",
       "2  978233496  "
      ]
     },
     "execution_count": 10,
     "metadata": {},
     "output_type": "execute_result"
    }
   ],
   "source": [
    "movie_ratings.head(3)"
   ]
  },
  {
   "cell_type": "code",
   "execution_count": 11,
   "metadata": {},
   "outputs": [
    {
     "data": {
      "text/html": [
       "<div>\n",
       "<style scoped>\n",
       "    .dataframe tbody tr th:only-of-type {\n",
       "        vertical-align: middle;\n",
       "    }\n",
       "\n",
       "    .dataframe tbody tr th {\n",
       "        vertical-align: top;\n",
       "    }\n",
       "\n",
       "    .dataframe thead th {\n",
       "        text-align: right;\n",
       "    }\n",
       "</style>\n",
       "<table border=\"1\" class=\"dataframe\">\n",
       "  <thead>\n",
       "    <tr style=\"text-align: right;\">\n",
       "      <th></th>\n",
       "      <th>MovieID</th>\n",
       "      <th>Title</th>\n",
       "      <th>Genres</th>\n",
       "      <th>UserID</th>\n",
       "      <th>Rating</th>\n",
       "      <th>Timestamp</th>\n",
       "      <th>Gender</th>\n",
       "      <th>Age</th>\n",
       "      <th>Occupation</th>\n",
       "      <th>Zip-Code</th>\n",
       "    </tr>\n",
       "  </thead>\n",
       "  <tbody>\n",
       "    <tr>\n",
       "      <td>0</td>\n",
       "      <td>1</td>\n",
       "      <td>Toy Story (1995)</td>\n",
       "      <td>Animation|Children's|Comedy</td>\n",
       "      <td>1</td>\n",
       "      <td>5</td>\n",
       "      <td>978824268</td>\n",
       "      <td>F</td>\n",
       "      <td>1</td>\n",
       "      <td>10</td>\n",
       "      <td>48067</td>\n",
       "    </tr>\n",
       "    <tr>\n",
       "      <td>1</td>\n",
       "      <td>48</td>\n",
       "      <td>Pocahontas (1995)</td>\n",
       "      <td>Animation|Children's|Musical|Romance</td>\n",
       "      <td>1</td>\n",
       "      <td>5</td>\n",
       "      <td>978824351</td>\n",
       "      <td>F</td>\n",
       "      <td>1</td>\n",
       "      <td>10</td>\n",
       "      <td>48067</td>\n",
       "    </tr>\n",
       "    <tr>\n",
       "      <td>2</td>\n",
       "      <td>150</td>\n",
       "      <td>Apollo 13 (1995)</td>\n",
       "      <td>Drama</td>\n",
       "      <td>1</td>\n",
       "      <td>5</td>\n",
       "      <td>978301777</td>\n",
       "      <td>F</td>\n",
       "      <td>1</td>\n",
       "      <td>10</td>\n",
       "      <td>48067</td>\n",
       "    </tr>\n",
       "  </tbody>\n",
       "</table>\n",
       "</div>"
      ],
      "text/plain": [
       "   MovieID              Title                                Genres  UserID  \\\n",
       "0        1   Toy Story (1995)           Animation|Children's|Comedy       1   \n",
       "1       48  Pocahontas (1995)  Animation|Children's|Musical|Romance       1   \n",
       "2      150   Apollo 13 (1995)                                 Drama       1   \n",
       "\n",
       "   Rating  Timestamp Gender  Age  Occupation Zip-Code  \n",
       "0       5  978824268      F    1          10    48067  \n",
       "1       5  978824351      F    1          10    48067  \n",
       "2       5  978301777      F    1          10    48067  "
      ]
     },
     "execution_count": 11,
     "metadata": {},
     "output_type": "execute_result"
    }
   ],
   "source": [
    "MasterData = pd.merge(movie_ratings, users, on = \"UserID\")\n",
    "MasterData.head(3)"
   ]
  },
  {
   "cell_type": "code",
   "execution_count": 12,
   "metadata": {},
   "outputs": [],
   "source": [
    "Prjdata=MasterData[:6000]"
   ]
  },
  {
   "cell_type": "code",
   "execution_count": 13,
   "metadata": {},
   "outputs": [
    {
     "data": {
      "text/plain": [
       "Text(0.5, 0, 'age')"
      ]
     },
     "execution_count": 13,
     "metadata": {},
     "output_type": "execute_result"
    },
    {
     "data": {
      "image/png": "[encoded data removed]",
      "text/plain": [
       "<Figure size 432x288 with 1 Axes>"
      ]
     },
     "metadata": {
      "needs_background": "light"
     },
     "output_type": "display_data"
    }
   ],
   "source": [
    "Prjdata.Age.hist()\n",
    "plt.title(\"Distribution of users' ages\")\n",
    "plt.ylabel('count of users')\n",
    "plt.xlabel('age')"
   ]
  },
  {
   "cell_type": "markdown",
   "metadata": {},
   "source": [
    "# Ans 1 Above histogram shows users agewise distribution"
   ]
  },
  {
   "cell_type": "code",
   "execution_count": 14,
   "metadata": {},
   "outputs": [
    {
     "data": {
      "text/html": [
       "<div>\n",
       "<style scoped>\n",
       "    .dataframe tbody tr th:only-of-type {\n",
       "        vertical-align: middle;\n",
       "    }\n",
       "\n",
       "    .dataframe tbody tr th {\n",
       "        vertical-align: top;\n",
       "    }\n",
       "\n",
       "    .dataframe thead th {\n",
       "        text-align: right;\n",
       "    }\n",
       "</style>\n",
       "<table border=\"1\" class=\"dataframe\">\n",
       "  <thead>\n",
       "    <tr style=\"text-align: right;\">\n",
       "      <th></th>\n",
       "      <th>MovieID</th>\n",
       "      <th>Title</th>\n",
       "      <th>Genres</th>\n",
       "      <th>UserID</th>\n",
       "      <th>Rating</th>\n",
       "      <th>Timestamp</th>\n",
       "      <th>Gender</th>\n",
       "      <th>Age</th>\n",
       "      <th>Occupation</th>\n",
       "      <th>Zip-Code</th>\n",
       "    </tr>\n",
       "  </thead>\n",
       "  <tbody>\n",
       "    <tr>\n",
       "      <td>0</td>\n",
       "      <td>1</td>\n",
       "      <td>Toy Story (1995)</td>\n",
       "      <td>Animation|Children's|Comedy</td>\n",
       "      <td>1</td>\n",
       "      <td>5</td>\n",
       "      <td>978824268</td>\n",
       "      <td>F</td>\n",
       "      <td>1</td>\n",
       "      <td>10</td>\n",
       "      <td>48067</td>\n",
       "    </tr>\n",
       "    <tr>\n",
       "      <td>1</td>\n",
       "      <td>48</td>\n",
       "      <td>Pocahontas (1995)</td>\n",
       "      <td>Animation|Children's|Musical|Romance</td>\n",
       "      <td>1</td>\n",
       "      <td>5</td>\n",
       "      <td>978824351</td>\n",
       "      <td>F</td>\n",
       "      <td>1</td>\n",
       "      <td>10</td>\n",
       "      <td>48067</td>\n",
       "    </tr>\n",
       "    <tr>\n",
       "      <td>2</td>\n",
       "      <td>150</td>\n",
       "      <td>Apollo 13 (1995)</td>\n",
       "      <td>Drama</td>\n",
       "      <td>1</td>\n",
       "      <td>5</td>\n",
       "      <td>978301777</td>\n",
       "      <td>F</td>\n",
       "      <td>1</td>\n",
       "      <td>10</td>\n",
       "      <td>48067</td>\n",
       "    </tr>\n",
       "    <tr>\n",
       "      <td>3</td>\n",
       "      <td>260</td>\n",
       "      <td>Star Wars: Episode IV - A New Hope (1977)</td>\n",
       "      <td>Action|Adventure|Fantasy|Sci-Fi</td>\n",
       "      <td>1</td>\n",
       "      <td>4</td>\n",
       "      <td>978300760</td>\n",
       "      <td>F</td>\n",
       "      <td>1</td>\n",
       "      <td>10</td>\n",
       "      <td>48067</td>\n",
       "    </tr>\n",
       "    <tr>\n",
       "      <td>4</td>\n",
       "      <td>527</td>\n",
       "      <td>Schindler's List (1993)</td>\n",
       "      <td>Drama|War</td>\n",
       "      <td>1</td>\n",
       "      <td>5</td>\n",
       "      <td>978824195</td>\n",
       "      <td>F</td>\n",
       "      <td>1</td>\n",
       "      <td>10</td>\n",
       "      <td>48067</td>\n",
       "    </tr>\n",
       "  </tbody>\n",
       "</table>\n",
       "</div>"
      ],
      "text/plain": [
       "   MovieID                                      Title  \\\n",
       "0        1                           Toy Story (1995)   \n",
       "1       48                          Pocahontas (1995)   \n",
       "2      150                           Apollo 13 (1995)   \n",
       "3      260  Star Wars: Episode IV - A New Hope (1977)   \n",
       "4      527                    Schindler's List (1993)   \n",
       "\n",
       "                                 Genres  UserID  Rating  Timestamp Gender  \\\n",
       "0           Animation|Children's|Comedy       1       5  978824268      F   \n",
       "1  Animation|Children's|Musical|Romance       1       5  978824351      F   \n",
       "2                                 Drama       1       5  978301777      F   \n",
       "3       Action|Adventure|Fantasy|Sci-Fi       1       4  978300760      F   \n",
       "4                             Drama|War       1       5  978824195      F   \n",
       "\n",
       "   Age  Occupation Zip-Code  \n",
       "0    1          10    48067  \n",
       "1    1          10    48067  \n",
       "2    1          10    48067  \n",
       "3    1          10    48067  \n",
       "4    1          10    48067  "
      ]
     },
     "execution_count": 14,
     "metadata": {},
     "output_type": "execute_result"
    }
   ],
   "source": [
    "MasterData.head()"
   ]
  },
  {
   "cell_type": "code",
   "execution_count": 15,
   "metadata": {},
   "outputs": [],
   "source": [
    "import re"
   ]
  },
  {
   "cell_type": "code",
   "execution_count": 16,
   "metadata": {},
   "outputs": [
    {
     "data": {
      "text/plain": [
       "'Toy Story (1995)'"
      ]
     },
     "execution_count": 16,
     "metadata": {},
     "output_type": "execute_result"
    }
   ],
   "source": [
    "title=MasterData.iloc[0].Title\n",
    "title"
   ]
  },
  {
   "cell_type": "code",
   "execution_count": 17,
   "metadata": {},
   "outputs": [
    {
     "data": {
      "text/plain": [
       "True"
      ]
     },
     "execution_count": 17,
     "metadata": {},
     "output_type": "execute_result"
    }
   ],
   "source": [
    "re.search(\"Toy Story\", title)!=None"
   ]
  },
  {
   "cell_type": "code",
   "execution_count": 18,
   "metadata": {},
   "outputs": [
    {
     "data": {
      "text/plain": [
       "True"
      ]
     },
     "execution_count": 18,
     "metadata": {},
     "output_type": "execute_result"
    }
   ],
   "source": [
    "def fn(f):\n",
    "    return re.search(\"Toy Story\".lower(),f.lower())!=None\n",
    "fn(title)"
   ]
  },
  {
   "cell_type": "code",
   "execution_count": 19,
   "metadata": {},
   "outputs": [
    {
     "data": {
      "text/plain": [
       "0           True\n",
       "1          False\n",
       "2          False\n",
       "3          False\n",
       "4          False\n",
       "           ...  \n",
       "1000204    False\n",
       "1000205    False\n",
       "1000206    False\n",
       "1000207    False\n",
       "1000208    False\n",
       "Name: Title, Length: 1000209, dtype: bool"
      ]
     },
     "execution_count": 19,
     "metadata": {},
     "output_type": "execute_result"
    }
   ],
   "source": [
    "MasterData[\"Title\"].apply(fn)"
   ]
  },
  {
   "cell_type": "code",
   "execution_count": 20,
   "metadata": {},
   "outputs": [
    {
     "data": {
      "text/html": [
       "<div>\n",
       "<style scoped>\n",
       "    .dataframe tbody tr th:only-of-type {\n",
       "        vertical-align: middle;\n",
       "    }\n",
       "\n",
       "    .dataframe tbody tr th {\n",
       "        vertical-align: top;\n",
       "    }\n",
       "\n",
       "    .dataframe thead th {\n",
       "        text-align: right;\n",
       "    }\n",
       "</style>\n",
       "<table border=\"1\" class=\"dataframe\">\n",
       "  <thead>\n",
       "    <tr style=\"text-align: right;\">\n",
       "      <th></th>\n",
       "      <th>MovieID</th>\n",
       "      <th>Title</th>\n",
       "      <th>Genres</th>\n",
       "      <th>UserID</th>\n",
       "      <th>Rating</th>\n",
       "      <th>Timestamp</th>\n",
       "      <th>Gender</th>\n",
       "      <th>Age</th>\n",
       "      <th>Occupation</th>\n",
       "      <th>Zip-Code</th>\n",
       "    </tr>\n",
       "  </thead>\n",
       "  <tbody>\n",
       "    <tr>\n",
       "      <td>0</td>\n",
       "      <td>1</td>\n",
       "      <td>Toy Story (1995)</td>\n",
       "      <td>Animation|Children's|Comedy</td>\n",
       "      <td>1</td>\n",
       "      <td>5</td>\n",
       "      <td>978824268</td>\n",
       "      <td>F</td>\n",
       "      <td>1</td>\n",
       "      <td>10</td>\n",
       "      <td>48067</td>\n",
       "    </tr>\n",
       "    <tr>\n",
       "      <td>50</td>\n",
       "      <td>3114</td>\n",
       "      <td>Toy Story 2 (1999)</td>\n",
       "      <td>Animation|Children's|Comedy</td>\n",
       "      <td>1</td>\n",
       "      <td>4</td>\n",
       "      <td>978302174</td>\n",
       "      <td>F</td>\n",
       "      <td>1</td>\n",
       "      <td>10</td>\n",
       "      <td>48067</td>\n",
       "    </tr>\n",
       "    <tr>\n",
       "      <td>53</td>\n",
       "      <td>1</td>\n",
       "      <td>Toy Story (1995)</td>\n",
       "      <td>Animation|Children's|Comedy</td>\n",
       "      <td>6</td>\n",
       "      <td>4</td>\n",
       "      <td>978237008</td>\n",
       "      <td>F</td>\n",
       "      <td>50</td>\n",
       "      <td>9</td>\n",
       "      <td>55117</td>\n",
       "    </tr>\n",
       "    <tr>\n",
       "      <td>124</td>\n",
       "      <td>1</td>\n",
       "      <td>Toy Story (1995)</td>\n",
       "      <td>Animation|Children's|Comedy</td>\n",
       "      <td>8</td>\n",
       "      <td>4</td>\n",
       "      <td>978233496</td>\n",
       "      <td>M</td>\n",
       "      <td>25</td>\n",
       "      <td>12</td>\n",
       "      <td>11413</td>\n",
       "    </tr>\n",
       "    <tr>\n",
       "      <td>263</td>\n",
       "      <td>1</td>\n",
       "      <td>Toy Story (1995)</td>\n",
       "      <td>Animation|Children's|Comedy</td>\n",
       "      <td>9</td>\n",
       "      <td>5</td>\n",
       "      <td>978225952</td>\n",
       "      <td>M</td>\n",
       "      <td>25</td>\n",
       "      <td>17</td>\n",
       "      <td>61614</td>\n",
       "    </tr>\n",
       "    <tr>\n",
       "      <td>...</td>\n",
       "      <td>...</td>\n",
       "      <td>...</td>\n",
       "      <td>...</td>\n",
       "      <td>...</td>\n",
       "      <td>...</td>\n",
       "      <td>...</td>\n",
       "      <td>...</td>\n",
       "      <td>...</td>\n",
       "      <td>...</td>\n",
       "      <td>...</td>\n",
       "    </tr>\n",
       "    <tr>\n",
       "      <td>998988</td>\n",
       "      <td>3114</td>\n",
       "      <td>Toy Story 2 (1999)</td>\n",
       "      <td>Animation|Children's|Comedy</td>\n",
       "      <td>3023</td>\n",
       "      <td>4</td>\n",
       "      <td>970471948</td>\n",
       "      <td>F</td>\n",
       "      <td>25</td>\n",
       "      <td>7</td>\n",
       "      <td>92108</td>\n",
       "    </tr>\n",
       "    <tr>\n",
       "      <td>999027</td>\n",
       "      <td>3114</td>\n",
       "      <td>Toy Story 2 (1999)</td>\n",
       "      <td>Animation|Children's|Comedy</td>\n",
       "      <td>5800</td>\n",
       "      <td>5</td>\n",
       "      <td>958015250</td>\n",
       "      <td>M</td>\n",
       "      <td>35</td>\n",
       "      <td>18</td>\n",
       "      <td>90804</td>\n",
       "    </tr>\n",
       "    <tr>\n",
       "      <td>999486</td>\n",
       "      <td>3114</td>\n",
       "      <td>Toy Story 2 (1999)</td>\n",
       "      <td>Animation|Children's|Comedy</td>\n",
       "      <td>2189</td>\n",
       "      <td>4</td>\n",
       "      <td>974607816</td>\n",
       "      <td>M</td>\n",
       "      <td>1</td>\n",
       "      <td>10</td>\n",
       "      <td>60148</td>\n",
       "    </tr>\n",
       "    <tr>\n",
       "      <td>999869</td>\n",
       "      <td>3114</td>\n",
       "      <td>Toy Story 2 (1999)</td>\n",
       "      <td>Animation|Children's|Comedy</td>\n",
       "      <td>159</td>\n",
       "      <td>4</td>\n",
       "      <td>989966944</td>\n",
       "      <td>F</td>\n",
       "      <td>45</td>\n",
       "      <td>0</td>\n",
       "      <td>37922</td>\n",
       "    </tr>\n",
       "    <tr>\n",
       "      <td>1000192</td>\n",
       "      <td>3114</td>\n",
       "      <td>Toy Story 2 (1999)</td>\n",
       "      <td>Animation|Children's|Comedy</td>\n",
       "      <td>5727</td>\n",
       "      <td>5</td>\n",
       "      <td>958492554</td>\n",
       "      <td>M</td>\n",
       "      <td>25</td>\n",
       "      <td>4</td>\n",
       "      <td>92843</td>\n",
       "    </tr>\n",
       "  </tbody>\n",
       "</table>\n",
       "<p>3662 rows × 10 columns</p>\n",
       "</div>"
      ],
      "text/plain": [
       "         MovieID               Title                       Genres  UserID  \\\n",
       "0              1    Toy Story (1995)  Animation|Children's|Comedy       1   \n",
       "50          3114  Toy Story 2 (1999)  Animation|Children's|Comedy       1   \n",
       "53             1    Toy Story (1995)  Animation|Children's|Comedy       6   \n",
       "124            1    Toy Story (1995)  Animation|Children's|Comedy       8   \n",
       "263            1    Toy Story (1995)  Animation|Children's|Comedy       9   \n",
       "...          ...                 ...                          ...     ...   \n",
       "998988      3114  Toy Story 2 (1999)  Animation|Children's|Comedy    3023   \n",
       "999027      3114  Toy Story 2 (1999)  Animation|Children's|Comedy    5800   \n",
       "999486      3114  Toy Story 2 (1999)  Animation|Children's|Comedy    2189   \n",
       "999869      3114  Toy Story 2 (1999)  Animation|Children's|Comedy     159   \n",
       "1000192     3114  Toy Story 2 (1999)  Animation|Children's|Comedy    5727   \n",
       "\n",
       "         Rating  Timestamp Gender  Age  Occupation Zip-Code  \n",
       "0             5  978824268      F    1          10    48067  \n",
       "50            4  978302174      F    1          10    48067  \n",
       "53            4  978237008      F   50           9    55117  \n",
       "124           4  978233496      M   25          12    11413  \n",
       "263           5  978225952      M   25          17    61614  \n",
       "...         ...        ...    ...  ...         ...      ...  \n",
       "998988        4  970471948      F   25           7    92108  \n",
       "999027        5  958015250      M   35          18    90804  \n",
       "999486        4  974607816      M    1          10    60148  \n",
       "999869        4  989966944      F   45           0    37922  \n",
       "1000192       5  958492554      M   25           4    92843  \n",
       "\n",
       "[3662 rows x 10 columns]"
      ]
     },
     "execution_count": 20,
     "metadata": {},
     "output_type": "execute_result"
    }
   ],
   "source": [
    "toystory= MasterData[MasterData[\"Title\"].apply(fn)]\n",
    "toystory"
   ]
  },
  {
   "cell_type": "code",
   "execution_count": 21,
   "metadata": {},
   "outputs": [],
   "source": [
    "toystory_df = MasterData.filter(items=['Title','Rating'])\n",
    "toystory_df.set_index('Title',inplace=True)"
   ]
  },
  {
   "cell_type": "code",
   "execution_count": 22,
   "metadata": {},
   "outputs": [
    {
     "name": "stdout",
     "output_type": "stream",
     "text": [
      "(3662, 1)\n",
      "5    1544\n",
      "4    1413\n",
      "3     559\n",
      "2     105\n",
      "1      41\n",
      "Name: Rating, dtype: int64\n"
     ]
    },
    {
     "data": {
      "text/plain": [
       "<matplotlib.axes._subplots.AxesSubplot at 0x1c7e71fb1c8>"
      ]
     },
     "execution_count": 22,
     "metadata": {},
     "output_type": "execute_result"
    },
    {
     "data": {
      "image/png": "[encoded data removed]",
      "text/plain": [
       "<Figure size 720x288 with 1 Axes>"
      ]
     },
     "metadata": {},
     "output_type": "display_data"
    }
   ],
   "source": [
    "r = toystory_df.filter(like='Toy Story',axis=0)\n",
    "print(r.shape)\n",
    "print(pd.value_counts(r.Rating))\n",
    "pd.value_counts(r.Rating).plot(kind='pie',startangle=70,figsize=(10,4))"
   ]
  },
  {
   "cell_type": "markdown",
   "metadata": {},
   "source": [
    "# Ans 2 Toy story rating observation, out of 3662 , 1544 has rated 5 ratings"
   ]
  },
  {
   "cell_type": "code",
   "execution_count": 23,
   "metadata": {},
   "outputs": [
    {
     "data": {
      "text/plain": [
       "MovieID  Title                                                \n",
       "2858     American Beauty (1999)                                   3428\n",
       "260      Star Wars: Episode IV - A New Hope (1977)                2991\n",
       "1196     Star Wars: Episode V - The Empire Strikes Back (1980)    2990\n",
       "1210     Star Wars: Episode VI - Return of the Jedi (1983)        2883\n",
       "480      Jurassic Park (1993)                                     2672\n",
       "2028     Saving Private Ryan (1998)                               2653\n",
       "589      Terminator 2: Judgment Day (1991)                        2649\n",
       "2571     Matrix, The (1999)                                       2590\n",
       "1270     Back to the Future (1985)                                2583\n",
       "593      Silence of the Lambs, The (1991)                         2578\n",
       "1580     Men in Black (1997)                                      2538\n",
       "1198     Raiders of the Lost Ark (1981)                           2514\n",
       "608      Fargo (1996)                                             2513\n",
       "2762     Sixth Sense, The (1999)                                  2459\n",
       "110      Braveheart (1995)                                        2443\n",
       "2396     Shakespeare in Love (1998)                               2369\n",
       "1197     Princess Bride, The (1987)                               2318\n",
       "527      Schindler's List (1993)                                  2304\n",
       "1617     L.A. Confidential (1997)                                 2288\n",
       "1265     Groundhog Day (1993)                                     2278\n",
       "1097     E.T. the Extra-Terrestrial (1982)                        2269\n",
       "2628     Star Wars: Episode I - The Phantom Menace (1999)         2250\n",
       "2997     Being John Malkovich (1999)                              2241\n",
       "318      Shawshank Redemption, The (1994)                         2227\n",
       "858      Godfather, The (1972)                                    2223\n",
       "dtype: int64"
      ]
     },
     "execution_count": 23,
     "metadata": {},
     "output_type": "execute_result"
    }
   ],
   "source": [
    "most_rated25 = MasterData.groupby([\"MovieID\",\"Title\"]).size().sort_values(ascending=False)[:25]\n",
    "most_rated25"
   ]
  },
  {
   "cell_type": "code",
   "execution_count": 24,
   "metadata": {},
   "outputs": [
    {
     "data": {
      "text/plain": [
       "<matplotlib.axes._subplots.AxesSubplot at 0x1c7e721b588>"
      ]
     },
     "execution_count": 24,
     "metadata": {},
     "output_type": "execute_result"
    },
    {
     "data": {
      "image/png": "[encoded data removed]",
      "text/plain": [
       "<Figure size 432x288 with 1 Axes>"
      ]
     },
     "metadata": {
      "needs_background": "light"
     },
     "output_type": "display_data"
    }
   ],
   "source": [
    "plt.ylabel(\"Title\")\n",
    "plt.xlabel(\"Viewership Count\")\n",
    "most_rated25.plot(kind=\"barh\")"
   ]
  },
  {
   "cell_type": "markdown",
   "metadata": {},
   "source": [
    "# Ans 3: Top 25 Movies as per Viewership ratings"
   ]
  },
  {
   "cell_type": "code",
   "execution_count": 25,
   "metadata": {},
   "outputs": [
    {
     "data": {
      "text/html": [
       "<div>\n",
       "<style scoped>\n",
       "    .dataframe tbody tr th:only-of-type {\n",
       "        vertical-align: middle;\n",
       "    }\n",
       "\n",
       "    .dataframe tbody tr th {\n",
       "        vertical-align: top;\n",
       "    }\n",
       "\n",
       "    .dataframe thead th {\n",
       "        text-align: right;\n",
       "    }\n",
       "</style>\n",
       "<table border=\"1\" class=\"dataframe\">\n",
       "  <thead>\n",
       "    <tr style=\"text-align: right;\">\n",
       "      <th></th>\n",
       "      <th>MovieID</th>\n",
       "      <th>Title</th>\n",
       "      <th>Genres</th>\n",
       "      <th>UserID</th>\n",
       "      <th>Rating</th>\n",
       "      <th>Timestamp</th>\n",
       "      <th>Gender</th>\n",
       "      <th>Age</th>\n",
       "      <th>Occupation</th>\n",
       "      <th>Zip-Code</th>\n",
       "    </tr>\n",
       "  </thead>\n",
       "  <tbody>\n",
       "    <tr>\n",
       "      <td>991035</td>\n",
       "      <td>350</td>\n",
       "      <td>Client, The (1994)</td>\n",
       "      <td>Drama|Mystery|Thriller</td>\n",
       "      <td>2696</td>\n",
       "      <td>3</td>\n",
       "      <td>973308886</td>\n",
       "      <td>M</td>\n",
       "      <td>25</td>\n",
       "      <td>7</td>\n",
       "      <td>24210</td>\n",
       "    </tr>\n",
       "    <tr>\n",
       "      <td>991036</td>\n",
       "      <td>800</td>\n",
       "      <td>Lone Star (1996)</td>\n",
       "      <td>Drama|Mystery</td>\n",
       "      <td>2696</td>\n",
       "      <td>5</td>\n",
       "      <td>973308842</td>\n",
       "      <td>M</td>\n",
       "      <td>25</td>\n",
       "      <td>7</td>\n",
       "      <td>24210</td>\n",
       "    </tr>\n",
       "    <tr>\n",
       "      <td>991037</td>\n",
       "      <td>1092</td>\n",
       "      <td>Basic Instinct (1992)</td>\n",
       "      <td>Mystery|Thriller</td>\n",
       "      <td>2696</td>\n",
       "      <td>4</td>\n",
       "      <td>973308886</td>\n",
       "      <td>M</td>\n",
       "      <td>25</td>\n",
       "      <td>7</td>\n",
       "      <td>24210</td>\n",
       "    </tr>\n",
       "    <tr>\n",
       "      <td>991038</td>\n",
       "      <td>1097</td>\n",
       "      <td>E.T. the Extra-Terrestrial (1982)</td>\n",
       "      <td>Children's|Drama|Fantasy|Sci-Fi</td>\n",
       "      <td>2696</td>\n",
       "      <td>3</td>\n",
       "      <td>973308690</td>\n",
       "      <td>M</td>\n",
       "      <td>25</td>\n",
       "      <td>7</td>\n",
       "      <td>24210</td>\n",
       "    </tr>\n",
       "    <tr>\n",
       "      <td>991039</td>\n",
       "      <td>1258</td>\n",
       "      <td>Shining, The (1980)</td>\n",
       "      <td>Horror</td>\n",
       "      <td>2696</td>\n",
       "      <td>4</td>\n",
       "      <td>973308710</td>\n",
       "      <td>M</td>\n",
       "      <td>25</td>\n",
       "      <td>7</td>\n",
       "      <td>24210</td>\n",
       "    </tr>\n",
       "    <tr>\n",
       "      <td>991040</td>\n",
       "      <td>1270</td>\n",
       "      <td>Back to the Future (1985)</td>\n",
       "      <td>Comedy|Sci-Fi</td>\n",
       "      <td>2696</td>\n",
       "      <td>2</td>\n",
       "      <td>973308676</td>\n",
       "      <td>M</td>\n",
       "      <td>25</td>\n",
       "      <td>7</td>\n",
       "      <td>24210</td>\n",
       "    </tr>\n",
       "    <tr>\n",
       "      <td>991041</td>\n",
       "      <td>1589</td>\n",
       "      <td>Cop Land (1997)</td>\n",
       "      <td>Crime|Drama|Mystery</td>\n",
       "      <td>2696</td>\n",
       "      <td>3</td>\n",
       "      <td>973308865</td>\n",
       "      <td>M</td>\n",
       "      <td>25</td>\n",
       "      <td>7</td>\n",
       "      <td>24210</td>\n",
       "    </tr>\n",
       "    <tr>\n",
       "      <td>991042</td>\n",
       "      <td>1617</td>\n",
       "      <td>L.A. Confidential (1997)</td>\n",
       "      <td>Crime|Film-Noir|Mystery|Thriller</td>\n",
       "      <td>2696</td>\n",
       "      <td>4</td>\n",
       "      <td>973308842</td>\n",
       "      <td>M</td>\n",
       "      <td>25</td>\n",
       "      <td>7</td>\n",
       "      <td>24210</td>\n",
       "    </tr>\n",
       "    <tr>\n",
       "      <td>991043</td>\n",
       "      <td>1625</td>\n",
       "      <td>Game, The (1997)</td>\n",
       "      <td>Mystery|Thriller</td>\n",
       "      <td>2696</td>\n",
       "      <td>4</td>\n",
       "      <td>973308842</td>\n",
       "      <td>M</td>\n",
       "      <td>25</td>\n",
       "      <td>7</td>\n",
       "      <td>24210</td>\n",
       "    </tr>\n",
       "    <tr>\n",
       "      <td>991044</td>\n",
       "      <td>1644</td>\n",
       "      <td>I Know What You Did Last Summer (1997)</td>\n",
       "      <td>Horror|Mystery|Thriller</td>\n",
       "      <td>2696</td>\n",
       "      <td>2</td>\n",
       "      <td>973308920</td>\n",
       "      <td>M</td>\n",
       "      <td>25</td>\n",
       "      <td>7</td>\n",
       "      <td>24210</td>\n",
       "    </tr>\n",
       "    <tr>\n",
       "      <td>991045</td>\n",
       "      <td>1645</td>\n",
       "      <td>Devil's Advocate, The (1997)</td>\n",
       "      <td>Crime|Horror|Mystery|Thriller</td>\n",
       "      <td>2696</td>\n",
       "      <td>4</td>\n",
       "      <td>973308904</td>\n",
       "      <td>M</td>\n",
       "      <td>25</td>\n",
       "      <td>7</td>\n",
       "      <td>24210</td>\n",
       "    </tr>\n",
       "    <tr>\n",
       "      <td>991046</td>\n",
       "      <td>1711</td>\n",
       "      <td>Midnight in the Garden of Good and Evil (1997)</td>\n",
       "      <td>Comedy|Crime|Drama|Mystery</td>\n",
       "      <td>2696</td>\n",
       "      <td>4</td>\n",
       "      <td>973308904</td>\n",
       "      <td>M</td>\n",
       "      <td>25</td>\n",
       "      <td>7</td>\n",
       "      <td>24210</td>\n",
       "    </tr>\n",
       "    <tr>\n",
       "      <td>991047</td>\n",
       "      <td>1783</td>\n",
       "      <td>Palmetto (1998)</td>\n",
       "      <td>Film-Noir|Mystery|Thriller</td>\n",
       "      <td>2696</td>\n",
       "      <td>4</td>\n",
       "      <td>973308865</td>\n",
       "      <td>M</td>\n",
       "      <td>25</td>\n",
       "      <td>7</td>\n",
       "      <td>24210</td>\n",
       "    </tr>\n",
       "    <tr>\n",
       "      <td>991048</td>\n",
       "      <td>1805</td>\n",
       "      <td>Wild Things (1998)</td>\n",
       "      <td>Crime|Drama|Mystery|Thriller</td>\n",
       "      <td>2696</td>\n",
       "      <td>4</td>\n",
       "      <td>973308886</td>\n",
       "      <td>M</td>\n",
       "      <td>25</td>\n",
       "      <td>7</td>\n",
       "      <td>24210</td>\n",
       "    </tr>\n",
       "    <tr>\n",
       "      <td>991049</td>\n",
       "      <td>1892</td>\n",
       "      <td>Perfect Murder, A (1998)</td>\n",
       "      <td>Mystery|Thriller</td>\n",
       "      <td>2696</td>\n",
       "      <td>4</td>\n",
       "      <td>973308904</td>\n",
       "      <td>M</td>\n",
       "      <td>25</td>\n",
       "      <td>7</td>\n",
       "      <td>24210</td>\n",
       "    </tr>\n",
       "    <tr>\n",
       "      <td>991050</td>\n",
       "      <td>2338</td>\n",
       "      <td>I Still Know What You Did Last Summer (1998)</td>\n",
       "      <td>Horror|Mystery|Thriller</td>\n",
       "      <td>2696</td>\n",
       "      <td>2</td>\n",
       "      <td>973308920</td>\n",
       "      <td>M</td>\n",
       "      <td>25</td>\n",
       "      <td>7</td>\n",
       "      <td>24210</td>\n",
       "    </tr>\n",
       "    <tr>\n",
       "      <td>991051</td>\n",
       "      <td>2389</td>\n",
       "      <td>Psycho (1998)</td>\n",
       "      <td>Crime|Horror|Thriller</td>\n",
       "      <td>2696</td>\n",
       "      <td>4</td>\n",
       "      <td>973308710</td>\n",
       "      <td>M</td>\n",
       "      <td>25</td>\n",
       "      <td>7</td>\n",
       "      <td>24210</td>\n",
       "    </tr>\n",
       "    <tr>\n",
       "      <td>991052</td>\n",
       "      <td>2713</td>\n",
       "      <td>Lake Placid (1999)</td>\n",
       "      <td>Horror|Thriller</td>\n",
       "      <td>2696</td>\n",
       "      <td>1</td>\n",
       "      <td>973308710</td>\n",
       "      <td>M</td>\n",
       "      <td>25</td>\n",
       "      <td>7</td>\n",
       "      <td>24210</td>\n",
       "    </tr>\n",
       "    <tr>\n",
       "      <td>991053</td>\n",
       "      <td>3176</td>\n",
       "      <td>Talented Mr. Ripley, The (1999)</td>\n",
       "      <td>Drama|Mystery|Thriller</td>\n",
       "      <td>2696</td>\n",
       "      <td>4</td>\n",
       "      <td>973308865</td>\n",
       "      <td>M</td>\n",
       "      <td>25</td>\n",
       "      <td>7</td>\n",
       "      <td>24210</td>\n",
       "    </tr>\n",
       "    <tr>\n",
       "      <td>991054</td>\n",
       "      <td>3386</td>\n",
       "      <td>JFK (1991)</td>\n",
       "      <td>Drama|Mystery</td>\n",
       "      <td>2696</td>\n",
       "      <td>1</td>\n",
       "      <td>973308842</td>\n",
       "      <td>M</td>\n",
       "      <td>25</td>\n",
       "      <td>7</td>\n",
       "      <td>24210</td>\n",
       "    </tr>\n",
       "  </tbody>\n",
       "</table>\n",
       "</div>"
      ],
      "text/plain": [
       "        MovieID                                           Title  \\\n",
       "991035      350                              Client, The (1994)   \n",
       "991036      800                                Lone Star (1996)   \n",
       "991037     1092                           Basic Instinct (1992)   \n",
       "991038     1097               E.T. the Extra-Terrestrial (1982)   \n",
       "991039     1258                             Shining, The (1980)   \n",
       "991040     1270                       Back to the Future (1985)   \n",
       "991041     1589                                 Cop Land (1997)   \n",
       "991042     1617                        L.A. Confidential (1997)   \n",
       "991043     1625                                Game, The (1997)   \n",
       "991044     1644          I Know What You Did Last Summer (1997)   \n",
       "991045     1645                    Devil's Advocate, The (1997)   \n",
       "991046     1711  Midnight in the Garden of Good and Evil (1997)   \n",
       "991047     1783                                 Palmetto (1998)   \n",
       "991048     1805                              Wild Things (1998)   \n",
       "991049     1892                        Perfect Murder, A (1998)   \n",
       "991050     2338    I Still Know What You Did Last Summer (1998)   \n",
       "991051     2389                                   Psycho (1998)   \n",
       "991052     2713                              Lake Placid (1999)   \n",
       "991053     3176                 Talented Mr. Ripley, The (1999)   \n",
       "991054     3386                                      JFK (1991)   \n",
       "\n",
       "                                  Genres  UserID  Rating  Timestamp Gender  \\\n",
       "991035            Drama|Mystery|Thriller    2696       3  973308886      M   \n",
       "991036                     Drama|Mystery    2696       5  973308842      M   \n",
       "991037                  Mystery|Thriller    2696       4  973308886      M   \n",
       "991038   Children's|Drama|Fantasy|Sci-Fi    2696       3  973308690      M   \n",
       "991039                            Horror    2696       4  973308710      M   \n",
       "991040                     Comedy|Sci-Fi    2696       2  973308676      M   \n",
       "991041               Crime|Drama|Mystery    2696       3  973308865      M   \n",
       "991042  Crime|Film-Noir|Mystery|Thriller    2696       4  973308842      M   \n",
       "991043                  Mystery|Thriller    2696       4  973308842      M   \n",
       "991044           Horror|Mystery|Thriller    2696       2  973308920      M   \n",
       "991045     Crime|Horror|Mystery|Thriller    2696       4  973308904      M   \n",
       "991046        Comedy|Crime|Drama|Mystery    2696       4  973308904      M   \n",
       "991047        Film-Noir|Mystery|Thriller    2696       4  973308865      M   \n",
       "991048      Crime|Drama|Mystery|Thriller    2696       4  973308886      M   \n",
       "991049                  Mystery|Thriller    2696       4  973308904      M   \n",
       "991050           Horror|Mystery|Thriller    2696       2  973308920      M   \n",
       "991051             Crime|Horror|Thriller    2696       4  973308710      M   \n",
       "991052                   Horror|Thriller    2696       1  973308710      M   \n",
       "991053            Drama|Mystery|Thriller    2696       4  973308865      M   \n",
       "991054                     Drama|Mystery    2696       1  973308842      M   \n",
       "\n",
       "        Age  Occupation Zip-Code  \n",
       "991035   25           7    24210  \n",
       "991036   25           7    24210  \n",
       "991037   25           7    24210  \n",
       "991038   25           7    24210  \n",
       "991039   25           7    24210  \n",
       "991040   25           7    24210  \n",
       "991041   25           7    24210  \n",
       "991042   25           7    24210  \n",
       "991043   25           7    24210  \n",
       "991044   25           7    24210  \n",
       "991045   25           7    24210  \n",
       "991046   25           7    24210  \n",
       "991047   25           7    24210  \n",
       "991048   25           7    24210  \n",
       "991049   25           7    24210  \n",
       "991050   25           7    24210  \n",
       "991051   25           7    24210  \n",
       "991052   25           7    24210  \n",
       "991053   25           7    24210  \n",
       "991054   25           7    24210  "
      ]
     },
     "execution_count": 25,
     "metadata": {},
     "output_type": "execute_result"
    },
    {
     "data": {
      "image/png": "[encoded data removed]",
      "text/plain": [
       "<Figure size 432x288 with 1 Axes>"
      ]
     },
     "metadata": {
      "needs_background": "light"
     },
     "output_type": "display_data"
    }
   ],
   "source": [
    "usr=MasterData.loc[MasterData.UserID==2696]\n",
    "plt.scatter(y=usr.Title, x=usr.Rating)\n",
    "usr"
   ]
  },
  {
   "cell_type": "markdown",
   "metadata": {},
   "source": [
    "# Ans 4 Ratings of all movies for user id 2696"
   ]
  },
  {
   "cell_type": "markdown",
   "metadata": {},
   "source": [
    "# Feature Engineering"
   ]
  },
  {
   "cell_type": "code",
   "execution_count": 26,
   "metadata": {},
   "outputs": [
    {
     "data": {
      "text/plain": [
       "0              [Animation, Children's, Comedy]\n",
       "1    [Animation, Children's, Musical, Romance]\n",
       "2                                      [Drama]\n",
       "3         [Action, Adventure, Fantasy, Sci-Fi]\n",
       "4                                 [Drama, War]\n",
       "Name: Genres, dtype: object"
      ]
     },
     "execution_count": 26,
     "metadata": {},
     "output_type": "execute_result"
    }
   ],
   "source": [
    "MasterData.Genres=MasterData.Genres.str.split(\"|\")\n",
    "MasterData.Genres.head()"
   ]
  },
  {
   "cell_type": "code",
   "execution_count": 37,
   "metadata": {},
   "outputs": [
    {
     "data": {
      "text/plain": [
       "['Animation',\n",
       " \"Children's\",\n",
       " 'Comedy',\n",
       " 'Animation',\n",
       " \"Children's\",\n",
       " 'Musical',\n",
       " 'Romance']"
      ]
     },
     "execution_count": 37,
     "metadata": {},
     "output_type": "execute_result"
    }
   ],
   "source": [
    "Pdata=MasterData[:7000]\n",
    "Pdata.iloc[0].Genres + Pdata.iloc[1].Genres"
   ]
  },
  {
   "cell_type": "code",
   "execution_count": 38,
   "metadata": {},
   "outputs": [
    {
     "data": {
      "text/plain": [
       "0              [Animation, Children's, Comedy]\n",
       "1    [Animation, Children's, Musical, Romance]\n",
       "Name: Genres, dtype: object"
      ]
     },
     "execution_count": 38,
     "metadata": {},
     "output_type": "execute_result"
    }
   ],
   "source": [
    "Pdata.Genres[:2]"
   ]
  },
  {
   "cell_type": "code",
   "execution_count": 39,
   "metadata": {},
   "outputs": [],
   "source": [
    "x = []\n",
    "for rn in range(len(Pdata)):\n",
    "    x = x+Pdata.iloc[rn].Genres"
   ]
  },
  {
   "cell_type": "code",
   "execution_count": 40,
   "metadata": {},
   "outputs": [
    {
     "name": "stdout",
     "output_type": "stream",
     "text": [
      "['Animation', \"Children's\", 'Comedy', 'Animation', \"Children's\", 'Musical', 'Romance', 'Drama', 'Action', 'Adventure', 'Fantasy', 'Sci-Fi', 'Drama', 'War', \"Children's\", 'Drama', 'Animation', \"Children's\", 'Comedy', 'Musical', 'Animation', \"Children's\", 'Musical', 'Animation', \"Children's\", 'Musical', 'Crime', 'Drama', 'Thriller', 'Animation', \"Children's\", 'Musical', 'Animation', 'Animation', 'Comedy', 'Thriller', 'Animation', \"Children's\", 'Musical', 'Musical', 'Romance', 'Adventure', \"Children's\", 'Drama', 'Musical', 'Musical', 'Animation', \"Children's\", 'Musical', \"Children's\", 'Comedy', 'Musical', 'Animation', \"Children's\", 'Musical', 'Musical', \"Children's\", 'Drama', 'Fantasy', 'Sci-Fi', 'Drama', 'Action', 'Adventure', 'Comedy', 'Romance', 'Drama', 'Drama', 'Comedy', 'Sci-Fi', 'Action', 'Adventure', 'Drama', 'Drama', 'Adventure', 'Animation', \"Children's\", 'Comedy', 'Musical', 'Drama', 'Romance', 'Drama', 'Animation', \"Children's\", 'Drama', 'Drama', 'Animation', \"Children's\", 'Action', 'Drama', 'War', 'Animation', \"Children's\", 'Comedy', 'Romance', 'Animation', \"Children's\", 'Comedy', 'Drama', 'Animation', \"Children's\", 'Action', 'Crime', 'Romance', 'Thriller', 'Comedy', 'Comedy', 'Fantasy', 'Comedy', 'Drama', 'Comedy', 'Drama', 'Animation', \"Children's\", 'Comedy', 'Drama', 'Drama', 'Animation', \"Children's\", 'Comedy', 'Drama', 'Romance', \"Children's\", 'Comedy', 'Drama', 'Animation', \"Children's\", 'Musical', 'Romance', 'Drama', 'Musical', 'Drama', 'Romance', 'War', 'Western', 'Crime', 'Drama', 'Animation', \"Children's\", 'Musical', 'Action', 'Comedy', 'Western', 'Action', 'Romance', 'Thriller', 'Western', \"Children's\", 'Comedy', 'Animation', \"Children's\", 'Comedy', 'Musical', 'Adventure', 'Drama', 'Western', 'Animation', \"Children's\", 'Musical', 'Comedy', 'Romance', 'Comedy', 'Drama', 'Romance', 'Drama', 'Romance', 'War', 'Musical', 'Romance', 'Drama', 'Romance', 'War', \"Children's\", 'Comedy', 'Western', \"Children's\", 'Comedy', 'Musical', 'Adventure', 'Animation', \"Children's\", 'Musical', 'Musical', 'Drama', 'Romance', 'Musical', 'Romance', 'Action', 'Romance', 'Comedy', 'Romance', 'Action', 'Adventure', 'Romance', 'Sci-Fi', 'War', 'Drama', 'Romance', 'Comedy', 'Musical', 'Romance', 'Comedy', 'Romance', 'Adventure', 'Animation', \"Children's\", 'Comedy', 'Musical', 'Comedy', 'Romance', 'Drama', 'Romance', 'Thriller', 'Animation', \"Children's\", 'Musical', 'Adventure', \"Children's\", 'Comedy', 'Musical', 'Romance', 'Drama', 'Romance', 'Action', 'Adventure', 'Romance', \"Children's\", 'Fantasy', 'Musical', 'Animation', \"Children's\", 'Comedy', 'Musical', 'Romance', \"Children's\", 'Comedy', 'Comedy', 'Fantasy', 'Romance', 'Comedy', 'Comedy', 'Romance', 'Action', 'Adventure', 'Comedy', 'Romance', 'Comedy', 'Romance', 'Comedy', 'Drama', 'Romance', 'Action', 'Romance', 'Thriller', 'Comedy', 'Drama', 'Drama', 'Comedy', 'Western', 'Drama', 'Comedy', 'Romance', 'Western', 'Comedy', 'Romance', 'Comedy', 'Comedy', 'Romance', 'Comedy', 'Drama', 'Action', 'Drama', 'Comedy', 'Musical', 'Musical', 'Musical', 'Action', 'Western', 'Comedy', 'Drama', 'Romance', 'Adventure', 'Drama', 'Romance', 'Sci-Fi', 'Action', 'Crime', 'Action', 'Drama', 'War', 'Animation', \"Children's\", 'Comedy', 'Comedy', 'Drama', 'Drama', 'Drama', 'Thriller', 'Drama', 'Romance', 'Drama', 'Sci-Fi', 'Drama', 'Romance', 'Drama', 'Comedy', 'Romance', 'Action', 'Crime', 'Drama', 'Drama', 'Romance', 'Drama', 'Musical', 'Drama', 'Romance', 'Action', 'Drama', 'War', 'Drama', 'Thriller', 'Drama', 'Drama', 'Romance', 'War', 'Drama', 'Thriller', 'War', 'Action', 'Romance', 'Thriller', 'Drama', 'Thriller', 'Drama', 'Horror', 'Drama', 'Romance', 'Drama', 'Romance', 'War', 'Western', 'Drama', 'Drama', 'Action', 'Thriller', 'Crime', 'Drama', 'Drama', 'Comedy', 'Drama', 'Action', 'Adventure', 'Thriller', 'Action', 'Romance', 'Thriller', 'Action', 'Drama', 'Thriller', 'Action', 'Drama', 'War', 'Comedy', 'Drama', 'Action', 'Adventure', 'Sci-Fi', 'Drama', 'Drama', 'Drama', 'Drama', 'Drama', 'War', 'Drama', 'Action', 'Crime', 'Romance', 'Comedy', 'Drama', 'Action', 'Sci-Fi', 'Thriller', 'Crime', 'Drama', 'Thriller', 'Drama', 'Action', 'Adventure', 'Thriller', 'Animation', 'Sci-Fi', 'Drama', 'Thriller', 'Drama', 'Drama', 'Romance', 'Drama', 'Action', 'Adventure', 'Romance', 'Sci-Fi', 'War', 'Crime', 'Drama', 'Comedy', 'Romance', 'Adventure', 'Animation', 'Sci-Fi', 'Thriller', 'Action', 'Drama', 'Romance', 'Drama', 'Romance', 'Drama', 'Romance', 'Drama', 'Crime', 'Drama', 'Comedy', 'Drama', 'Action', 'Drama', 'Thriller', 'War', 'Action', 'Sci-Fi', 'Thriller', 'Action', 'Adventure', 'Comedy', 'Sci-Fi', 'Crime', 'Drama', 'Mystery', 'Drama', 'Drama', 'Romance', 'Drama', 'Sci-Fi', 'Thriller', 'Drama', 'Drama', 'Drama', 'Drama', 'Drama', 'Comedy', 'Drama', 'Drama', 'Comedy', 'Crime', 'Drama', 'Mystery', 'Drama', 'Romance', 'Drama', 'Drama', 'Romance', 'Action', 'Drama', 'Romance', 'Drama', 'Drama', 'Drama', 'Action', 'Comedy', 'Drama', 'Action', 'Adventure', 'Romance', 'Action', 'Crime', 'Drama', 'Action', 'Drama', 'War', 'Crime', 'Drama', 'Action', 'Crime', 'Thriller', 'Drama', 'Romance', 'Drama', 'Romance', 'Drama', 'Drama', 'Thriller', 'Comedy', 'Drama', 'Drama', 'Drama', 'Comedy', 'Romance', 'Action', 'Drama', 'War', 'Adventure', \"Children's\", 'Drama', 'Drama', 'Action', 'Thriller', 'Drama', 'Action', 'Sci-Fi', 'Thriller', 'Action', 'Sci-Fi', 'Thriller', 'Drama', 'Mystery', 'Drama', 'Thriller', 'Action', 'Crime', 'Romance', 'Action', 'Comedy', 'Sci-Fi', 'Thriller', 'Drama', 'Drama', 'Comedy', 'Drama', 'Drama', 'Action', 'Adventure', 'Sci-Fi', 'Thriller', 'Drama', 'Drama', 'Action', 'Drama', 'Drama', 'Thriller', 'Drama', 'Drama', 'Romance', 'Drama', 'Drama', 'Animation', \"Children's\", 'Drama', 'Drama', 'Drama', 'Action', 'Thriller', 'Action', 'Drama', 'Romance', 'Thriller', 'Drama', 'Romance', 'Drama', 'Action', 'Crime', 'Action', 'Thriller', 'Drama', 'Mystery', 'Action', 'Drama', 'Drama', 'Comedy', 'Comedy', 'Drama', 'Drama', 'Romance', 'Animation', \"Children's\", 'Comedy', 'Drama', 'Thriller', 'Drama', 'Romance', 'Crime', 'Thriller', 'Crime', 'Thriller', 'Drama', 'Documentary', 'Comedy', 'Drama', 'Drama', 'Action', 'Adventure', 'Thriller', 'Comedy', 'Crime', 'Fantasy', 'Action', 'Romance', 'Thriller', 'Drama', 'Drama', 'Action', 'Thriller', 'Action', 'Adventure', 'Sci-Fi', 'Drama', 'Drama', 'Drama', 'War', 'Drama', 'Adventure', 'Drama', 'Western', 'Drama', 'Thriller', 'Comedy', 'Romance', 'Crime', 'Drama', 'Thriller', 'Animation', 'Animation', 'Comedy', 'Thriller', 'Drama', 'Drama', 'Comedy', 'Drama', 'Romance', 'Action', 'Thriller', 'Drama', 'Romance', 'War', 'Drama', 'Romance', 'War', 'Drama', 'Comedy', 'Drama', 'Crime', 'Thriller', 'Animation', 'Comedy', 'Action', 'Adventure', 'Romance', 'Sci-Fi', 'War', 'Crime', 'Drama', 'Action', 'Crime', 'Drama', 'Animation', 'Comedy', 'Action', 'Drama', 'War', 'Comedy', 'Romance', 'Comedy', 'Romance', 'Documentary', 'Thriller', 'Action', 'Adventure', 'Sci-Fi', 'Drama', 'Thriller', 'Drama', 'Romance', 'Comedy', 'Crime', 'Drama', 'Comedy', 'Crime', 'Action', 'Adventure', 'Thriller', 'Drama', 'Sci-Fi', 'Crime', 'Film-Noir', 'Mystery', 'Thriller', 'Drama', 'Romance', 'Drama', 'Sci-Fi', 'Thriller', 'Romance', 'Drama', 'Drama', 'Drama', 'Romance', 'Comedy', 'Romance', 'Comedy', 'Drama', 'Action', 'Crime', 'Romance', 'Sci-Fi', 'Thriller', 'Comedy', 'Drama', 'Action', 'Drama', 'War', 'Drama', 'Romance', 'Crime', 'Drama', 'Action', 'Crime', 'Thriller', 'Animation', \"Children's\", 'Comedy', 'Comedy', 'Drama', 'Animation', \"Children's\", 'Comedy', 'Action', 'Sci-Fi', 'Thriller', 'Comedy', 'Action', 'Crime', 'Romance', 'Thriller', 'Comedy', 'Drama', 'Drama', 'War', 'Drama', 'Drama', 'Animation', \"Children's\", 'Comedy', 'Drama', 'Thriller', 'Drama', 'Drama', 'Drama', 'Comedy', 'Comedy', 'Drama', 'Drama', 'Drama', 'Comedy', 'Crime', 'Drama', 'Action', 'Romance', 'Thriller', 'Drama', 'Thriller', 'Drama', 'Thriller', 'Action', 'Thriller', 'Action', 'Crime', 'Animation', \"Children's\", 'Comedy', 'Action', 'Adventure', 'Thriller', 'Action', 'Sci-Fi', 'Horror', 'Sci-Fi', 'Thriller', 'Drama', 'Comedy', 'Animation', \"Children's\", 'Comedy', 'Adventure', \"Children's\", 'Fantasy', 'Comedy', 'Romance', 'Drama', 'Sci-Fi', 'Drama', 'Sci-Fi', 'Animation', \"Children's\", 'Musical', 'Romance', 'Drama', 'Comedy', 'Action', 'Drama', 'War', 'Documentary', 'Drama', 'Action', 'Adventure', 'Comedy', 'Crime', 'Comedy', 'Comedy', 'Comedy', 'Action', 'Adventure', 'Comedy', 'Comedy', 'Drama', 'Horror', 'Action', 'Adventure', 'Fantasy', 'Sci-Fi', 'Comedy', 'Drama', 'Drama', 'Action', 'Drama', 'Thriller', 'Action', 'Adventure', 'Sci-Fi', \"Children's\", 'Comedy', 'Fantasy', 'Drama', 'Action', 'Adventure', 'Sci-Fi', 'Comedy', 'Comedy', 'Romance', 'Comedy', 'Comedy', 'Drama', 'Romance', 'Comedy', 'Romance', 'War', 'Comedy', 'Romance', 'Animation', \"Children's\", 'Musical', 'Comedy', 'Crime', 'Fantasy', 'Action', 'Comedy', 'Western', 'Comedy', 'Comedy', 'Sci-Fi', 'Action', 'Adventure', 'Sci-Fi', 'Comedy', 'Drama', 'War', 'Comedy', 'Romance', 'Film-Noir', 'Sci-Fi', 'Comedy', 'Comedy', 'Romance', 'Thriller', \"Children's\", 'Comedy', 'Musical', \"Children's\", 'Comedy', 'Comedy', 'Romance', 'Thriller', 'Animation', \"Children's\", 'Comedy', 'Musical', 'Action', 'Sci-Fi', 'Thriller', 'Adventure', 'Drama', 'Western', 'Action', 'Adventure', 'Crime', 'Drama', 'Animation', \"Children's\", 'Musical', 'Animation', \"Children's\", 'Musical', 'Animation', \"Children's\", 'Comedy', 'Romance', 'Action', 'Adventure', 'Mystery', 'Action', 'Adventure', 'Fantasy', 'Comedy', 'Sci-Fi', 'Animation', 'Comedy', 'Animation', 'Comedy', 'Thriller', 'Sci-Fi', 'War', 'Comedy', 'Drama', 'Action', 'Sci-Fi', 'War', 'Comedy', 'Drama', 'Romance', 'Comedy', 'Action', 'Crime', 'Drama', 'Comedy', 'Romance', 'Musical', 'Romance', 'Drama', 'Romance', 'Mystery', 'Thriller', 'Drama', 'Romance', 'War', 'Film-Noir', 'Mystery', 'Musical', 'Romance', 'Comedy', 'Romance', 'Comedy', 'Romance', 'Musical', 'Adventure', \"Children's\", 'Drama', 'Musical', 'Drama', 'Romance', 'War', 'Drama', 'Drama', 'Mystery', 'Sci-Fi', 'Thriller', 'Drama', 'Romance', 'Musical', 'Drama', 'Romance', 'Drama', 'Drama', 'Musical', 'Action', 'Adventure', 'Romance', 'War', 'Drama', 'Adventure', \"Children's\", 'Fantasy', \"Children's\", 'Drama', 'Adventure', \"Children's\", \"Children's\", 'Comedy', 'Adventure', \"Children's\", 'Fantasy', 'Sci-Fi', 'Comedy', 'Animation', \"Children's\", 'Musical', 'Animation', \"Children's\", 'Animation', \"Children's\", \"Children's\", 'Comedy', 'Musical', 'Adventure', 'Animation', \"Children's\", 'Musical', 'Adventure', \"Children's\", 'Musical', 'Animation', \"Children's\", 'Musical', 'Musical', 'Comedy', 'Drama', 'Romance', 'Adventure', \"Children's\", 'Comedy', 'Fantasy', 'Comedy', 'Comedy', 'Crime', 'Drama', 'Musical', 'Romance', 'Comedy', \"Children's\", 'Drama', 'Fantasy', 'Sci-Fi', 'Action', 'Romance', 'Drama', 'Drama', 'Comedy', 'Action', 'Adventure', 'Sci-Fi', 'Thriller', 'Action', 'Adventure', 'Sci-Fi', 'Thriller', 'Comedy', 'Comedy', 'Animation', 'Comedy', 'Action', 'Adventure', 'Drama', 'Sci-Fi', 'War', 'Action', 'Adventure', 'Comedy', 'Romance', 'Action', 'Adventure', 'Action', 'Sci-Fi', 'Thriller', 'War', 'Action', 'Western', 'Drama', 'Adventure', 'War', 'Action', 'Adventure', 'Romance', 'Sci-Fi', 'War', 'Action', 'Horror', 'Sci-Fi', 'Thriller', 'Action', 'Adventure', 'Comedy', 'Horror', 'Sci-Fi', 'Action', 'Comedy', 'Musical', 'Action', 'Crime', 'Drama', 'Animation', 'Comedy', 'Drama', 'Comedy', 'Romance', 'Action', 'Drama', 'War', 'Comedy', 'Crime', 'Action', 'Sci-Fi', 'Thriller', 'Comedy', 'Drama', 'Drama', 'Romance', 'Drama', 'War', 'Film-Noir', 'Mystery', 'Thriller', 'Drama', 'Sci-Fi', 'Adventure', 'Comedy', 'War', 'Comedy', 'Adventure', 'Comedy', 'Drama', 'Comedy', 'Romance', 'Comedy', 'Mystery', 'Thriller', 'Comedy', 'Sci-Fi', 'Drama', 'Comedy', 'Drama', 'Comedy', 'Horror', 'Animation', \"Children's\", 'Musical', 'Western', 'Drama', 'Romance', 'Action', 'Adventure', 'Drama', 'Action', 'Adventure', 'Comedy', 'Drama', 'Comedy', 'War', 'Drama', 'Action', 'Comedy', 'Western', 'Comedy', 'Romance', 'Action', 'Horror', 'Sci-Fi', 'Thriller', 'Horror', 'Romance', 'Horror', 'Action', 'Adventure', 'Sci-Fi', 'Drama', 'Romance', 'Action', 'Adventure', 'Sci-Fi', 'Action', 'Adventure', 'Sci-Fi', 'Action', 'Adventure', 'Sci-Fi', 'Action', 'Adventure', 'Sci-Fi', 'Action', 'Adventure', 'Sci-Fi', 'Action', 'Adventure', 'Comedy', 'Crime', 'Comedy', 'Musical', 'Romance', 'Action', 'Horror', 'Comedy', 'Action', 'Romance', 'War', 'Comedy', 'Romance', 'Drama', 'Comedy', 'Romance', 'Comedy', 'Comedy', 'Action', 'Adventure', 'Sci-Fi', 'Thriller', 'Adventure', 'Animation', \"Children's\", 'Comedy', 'Musical', 'Action', 'Sci-Fi', 'Thriller', 'Action', 'Adventure', 'Comedy', 'Sci-Fi', \"Children's\", 'Fantasy', 'Drama', 'Sci-Fi', 'Action', 'Drama', 'War', 'Crime', 'Film-Noir', 'Mystery', 'Thriller', 'Drama', 'Drama', 'Romance', 'Drama', 'Sci-Fi', 'Thriller', \"Children's\", 'Drama', 'Fantasy', 'Action', 'Adventure', 'Sci-Fi', 'War', 'Drama', 'Action', 'Horror', 'Sci-Fi', 'Drama', 'Drama', 'Romance', 'Horror', 'Comedy', 'Drama', 'Action', 'Sci-Fi', 'Thriller', 'Comedy', 'Drama', 'Action', 'Comedy', 'Crime', 'Drama', 'Sci-Fi', 'Thriller', 'Comedy', 'War', 'Musical', 'Romance', 'Comedy', 'Action', 'Drama', 'Drama', 'Romance', 'Drama', 'Adventure', \"Children's\", 'Fantasy', 'Action', 'Comedy', 'Crime', 'Drama', 'Action', 'Comedy', 'Crime', 'Drama', 'Action', 'Comedy', 'Crime', 'Drama', 'Comedy', 'Horror', 'Adventure', \"Children's\", 'Fantasy', 'Action', 'Adventure', 'Romance', 'Sci-Fi', 'Thriller', 'Comedy', 'Sci-Fi', 'Comedy', 'Sci-Fi', 'Western', \"Children's\", 'Comedy', 'Fantasy', 'Animation', \"Children's\", 'Fantasy', 'Sci-Fi', 'Animation', \"Children's\", \"Children's\", 'Comedy', 'Action', 'Adventure', \"Children's\", 'Comedy', 'Adventure', \"Children's\", 'Fantasy', 'Adventure', \"Children's\", 'Drama', 'Romance', 'Adventure', \"Children's\", 'Sci-Fi', \"Children's\", 'Comedy', 'Musical', 'Adventure', \"Children's\", 'Comedy', 'Fantasy', 'Sci-Fi', 'Drama', 'Romance', 'War', 'Comedy', 'Adventure', \"Children's\", 'Animation', \"Children's\", 'Comedy', 'Musical', 'Animation', \"Children's\", 'Comedy', 'Musical', 'Romance', 'Animation', \"Children's\", 'Comedy', 'Musical', 'Romance', \"Children's\", 'Comedy', 'Animation', \"Children's\", 'Fantasy', 'Musical', 'Animation', \"Children's\", \"Children's\", 'Sci-Fi', 'Adventure', \"Children's\", 'Fantasy', 'Sci-Fi', 'Action', 'Adventure', 'Sci-Fi', 'Animation', \"Children's\", 'Musical', 'Comedy', 'Fantasy', 'Romance', 'Action', 'Adventure', 'Fantasy', 'Sci-Fi', 'Comedy', 'Romance', 'Comedy', 'Comedy', 'Action', 'Adventure', 'Comedy', 'Drama', 'Romance', 'Adventure', 'Comedy', 'Adventure', 'Musical', 'Comedy', 'Animation', \"Children's\", 'Animation', \"Children's\", 'Drama', 'Fantasy', \"Children's\", 'Fantasy', 'Sci-Fi', 'Adventure', \"Children's\", 'Fantasy', 'Comedy', 'Fantasy', 'Action', 'Adventure', 'Fantasy', 'Comedy', 'Drama', 'Drama', 'Romance', 'Animation', \"Children's\", 'Comedy', 'Musical', 'Comedy', 'Drama', 'Drama', 'Romance', 'Comedy', 'Comedy', 'Drama', 'Drama', 'Animation', \"Children's\", 'Comedy', 'Comedy', 'Comedy', 'Comedy', 'Action', 'Sci-Fi', 'Comedy', 'Romance', 'Drama', 'Adventure', \"Children's\", 'Fantasy', 'Action', 'Adventure', 'Comedy', 'Romance', 'Comedy', 'Sci-Fi', 'Comedy', 'Comedy', 'Romance', 'Comedy', 'Drama', 'Comedy', 'Drama', 'Fantasy', 'Adventure', 'Comedy', 'Comedy', 'Romance', 'Romance', 'Comedy', 'Sci-Fi', 'Drama', 'Action', 'Sci-Fi', 'Action', 'Sci-Fi', 'Action', 'Sci-Fi', 'Thriller', 'Comedy', 'Action', 'Adventure', 'Horror', 'Thriller', 'Comedy', 'Fantasy', 'Action', 'Adventure', 'Fantasy', 'Sci-Fi', 'Action', 'Adventure', 'Sci-Fi', 'Comedy', 'Horror', 'Musical', 'Sci-Fi', 'Action', 'Sci-Fi', 'War', 'Documentary', 'Comedy', 'Horror', 'Comedy', 'Horror', 'Comedy', 'Horror', 'Musical', 'Thriller', 'Comedy', 'Comedy', 'Comedy', 'Comedy', 'Fantasy', 'Comedy', 'Drama', 'Action', 'Horror', 'Thriller', 'Comedy', 'Drama', 'Comedy', 'Musical', 'Action', 'Drama', 'Fantasy', 'Romance', 'Comedy', 'Comedy', 'Comedy', 'Musical', 'Action', 'Drama', 'Drama', 'Thriller', 'Adventure', 'Fantasy', 'Sci-Fi', 'Comedy', 'Animation', \"Children's\", 'Comedy', 'Drama', 'War', 'Comedy', 'Drama', 'Western', 'Comedy', 'War', 'Comedy', 'Comedy', 'Comedy', 'Drama', 'Comedy', 'Romance', 'Comedy', 'Romance', 'Drama', 'Comedy', 'Drama', 'Romance', 'Animation', \"Children's\", 'Comedy', 'Action', 'Adventure', 'Fantasy', 'Drama', 'Romance', 'Comedy', 'Drama', 'Adventure', 'Comedy', 'Sci-Fi', 'Comedy', 'Drama', 'Drama', 'Comedy', 'Crime', 'Drama', 'Comedy', 'Comedy', 'Drama', 'Drama', 'Romance', 'Comedy', 'Horror', 'Drama', 'Comedy', 'Drama', 'Comedy', 'Romance', 'Drama', 'Comedy', 'Drama', 'Drama', 'Mystery', 'Comedy', 'Drama', 'Action', \"Children's\", 'Fantasy', 'Action', \"Children's\", 'Fantasy', 'Drama', 'Comedy', 'Drama', 'Comedy', 'Fantasy', 'Drama', 'Sci-Fi', 'Comedy', 'Adventure', 'Fantasy', 'Comedy', 'Drama', 'Comedy', 'Romance', 'Comedy', 'Comedy', 'Drama', 'Action', 'Sci-Fi', 'Comedy', 'Comedy', 'Drama', 'Romance', 'Comedy', 'Western', 'Musical', 'Comedy', 'Adventure', 'Drama', 'Romance', 'Sci-Fi', 'Crime', 'Drama', 'Sci-Fi', 'Action', 'Sci-Fi', 'Action', 'Sci-Fi', 'Action', 'Sci-Fi', 'Drama', 'Animation', \"Children's\", 'Comedy', 'Comedy', 'Comedy', 'Comedy', 'Comedy', 'Comedy', 'Horror', 'Comedy', 'Animation', \"Children's\", 'Comedy', 'Adventure', \"Children's\", 'Fantasy', 'Action', 'Adventure', 'Thriller', 'Drama', 'Romance', 'Drama', 'Adventure', 'Sci-Fi', \"Children's\", 'Comedy', 'Drama', 'Action', 'Adventure', 'Crime', 'Thriller', 'Animation', \"Children's\", 'Musical', 'Romance', 'Crime', 'Thriller', 'Adventure', 'Drama', 'Action', 'Thriller', 'Action', 'Drama', 'War', 'Action', 'Adventure', 'Comedy', 'Crime', 'Adventure', \"Children's\", 'Action', 'Romance', 'Thriller', 'Action', 'Adventure', 'Drama', 'Romance', 'Action', 'Adventure', 'Drama', 'Romance', 'Comedy', 'Drama', 'Drama', 'Romance', 'Action', 'Adventure', 'Fantasy', 'Sci-Fi', 'Drama', \"Children's\", 'Drama', 'Drama', 'Romance', 'War', 'Western', 'Action', 'Thriller', 'Thriller', 'Action', 'Drama', 'Thriller', 'Crime', 'Drama', 'Drama', 'Romance', 'Animation', \"Children's\", 'Action', 'Comedy', 'Musical', 'Sci-Fi', 'Action', 'Romance', 'Thriller', 'Animation', \"Children's\", 'Musical', 'Comedy', 'Crime', 'Fantasy', 'Action', 'Comedy', 'Western', 'Action', 'Romance', 'Thriller', 'Action', 'Adventure', 'Comedy', 'Romance', 'Action', 'Sci-Fi', 'Drama', 'Adventure', \"Children's\", 'Action', 'Adventure', 'Crime', 'Drama', 'Thriller', 'Action', 'Comedy', 'War', 'Drama', 'Action', 'Comedy', 'Action', 'Crime', 'Drama', 'Drama', 'War', \"Children's\", 'Drama', 'Comedy', 'Crime', 'Horror', 'Action', 'Adventure', \"Children's\", 'Sci-Fi', \"Children's\", 'Comedy', 'Musical', 'Action', 'Adventure', 'Comedy', 'Action', 'Crime', 'Romance', \"Children's\", 'Comedy', 'Animation', \"Children's\", 'Comedy', 'Musical', 'Action', 'Sci-Fi', 'Thriller', 'Adventure', 'Drama', 'Western', 'Action', 'Adventure', 'Crime', 'Drama', 'Animation', \"Children's\", 'Musical', 'Animation', \"Children's\", 'Musical', 'Animation', \"Children's\", 'Animation', \"Children's\", 'Action', 'Adventure', 'Mystery', 'Action', 'Adventure', 'Fantasy', 'Action', 'Adventure', 'Romance', 'Thriller', 'Action', 'Sci-Fi', 'Animation', 'Sci-Fi', 'Drama', 'Action', 'Sci-Fi', 'War', 'Animation', \"Children's\", 'Musical', 'Comedy', 'Drama', 'Romance', 'Action', 'Thriller', 'Drama', 'Romance', 'Adventure', \"Children's\", 'Drama', 'Musical', 'Drama', 'Romance', 'War', 'Action', 'Adventure', 'Action', 'Adventure', 'Romance', 'War', \"Children's\", 'Comedy', \"Children's\", 'Drama', 'Animation', \"Children's\", 'Musical', 'Animation', \"Children's\", \"Children's\", 'Comedy', 'Musical', 'Animation', \"Children's\", 'Musical', 'Animation', \"Children's\", 'Musical', 'Animation', \"Children's\", 'Action', 'Thriller', 'Action', 'Adventure', 'Animation', \"Children's\", 'Comedy', 'Adventure', \"Children's\", 'Comedy', 'Fantasy', 'Crime', 'Thriller', 'Drama', 'Romance', 'War', \"Children's\", 'Drama', 'Fantasy', 'Sci-Fi', 'Comedy', 'Fantasy', 'Drama', 'Drama', 'Drama', 'Action', 'Adventure', 'Drama', 'Sci-Fi', 'War', 'Action', 'Adventure', 'Comedy', 'Romance', 'Action', 'Adventure', 'Action', 'Sci-Fi', 'Thriller', 'War', 'Action', 'Western', 'Drama', 'Action', 'Adventure', 'Romance', 'Sci-Fi', 'War', 'Action', 'Adventure', 'Comedy', 'Horror', 'Sci-Fi', 'Comedy', 'Crime', 'Action', 'Sci-Fi', 'Thriller', 'Action', 'Drama', 'War', 'Drama', 'Adventure', 'Comedy', 'Drama', 'Drama', 'Adventure', 'Animation', 'Sci-Fi', 'Thriller', 'Action', 'Adventure', 'Animation', \"Children's\", 'Musical', 'Action', 'Adventure', 'Film-Noir', 'Thriller', 'Drama', 'Romance', \"Children's\", 'Comedy', 'Action', 'Adventure', 'Comedy', 'Crime', 'Action', 'Comedy', 'Western', 'Action', 'Comedy', 'Western', 'Action', 'Horror', 'Action', 'Comedy', 'Sci-Fi', 'War', 'Crime', 'Drama', 'Sci-Fi', 'Action', 'Romance', 'War', 'Drama', 'Action', 'Adventure', 'Thriller', 'Comedy', 'Crime', 'Action', 'Sci-Fi', 'Action', 'Adventure', 'Sci-Fi', 'Thriller', 'Action', 'Adventure', 'Thriller', 'Action', 'Adventure', 'Crime', 'Action', 'Adventure', 'Comedy', 'Sci-Fi', 'Action', 'Adventure', 'Action', 'Adventure', 'Sci-Fi', 'Thriller', 'Action', 'Adventure', 'Crime', 'Film-Noir', 'Mystery', 'Thriller', 'Drama', 'Drama', 'Romance', 'Drama', 'Romance', \"Children's\", 'Drama', 'Fantasy', 'Action', 'Adventure', 'Sci-Fi', 'War', 'Drama', 'Drama', 'Drama', 'Romance', 'Thriller', 'Animation', \"Children's\", 'Musical', 'Action', 'Horror', 'Sci-Fi', \"Children's\", 'Comedy', 'Fantasy', 'Comedy', 'Crime', 'Drama', 'Mystery', 'Drama', 'Romance', 'Comedy', 'Crime', 'Mystery', 'Thriller', 'Action', \"Children's\", 'Comedy', 'Drama', 'Action', 'Drama', 'Romance', 'Crime', 'Drama', 'Crime', 'Drama', 'Mystery', 'Thriller', 'Drama', 'Action', 'Drama', 'Sci-Fi', 'Thriller', 'Action', 'Sci-Fi', 'Animation', \"Children's\", 'Action', 'Comedy', 'Crime', 'Drama', 'Action', 'Drama', 'Drama', 'Drama', 'War', 'Drama', 'Adventure', \"Children's\", 'Fantasy', 'Comedy', 'Drama', 'Action', 'Comedy', 'Crime', 'Drama', 'Action', 'Comedy', 'Crime', 'Drama', 'Action', 'Comedy', 'Crime', 'Drama', 'Adventure', \"Children's\", 'Fantasy', 'Action', 'Adventure', 'Romance', \"Children's\", 'Comedy', 'Animation', \"Children's\", 'Action', 'Drama', 'Drama', 'Romance', 'Fantasy', 'Sci-Fi', 'Drama', 'Romance', 'Action', 'Drama', 'War', \"Children's\", 'Comedy', \"Children's\", 'Comedy', 'Adventure', \"Children's\", 'Comedy', 'Fantasy', 'Sci-Fi', 'Drama', 'Mystery', 'Animation', \"Children's\", 'Comedy', 'Musical', 'Animation', \"Children's\", 'Comedy', 'Musical', 'Romance', 'Animation', \"Children's\", 'Comedy', 'Musical', 'Romance', \"Children's\", 'Comedy', \"Children's\", 'Musical', 'Animation', \"Children's\", 'Animation', \"Children's\", 'Fantasy', 'Musical', 'Animation', \"Children's\", 'Animation', \"Children's\", 'Adventure', \"Children's\", 'Fantasy', 'Sci-Fi', 'Animation', \"Children's\", 'Musical', 'Comedy', 'Fantasy', 'Romance', 'Action', 'Adventure', 'Fantasy', 'Sci-Fi', 'Action', 'Adventure', 'Adventure', 'Animation', \"Children's\", 'Sci-Fi', 'Animation', \"Children's\", 'Adventure', 'Comedy', 'Animation', \"Children's\", 'Animation', \"Children's\", \"Children's\", 'Fantasy', 'Sci-Fi', 'Animation', \"Children's\", 'Comedy', 'Animation', \"Children's\", 'Comedy', 'Adventure', 'Fantasy', 'Romance', 'Comedy', 'Drama', 'Romance', 'Action', 'Adventure', 'Adventure', \"Children's\", 'Fantasy', 'Action', 'Adventure', 'Horror', 'Action', 'Adventure', 'Fantasy', 'Action', 'Crime', 'Drama', 'Comedy', 'Drama', 'Romance', 'Action', 'Comedy', 'Fantasy', 'Crime', 'Drama', 'Action', 'Crime', 'Thriller', 'Drama', 'Romance', 'Animation', \"Children's\", 'Drama', 'Drama', 'Animation', \"Children's\", 'Comedy', 'Action', 'Adventure', 'Drama', 'Action', 'Adventure', 'Comedy', \"Children's\", 'Comedy', 'Crime', 'Thriller', 'Animation', 'Musical', 'Action', 'War', 'Action', 'War', 'Action', 'Adventure', 'Mystery', 'Action', 'Adventure', 'Drama', 'Action', 'Adventure', 'Drama', 'Adventure', \"Children's\", 'Sci-Fi', 'Adventure', 'Comedy', 'Comedy', 'Crime', 'Thriller', 'Drama', 'Action', 'Crime', 'Action', 'Adventure', 'Horror', 'Thriller', 'Comedy', 'Fantasy', 'Action', 'Adventure', 'Fantasy', 'Sci-Fi', 'Drama', 'Mystery', 'Action', 'Sci-Fi', 'Western', 'Comedy', 'Action', 'Adventure', 'Comedy', 'Action', 'Adventure', 'Comedy', 'Drama', 'Action', 'Thriller', 'Crime', 'Drama', 'Thriller', 'Comedy', 'Fantasy', 'Action', 'Sci-Fi', 'Action', 'Horror', 'Thriller', 'Comedy', 'Drama', 'Action', 'Drama', 'Fantasy', 'Romance', 'Action', 'Drama', 'Action', 'Adventure', 'Sci-Fi', 'Thriller', 'Action', 'Action', 'Action', 'Western', \"Children's\", 'Comedy', 'Drama', 'Adventure', 'Animation', 'Film-Noir', 'Action', 'Action', 'Animation', \"Children's\", 'Comedy', 'Drama', 'Romance', 'Adventure', 'Comedy', 'Sci-Fi', 'Comedy', 'Crime', 'Drama', 'Comedy', 'Drama', 'Action', 'Drama', 'Romance', 'Thriller', 'Drama', 'Adventure', 'Romance', 'Sci-Fi', \"Children's\", 'Comedy', \"Children's\", 'Comedy', \"Children's\", 'Comedy', \"Children's\", 'Comedy', 'Action', 'Drama', 'Action', \"Children's\", 'Fantasy', 'Action', \"Children's\", 'Fantasy', 'Action', \"Children's\", 'Fantasy', 'Comedy', 'Drama', 'War', 'Adventure', 'Drama', 'Thriller', 'Adventure', 'Fantasy', 'Romance', 'Adventure', 'Fantasy', 'Adventure', 'Western', 'Comedy', 'Drama', 'Action', 'Sci-Fi', 'Thriller', 'Action', 'Drama', 'Action', 'Thriller', 'Action', 'Action', 'Action', 'Drama', 'Romance', 'Action', 'Adventure', 'Sci-Fi', 'Action', 'Sci-Fi', 'Action', 'Sci-Fi', 'Action', 'Adventure', 'Romance', 'Thriller', 'Drama', 'Animation', \"Children's\", 'Comedy', 'Action', 'Drama', 'War', 'Action', 'Sci-Fi', 'Action', 'Adventure', 'Fantasy', 'Action', 'Adventure', 'Fantasy', 'Comedy', 'Animation', \"Children's\", 'Comedy', 'Action', 'Adventure', 'Thriller', 'Drama', 'Romance', 'Drama', 'Sci-Fi', \"Children's\", 'Comedy', 'Drama', 'Crime', 'Thriller', 'Sci-Fi', 'Thriller', 'Action', 'Drama', 'War', 'Drama', 'Thriller', 'Action', 'Thriller', 'Action', 'Crime', 'Sci-Fi', 'Comedy', 'Action', 'Adventure', 'Fantasy', 'Sci-Fi', 'Drama', 'Action', 'Adventure', 'Sci-Fi', 'Comedy', 'Horror', 'Comedy', 'Romance', 'War', 'Animation', \"Children's\", 'Musical', 'Action', 'Comedy', 'Western', 'Action', 'Romance', 'Thriller', 'Action', 'Adventure', 'Comedy', 'Romance', 'Action', 'Sci-Fi', 'Action', 'Comedy', 'Action', 'Thriller', 'Action', 'Adventure', 'Sci-Fi', 'Drama', 'War', 'Animation', \"Children's\", 'Comedy', 'Musical', 'Action', 'Sci-Fi', 'Thriller', 'Action', 'Adventure', 'Crime', 'Drama', 'Drama', 'Thriller', 'Animation', \"Children's\", 'Musical', 'Animation', \"Children's\", 'Musical', 'Animation', \"Children's\", 'Action', 'Adventure', 'Mystery', 'Animation', 'Action', 'Adventure', 'Thriller', 'Animation', 'Sci-Fi', 'Comedy', 'Horror', 'Action', 'Crime', 'Drama', 'Horror', 'Adventure', \"Children's\", 'Drama', 'Musical', 'Action', 'Adventure', 'Animation', \"Children's\", 'Musical', 'Animation', \"Children's\", 'Animation', \"Children's\", 'Musical', 'Action', 'Thriller', 'Adventure', \"Children's\", 'Comedy', 'Fantasy', 'Comedy', 'Drama', 'War', \"Children's\", 'Drama', 'Fantasy', 'Sci-Fi', 'Action', 'Adventure', 'Sci-Fi', 'Thriller', 'Animation', 'Comedy', 'Comedy', 'Romance', 'Drama', 'Action', 'Adventure', 'Drama', 'Sci-Fi', 'War', 'Action', 'Adventure', 'Comedy', 'Romance', 'Action', 'Adventure', 'Action', 'Sci-Fi', 'Thriller', 'War', 'Sci-Fi', 'Action', 'Adventure', 'Romance', 'Sci-Fi', 'War', 'Action', 'Horror', 'Sci-Fi', 'Thriller', 'Action', 'Adventure', 'Comedy', 'Horror', 'Sci-Fi', 'Horror', 'Thriller', 'Action', 'Comedy', 'Musical', 'Comedy', 'Crime', 'Action', 'Sci-Fi', 'Thriller', 'Horror', 'Adventure', 'Comedy', 'Drama', 'Action', 'Adventure', 'Comedy', 'Horror', 'Adventure', 'War', 'Comedy', 'Romance', 'Comedy', 'Sci-Fi', 'Action', 'Adventure', 'Action', 'Drama', 'Romance', 'Comedy', 'Horror', 'Animation', \"Children's\", 'Musical', 'Action', 'Adventure', 'Sci-Fi', 'Comedy', 'Romance', 'Horror', 'Horror', 'Horror', 'Sci-Fi', 'Horror', 'Romance', 'Horror', 'Horror', 'Horror', 'Action', 'Adventure', 'Sci-Fi', 'Action', 'Thriller', 'Action', 'Adventure', 'Sci-Fi', 'Action', 'Adventure', 'Sci-Fi', 'Action', 'Adventure', 'Sci-Fi', 'Action', 'Adventure', 'Sci-Fi', 'Action', 'Adventure', 'Sci-Fi', 'Action', 'Adventure', 'Sci-Fi', 'Action', 'Horror', 'Horror', 'Thriller', 'Action', 'Comedy', 'Action', 'Sci-Fi', 'Action', 'Adventure', 'Thriller', 'Action', 'Sci-Fi', 'Thriller', 'Action', 'Adventure', 'Comedy', 'Sci-Fi', 'Drama', 'Sci-Fi', 'Action', 'Mystery', 'Romance', 'Thriller', 'Action', 'Thriller', 'Action', 'Thriller', 'Horror', 'Mystery', 'Thriller', 'Crime', 'Horror', 'Mystery', 'Thriller', 'Drama', 'Horror', 'Drama', 'Horror', 'Thriller', 'Action', 'Romance', 'Thriller', 'Comedy', 'Horror', 'Action', 'Comedy', 'Musical', 'Action', 'Thriller', 'Mystery', 'Sci-Fi', 'Thriller', 'Comedy', 'Action', 'Comedy', 'Crime', 'Drama', 'Drama', 'Horror', 'Horror', 'Horror', 'Thriller', 'Horror', 'Action', 'Comedy', 'Crime', 'Drama', 'Action', 'Comedy', 'Crime', 'Drama', 'Action', 'Comedy', 'Crime', 'Drama', 'Comedy', 'Horror', 'Fantasy', 'Sci-Fi', 'Action', 'Drama', 'War', 'Comedy', 'Documentary', 'Animation', \"Children's\", 'Comedy', 'Musical', 'Animation', \"Children's\", 'Comedy', 'Musical', 'Romance', 'Animation', \"Children's\", 'Comedy', 'Musical', 'Romance', 'Animation', \"Children's\", 'Animation', \"Children's\", 'Fantasy', 'Musical', 'Animation', \"Children's\", 'Action', 'Adventure', 'Sci-Fi', 'Animation', \"Children's\", 'Musical', 'Adventure', \"Children's\", 'Action', 'Adventure', 'Animation', \"Children's\", 'Animation', \"Children's\", 'Horror', 'Thriller', 'Comedy', 'Comedy', 'Comedy', 'Comedy', 'Drama', 'Drama', 'Horror', 'Mystery', 'Thriller', 'Action', 'Thriller', 'Animation', \"Children's\", 'Comedy', 'Action', 'Adventure', 'Horror', 'Action', 'Adventure', 'Horror', 'Action', 'Action', 'Sci-Fi', 'Animation', 'Musical', 'Action', 'Adventure', 'Mystery', 'Comedy', 'Horror', 'Sci-Fi', 'Horror', 'Sci-Fi', 'Horror', 'Sci-Fi', 'Action', 'Thriller', 'Comedy', 'Romance', 'Action', 'Sci-Fi', 'Thriller', 'Western', 'Action', 'Sci-Fi', 'Action', 'Crime', 'Action', 'Sci-Fi', 'Thriller', 'Comedy', 'Comedy', 'Action', 'Sci-Fi', 'Thriller', 'Comedy', 'Fantasy', 'Action', 'Adventure', 'Fantasy', 'Sci-Fi', 'Horror', 'Romance', 'Horror', 'Action', 'Adventure', 'Sci-Fi', 'Horror', 'Horror', 'Horror', 'Horror', 'Horror', 'Horror', 'Action', 'Sci-Fi', 'War', 'Comedy', 'Animation', \"Children's\", 'Action', 'Crime', 'Romance', 'Comedy', 'Action', 'Comedy', 'Sci-Fi', 'Thriller', 'Animation', 'Comedy', 'Thriller', 'Horror', 'Horror', 'Thriller', 'Comedy', 'Horror', 'Comedy', 'Horror', 'Horror', 'Thriller', 'Action', 'Adventure', \"Children's\", 'Comedy', 'Comedy', 'Horror', 'Musical', 'Animation', \"Children's\", 'Thriller', 'Comedy', 'Horror', 'Horror', 'Horror', 'Comedy', 'Thriller', 'Comedy', 'Drama', 'Comedy', 'Comedy', 'Romance', 'Comedy', 'Action', 'Action', 'Action', 'Drama', 'Drama', 'Horror', 'Adventure', 'Animation', 'Film-Noir', 'Action', 'Action', 'Action', 'Action', 'Horror', 'Romance', 'Action', 'Thriller', 'Animation', \"Children's\", 'Comedy', 'Comedy', 'Drama', 'Adventure', 'Comedy', 'Sci-Fi', 'Drama', 'Mystery', 'Thriller', 'Action', 'Comedy', 'Animation', \"Children's\", 'Comedy', 'Horror', 'Horror', 'Mystery', 'Thriller', 'Comedy', 'Drama', 'Drama', 'Thriller', 'Comedy', 'Adventure', 'Drama', 'Thriller', 'Drama', 'Sci-Fi', 'Drama', 'Thriller', 'Action', 'Sci-Fi', 'Thriller', 'Comedy', 'Comedy', 'Action', 'Thriller', 'Action', 'Action', 'Action', 'Action', 'Romance', 'Sci-Fi', 'Action', 'Crime', 'Drama', 'Sci-Fi', 'Action', 'Crime', 'Action', 'Crime', 'Comedy', 'Action', 'Sci-Fi', 'Sci-Fi', 'Thriller', 'Action', 'Adventure', 'Fantasy', 'Comedy', 'Horror', 'Horror', 'Comedy', 'Animation', \"Children's\", 'Comedy', 'Comedy', 'Animation', \"Children's\", 'Comedy', 'Musical', 'Animation', \"Children's\", 'Action', 'Adventure', 'Romance', 'Sci-Fi', 'War', 'Adventure', 'Animation', 'Sci-Fi', 'Thriller', 'Crime', 'Horror', 'Mystery', 'Thriller', 'Animation', \"Children's\", 'Animation', \"Children's\", 'Animation', \"Children's\", 'Comedy', 'Animation', 'Musical', 'Animation', 'Comedy', 'Action', 'Sci-Fi', 'Western', 'Animation', \"Children's\", 'Animation', \"Children's\", 'Adventure', 'Animation', 'Film-Noir', 'Action', 'Adventure', 'Animation', 'Drama', 'War', 'Action', 'Comedy', 'Action', 'Sci-Fi', 'Adventure', 'Animation', 'Sci-Fi', 'Comedy', 'Animation', \"Children's\", 'Comedy', 'Adventure', \"Children's\", 'Fantasy', 'Action', 'Crime', 'Thriller', 'Comedy', 'Drama', 'Romance', 'Drama', 'Thriller', 'Action', 'Comedy', 'Drama', 'Adventure', 'Sci-Fi', 'Drama', 'Sci-Fi', \"Children's\", 'Comedy', 'Drama', 'Comedy', 'Romance', 'Comedy', 'Drama', 'Crime', 'Thriller', 'Crime', 'Thriller', 'Comedy', 'Adventure', \"Children's\", 'Fantasy', 'Action', 'Comedy', 'Crime', 'Horror', 'Thriller', 'Sci-Fi', 'Thriller', 'Drama', 'Thriller', 'Comedy', 'Drama', 'Thriller', 'War', 'Documentary', 'Comedy', 'Horror', 'Sci-Fi', 'Action', 'Crime', 'Sci-Fi', 'Comedy', 'Drama', 'Action', 'Adventure', 'Fantasy', 'Sci-Fi', 'Crime', 'Drama', 'Romance', 'Thriller', 'Crime', 'Drama', 'Action', 'Adventure', 'Sci-Fi', \"Children's\", 'Comedy', 'Fantasy', 'Thriller', 'Action', 'Comedy', 'Musical', 'Sci-Fi', 'Action', 'Adventure', 'Sci-Fi', 'Comedy', 'Comedy', 'Romance', 'Comedy', 'Crime', 'Fantasy', 'Action', 'Romance', 'Thriller', 'Crime', 'Drama', 'Comedy', 'Sci-Fi', 'Action', 'Sci-Fi', 'Action', 'Thriller', 'Action', 'Adventure', 'Sci-Fi', 'Action', 'Crime', 'Drama', 'Crime', 'Thriller', 'Film-Noir', 'Sci-Fi', \"Children's\", 'Comedy', 'Musical', 'Action', 'Crime', 'Romance', 'Documentary', 'Action', 'Sci-Fi', 'Thriller', 'Action', 'Adventure', 'Crime', 'Drama', 'Drama', 'Thriller', 'Animation', \"Children's\", 'Musical', 'Crime', 'Drama', 'Thriller', 'Action', 'Adventure', 'Animation', 'Horror', 'Sci-Fi', 'Action', 'Adventure', 'Mystery', 'Crime', 'Thriller', 'Animation', \"Children's\", 'Musical', 'Comedy', 'Sci-Fi', 'Adventure', 'Sci-Fi', 'Animation', 'Animation', 'Comedy', 'Thriller', 'Action', 'Sci-Fi', 'Thriller', 'Sci-Fi', 'War', 'Action', 'Sci-Fi', 'War', 'Comedy', 'Fantasy', 'Romance', 'Sci-Fi', 'Action', 'Crime', 'Drama', 'Crime', 'Drama', 'Romance', 'Thriller', 'Mystery', 'Thriller', 'Mystery', 'Thriller', 'Drama', 'Thriller', 'Comedy', 'Mystery', 'Romance', 'Thriller', 'Comedy', 'Romance', 'Drama', 'Mystery', 'Sci-Fi', 'Thriller', 'Comedy', 'Horror', 'Sci-Fi', 'Adventure', \"Children's\", 'Fantasy', 'Adventure', \"Children's\", 'Fantasy', 'Sci-Fi', 'Action', 'Thriller', 'Comedy', 'Drama', 'Adventure', \"Children's\", 'Comedy', 'Fantasy', 'Comedy', 'Sci-Fi', 'Crime', 'Thriller', 'Drama', 'War', \"Children's\", 'Drama', 'Fantasy', 'Sci-Fi', 'Action', 'Adventure', 'Sci-Fi', 'Thriller', 'Action', 'Adventure', 'Sci-Fi', 'Thriller', 'Animation', 'Comedy', 'Comedy', 'Crime', 'Drama', 'Film-Noir', 'Comedy', 'Romance', 'Documentary', 'Action', 'Adventure', 'Drama', 'Sci-Fi', 'War', 'Sci-Fi', 'Action', 'Sci-Fi', 'Thriller', 'War', 'Adventure', 'War', 'Sci-Fi', 'Mystery', 'Thriller', 'Crime', 'Drama', 'Action', 'Horror', 'Sci-Fi', 'Thriller', 'Action', 'Adventure', 'Comedy', 'Horror', 'Sci-Fi', 'Action', 'Thriller', 'Horror', 'Thriller', 'Action', 'Crime', 'Drama', 'Action', 'Drama', 'War', 'Animation', 'Comedy', 'Crime', 'Drama', 'Thriller', 'Comedy', 'Crime', 'Action', 'Sci-Fi', 'Thriller', 'Comedy', 'Drama', 'Crime', 'Film-Noir', 'Thriller', 'Thriller', 'Film-Noir', 'Mystery', 'Thriller', 'Horror', 'Comedy', 'Romance', 'Film-Noir', 'Thriller', 'Comedy', 'Mystery', 'Thriller', 'Adventure', 'Animation', 'Sci-Fi', 'Thriller', 'Drama', 'Sci-Fi', 'Crime', 'Action', 'Horror', 'Sci-Fi', 'Thriller', 'Thriller', 'Action', 'Adventure', 'Sci-Fi', 'Action', 'Adventure', 'Sci-Fi', 'Action', 'Adventure', 'Sci-Fi', 'Action', 'Adventure', 'Sci-Fi', 'Action', 'Horror', 'Crime', 'Drama', 'Sci-Fi', 'Horror', 'Thriller', 'Comedy', 'Crime', 'Comedy', 'Action', 'Sci-Fi', 'Action', 'Adventure', 'Sci-Fi', 'Thriller', 'Action', 'Sci-Fi', 'Thriller', 'Action', 'Adventure', 'Comedy', 'Sci-Fi', 'Drama', 'Sci-Fi', 'Action', 'Thriller', 'Crime', 'Film-Noir', 'Mystery', 'Thriller', 'Mystery', 'Thriller', 'Crime', 'Horror', 'Mystery', 'Thriller', 'Drama', 'Sci-Fi', 'Thriller', 'Drama', 'Romance', 'Thriller', 'Action', 'Adventure', 'Sci-Fi', 'War', 'Action', 'Horror', 'Sci-Fi', 'Crime', 'Drama', 'Comedy', 'Drama', 'Film-Noir', 'Sci-Fi', 'Thriller', 'Comedy', 'Drama', 'Crime', 'Drama', 'Mystery', 'Thriller', 'Comedy', 'Thriller', 'Action', 'Drama', 'Sci-Fi', 'Thriller', 'Comedy', 'Drama', 'Mystery', 'Sci-Fi', 'Thriller', 'Action', 'Crime', 'Romance', 'Action', 'Crime', 'Drama', 'Thriller', 'Comedy', 'Drama', 'Comedy', 'Sci-Fi', 'Adventure', \"Children's\", 'Fantasy', 'Horror', 'Thriller', 'Horror', 'Action', 'Comedy', 'Crime', 'Drama', 'Adventure', \"Children's\", 'Fantasy', 'Sci-Fi', 'Thriller', 'Comedy', 'Sci-Fi', 'Comedy', 'Sci-Fi', 'Western', 'Fantasy', 'Sci-Fi', 'Adventure', \"Children's\", 'Comedy', 'Fantasy', 'Sci-Fi', 'Comedy', 'Documentary', \"Children's\", 'Sci-Fi', 'Comedy', 'Fantasy', 'Romance', 'Action', 'Adventure', 'Fantasy', 'Sci-Fi', 'Comedy', 'Romance', 'Drama', 'Sci-Fi', 'Horror', 'Thriller', 'Horror', \"Children's\", 'Fantasy', 'Sci-Fi', 'Comedy', 'Horror', 'Comedy', 'Horror', 'Horror', 'Thriller', 'Comedy', 'Fantasy', 'Thriller', 'Action', 'Adventure', 'Fantasy', 'Drama', 'Thriller', 'War', 'Comedy', 'Action', 'Comedy', 'Fantasy', 'Comedy', 'Romance', 'Crime', 'Drama', 'Action', 'Crime', 'Thriller', 'Action', 'Horror', 'Sci-Fi', 'Thriller', 'Comedy', 'Drama', 'Mystery', 'Sci-Fi', 'Action', 'Adventure', 'Sci-Fi', 'Thriller', 'War', 'Animation', \"Children's\", 'Comedy', \"Children's\", 'Comedy', 'Comedy', 'Crime', 'Thriller', 'Action', 'Sci-Fi', 'Comedy', 'Comedy', 'Romance', 'Comedy', 'Sci-Fi', 'Action', 'Drama', 'Action', 'Drama', 'Action', 'Drama', 'Drama', 'Thriller', 'Horror', 'Sci-Fi', 'Horror', 'Sci-Fi', 'Comedy', 'Romance', 'Crime', 'Action', 'Sci-Fi', 'Thriller', 'Western', 'Action', 'Adventure', 'Sci-Fi', 'Action', 'Sci-Fi', 'Action', 'Sci-Fi', 'Action', 'Sci-Fi', 'Comedy', 'Crime', 'Thriller', 'Horror', 'Sci-Fi', 'Thriller', 'Horror', 'Sci-Fi', 'Thriller', 'Action', 'Sci-Fi', 'Thriller', 'Comedy', 'Action', 'Sci-Fi', 'Thriller', 'Action', 'Adventure', 'Horror', 'Thriller', 'Action', 'Adventure', 'Fantasy', 'Sci-Fi', 'Action', 'Adventure', 'Sci-Fi', 'Action', 'Adventure', 'Sci-Fi', 'Action', 'Adventure', 'Sci-Fi', 'Action', 'Adventure', 'Sci-Fi', 'Comedy', 'Horror', 'Musical', 'Sci-Fi', 'Action', 'Crime', 'Romance', 'Action', 'Comedy', 'Sci-Fi', 'Thriller', 'Drama', 'Action', 'Sci-Fi', 'Thriller', 'Crime', 'Film-Noir', 'Animation', \"Children's\", 'Thriller', 'Comedy', 'Fantasy', 'Action', 'Sci-Fi', 'Comedy', 'Drama', 'Adventure', 'Thriller', 'Action', 'Drama', 'Fantasy', 'Romance', 'Horror', 'Sci-Fi', 'Action', 'Crime', 'Drama', 'Action', 'Adventure', 'Sci-Fi', 'Thriller', 'Crime', 'Thriller', 'Action', 'Crime', 'Thriller', 'Adventure', 'Fantasy', 'Sci-Fi', 'Comedy', 'Action', 'Crime', 'Sci-Fi', 'Comedy', 'Action', 'Adventure', 'Animation', 'Sci-Fi', 'Mystery', 'Romance', 'Thriller', 'Comedy', 'Adventure', 'Comedy', 'Sci-Fi', 'Thriller', 'Action', 'Adventure', 'Comedy', 'Crime', 'Comedy', 'Drama', 'Romance', 'Drama', 'Thriller', 'Adventure', 'Comedy', 'Sci-Fi', 'Comedy', 'Action', 'Thriller', 'Action', 'Crime', 'Action', 'Comedy', 'Crime', 'Drama', 'Action', 'Sci-Fi', 'Documentary', 'Comedy', 'Romance', \"Children's\", 'Comedy', 'Drama', 'Thriller', 'Crime', 'Film-Noir', 'Drama', 'Sci-Fi', 'Sci-Fi', 'Thriller', 'Adventure', 'Fantasy', 'Romance', 'Adventure', 'Fantasy', 'Drama', 'Sci-Fi', 'Thriller', 'Comedy', 'Drama', 'Thriller', 'Comedy', 'Crime', 'Drama', 'Comedy', 'Action', 'Sci-Fi', 'Thriller', 'Thriller', 'Comedy', 'Drama', 'Action', 'Horror', 'Sci-Fi', 'Action', 'Drama', 'Comedy', 'Action', 'Thriller', 'Action', 'Romance', 'Sci-Fi', 'Action', 'Adventure', 'Sci-Fi', 'Adventure', 'Drama', 'Romance', 'Sci-Fi', 'Drama', 'Sci-Fi', 'Crime', 'Drama', 'Sci-Fi', 'Action', 'Sci-Fi', 'Action', 'Sci-Fi', 'Horror', 'Thriller', 'Action', 'Comedy', 'Crime', 'Drama', 'Animation', \"Children's\", 'Comedy', 'Action', 'Crime', 'Thriller', 'Adventure', 'Crime', 'Sci-Fi', 'Thriller', 'Comedy', 'Action', 'Sci-Fi', 'Comedy', 'Action', 'Adventure', 'Fantasy', 'Drama', 'Fantasy', 'Drama', 'Thriller', 'Animation', \"Children's\", 'Comedy', 'Comedy', 'Romance', 'Comedy', 'Drama', 'Comedy', 'Comedy', 'Romance', 'Comedy', 'Drama', 'Romance', 'Drama', 'Thriller', 'Comedy', 'Comedy', 'Romance', 'Comedy', 'Drama', 'Animation', \"Children's\", 'Musical', 'Romance', 'Drama', 'Comedy', 'Romance', 'Drama', 'Romance', 'Drama', 'Action', 'Thriller', 'Comedy', 'Comedy', 'Romance', 'Comedy', 'Romance', 'Comedy', 'Comedy', 'Action', 'Adventure', 'Mystery', 'Sci-Fi', 'Drama', 'Thriller', 'War', 'Action', 'Adventure', 'Drama', 'Romance', 'Sci-Fi', 'Thriller', 'Comedy', 'Drama', 'Romance', 'Action', 'Crime', 'Sci-Fi', 'Drama', 'Romance', 'Action', 'Adventure', 'Comedy', 'Drama', 'Thriller', 'Comedy', 'Comedy', 'Comedy', 'Romance', 'Comedy', 'Romance', 'Comedy', 'Comedy', 'Romance', 'Action', 'Adventure', 'Fantasy', 'Sci-Fi', 'Drama', 'Comedy', 'Comedy', 'Romance', 'Comedy', 'Action', 'Adventure', 'Western', 'Action', \"Children's\", 'Comedy', 'Fantasy', 'Drama', 'Comedy', 'Drama', 'Comedy', 'Romance', 'Comedy', 'Drama', 'Mystery', 'Thriller', 'Comedy', 'Romance', 'War', 'Drama', 'Romance', 'Animation', \"Children's\", 'Musical', 'Action', 'Comedy', 'Western', 'Comedy', 'Action', 'Romance', 'Thriller', 'Comedy', 'Romance', 'Action', 'Adventure', 'Comedy', 'Romance', 'Drama', 'Drama', 'Comedy', 'Western', 'Drama', 'Comedy', 'Comedy', 'Western', 'Comedy', 'Sci-Fi', 'Comedy', 'Romance', 'Comedy', 'Comedy', 'Comedy', 'Drama', 'Drama', 'Thriller', 'Adventure', \"Children's\", 'Drama', 'Crime', 'Drama', 'Thriller', 'Action', 'Comedy', 'War', 'Comedy', 'Comedy', 'Romance', 'Comedy', 'Drama', 'Action', 'Adventure', 'Sci-Fi', 'Comedy', 'Western', 'Drama', 'Comedy', 'Romance', 'Comedy', 'Action', 'Drama', 'Action', 'Drama', 'Mystery', 'Comedy', 'Drama', 'Drama', 'Comedy', 'Romance', 'Thriller', 'Comedy', 'Comedy', 'Romance', 'Comedy', \"Children's\", 'Comedy', 'Comedy', 'Romance', 'Thriller', 'Animation', \"Children's\", 'Comedy', 'Musical', 'Action', 'Sci-Fi', 'Thriller', 'Action', 'Adventure', 'Crime', 'Drama', 'Drama', 'Thriller', 'Animation', \"Children's\", 'Musical', 'Comedy', 'Romance', 'Drama', 'Romance', 'Adventure', \"Children's\", 'Comedy', 'Drama', 'Thriller', 'Action', 'Adventure', 'Mystery', 'Adventure', 'Animation', \"Children's\", 'Comedy', 'Fantasy', 'Action', 'Comedy', 'Romance', 'Comedy', 'Drama', 'Horror', 'Action', 'Adventure', 'Romance', 'Thriller', 'Comedy', 'Crime', 'Comedy', 'Drama', 'Action', 'Sci-Fi', 'War', 'Comedy', 'Comedy', 'Fantasy', 'Romance', 'Sci-Fi', 'Comedy', 'Romance', 'Comedy', 'Comedy', 'Drama', 'Thriller', 'Comedy', 'Romance', 'Drama', 'Romance', 'Drama', 'Drama', 'Thriller', \"Children's\", 'Drama', 'Adventure', \"Children's\", 'Comedy', \"Children's\", 'Comedy', \"Children's\", 'Comedy', 'Musical', 'Musical', 'Adventure', \"Children's\", 'Comedy', 'Fantasy', 'Comedy', 'Crime', 'Drama', 'Musical', 'Romance', 'Drama', 'War', 'Mystery', 'Thriller', \"Children's\", 'Drama', 'Fantasy', 'Sci-Fi', 'Action', 'Romance', 'Action', 'Romance', 'Comedy', 'Fantasy', 'Comedy', 'Crime', 'Drama', 'Film-Noir', 'Drama', 'Action', 'Adventure', 'Drama', 'Sci-Fi', 'War', 'Action', 'Adventure', 'Action', 'Western', 'Action', 'Comedy', 'Musical', 'Action', 'Sci-Fi', 'Thriller', 'Drama', 'Drama', 'Romance', 'Adventure', 'Comedy', 'Drama', 'Comedy', 'Romance', 'Comedy', 'Sci-Fi', 'Drama', 'Comedy', 'Action', 'Adventure', 'Drama', 'Musical', 'War', 'Drama', 'Comedy', 'Romance', 'Horror', 'Action', 'Thriller', 'Action', 'Adventure', 'Sci-Fi', 'Comedy', 'Musical', 'Romance', 'Comedy', 'Musical', 'Romance', 'Action', 'Horror', 'Action', 'Horror', 'Comedy', 'Action', 'Comedy', 'Sci-Fi', 'War', 'Drama', 'Romance', 'Comedy', 'Comedy', 'Romance', 'Mystery', 'Thriller', 'Comedy', 'Comedy', 'Romance', 'Comedy', 'Comedy', 'Romance', 'Comedy', 'Drama', 'Romance', 'Comedy', 'Comedy', 'Romance', 'Action', 'Adventure', 'Sci-Fi', 'Thriller', 'Action', 'Romance', 'Thriller', 'Comedy', 'Romance', 'Drama', 'Sci-Fi', 'Action', 'Drama', 'War', \"Children's\", 'Comedy', 'Comedy', 'Romance', 'Action', 'Mystery', 'Romance', 'Thriller', 'Action', 'Thriller', 'Mystery', 'Thriller', 'Comedy', 'Horror', 'Mystery', 'Thriller', 'Crime', 'Horror', 'Mystery', 'Thriller', 'Comedy', 'Drama', 'Drama', 'Comedy', 'Mystery', 'Comedy', 'Drama', 'Comedy', 'Crime', 'Drama', 'Mystery', \"Children's\", 'Comedy', 'Drama', 'Romance', 'Action', 'Romance', 'Thriller', 'Comedy', 'Romance', 'Adventure', 'Sci-Fi', 'Thriller', 'Comedy', 'Drama', 'Action', 'Drama', 'Romance', 'Drama', 'Action', 'Drama', 'Thriller', 'Action', 'Drama', 'Sci-Fi', 'Thriller', 'Drama', 'Comedy', 'Comedy', 'Drama', 'Romance', 'Action', 'Adventure', 'Sci-Fi', 'Thriller', 'Comedy', 'Musical', 'Romance', 'Action', 'Drama', 'Drama', 'Drama', 'Comedy', 'Drama', 'Drama', 'Comedy', 'Comedy', 'Drama', 'Horror', 'Thriller', 'Horror', 'Comedy', 'Horror', 'Comedy', 'Horror', 'Comedy', 'Sci-Fi', 'Comedy', 'Sci-Fi', 'Western', \"Children's\", 'Comedy', 'Drama', 'Romance', \"Children's\", 'Comedy', \"Children's\", 'Comedy', 'Sci-Fi', 'Adventure', \"Children's\", 'Comedy', 'Fantasy', 'Sci-Fi', \"Children's\", 'Drama', 'Animation', \"Children's\", 'Comedy', 'Musical', 'Romance', \"Children's\", 'Comedy', 'Comedy', 'Fantasy', 'Romance', 'Drama', 'War', 'Comedy', 'Comedy', 'Comedy', 'Animation', \"Children's\", 'Comedy', 'Comedy', 'Drama', 'Romance', 'Drama', 'Romance', 'Drama', 'Romance', 'Comedy', 'Fantasy', 'Comedy', 'Drama', 'Romance', 'Comedy', 'Drama', 'Comedy', 'Comedy', 'Drama', 'Romance', 'Comedy', 'Romance', 'Comedy', 'Comedy', 'Drama', 'Romance', 'Comedy', 'Romance', 'Crime', 'Drama', 'Drama', 'Drama', 'Romance', 'Comedy', 'Drama', 'Drama', 'Drama', 'Romance', 'Comedy', 'Comedy', 'Romance', 'Comedy', 'Drama', 'Animation', \"Children's\", 'Comedy', 'Comedy', 'Romance', 'Comedy', 'Comedy', 'Crime', 'Comedy', 'Drama', 'Action', 'Action', 'War', 'Action', 'Adventure', 'Comedy', 'Romance', 'Comedy', 'Sci-Fi', 'Action', 'Drama', 'Action', 'Drama', 'Action', 'Drama', 'Comedy', 'Drama', 'Comedy', 'Comedy', 'Romance', 'Adventure', \"Children's\", 'Drama', 'Comedy', 'Drama', 'Horror', 'Comedy', 'Comedy', 'Romance', 'Adventure', 'Comedy', 'Comedy', 'Action', 'Adventure', 'Sci-Fi', 'Comedy', 'Drama', 'Comedy', 'Romance', 'Comedy', 'Fantasy', 'Action', 'Adventure', 'Fantasy', 'Sci-Fi', 'Comedy', 'Animation', 'Comedy', 'Action', 'Sci-Fi', 'Western', 'Comedy', 'Drama', 'Comedy', 'Horror', 'Comedy', 'Romance', 'Comedy', 'Horror', 'Musical', 'Comedy', 'Comedy', 'Comedy', 'Comedy', 'Comedy', 'Comedy', 'Fantasy', 'Comedy', 'Action', 'Romance', 'Thriller', 'Comedy', 'Romance', 'Adventure', 'Romance', 'Comedy', 'Drama', 'Drama', 'Mystery', 'Romance', 'Action', 'Thriller', 'Drama', 'War', 'Drama', 'Romance', 'Comedy', 'Action', 'Adventure', 'Sci-Fi', 'Thriller', 'Comedy', 'Drama', 'Romance', 'Adventure', 'Drama', 'Romance', \"Children's\", 'Comedy', 'Comedy', 'Comedy', 'Thriller', 'Thriller', 'Action', 'Thriller', 'Drama', 'Drama', 'Thriller', 'Comedy', 'Drama', 'Romance', 'Animation', \"Children's\", 'Comedy', 'Comedy', 'Drama', 'Comedy', 'Drama', 'Sci-Fi', 'Drama', 'Drama', 'Romance', 'Comedy', 'Thriller', 'Comedy', 'Crime', 'Comedy', 'Thriller', 'Drama', 'Comedy', 'Comedy', 'Comedy', 'Drama', 'Action', 'Drama', 'Romance', 'Thriller', 'Drama', 'Romance', 'Comedy', 'Drama', 'Romance', 'Comedy', 'Action', 'Comedy', 'Adventure', 'Romance', 'Sci-Fi', 'Action', 'Animation', \"Children's\", 'Comedy', 'Drama', 'Drama', 'Drama', 'Comedy', 'Comedy', 'Crime', 'Drama', 'Drama', 'Action', 'Drama', 'Comedy', 'Comedy', 'Romance', 'Drama', 'Drama', 'Romance', 'Action', 'War', 'Comedy', 'Drama', 'War', 'Comedy', 'Adventure', 'Fantasy', 'Comedy', 'Drama', 'Comedy', 'Romance', 'Drama', 'Comedy', 'Drama', 'Comedy', 'Comedy', 'Drama', 'Drama', 'Romance', 'Comedy', 'Drama', 'Comedy', 'Action', 'Drama', 'Romance', 'Thriller', 'Comedy', 'Comedy', 'Drama', 'Comedy', 'Comedy', 'Romance', 'Action', 'Romance', 'Sci-Fi', 'Drama', 'Romance', 'Thriller', 'Comedy', 'Comedy', 'Comedy', 'Action', 'Sci-Fi', 'Action', 'Adventure', 'Romance', 'Thriller', 'Drama', 'Comedy', 'Thriller', 'Comedy', 'Animation', \"Children's\", 'Comedy', 'Drama', 'Romance', 'Drama', 'Sci-Fi', 'Comedy', 'Romance', 'Crime', 'Thriller', 'Crime', 'Thriller', 'Comedy', 'Action', 'Adventure', 'Fantasy', 'Sci-Fi', 'Drama', 'Romance', 'War', 'Western', 'Crime', 'Drama', 'Romance', 'Thriller', 'Drama', 'Drama', 'Comedy', 'Romance', 'Drama', 'Thriller', 'Action', 'Adventure', 'Sci-Fi', 'Drama', 'War', \"Children's\", 'Comedy', 'Musical', 'Drama', 'Thriller', 'Crime', 'Drama', 'Thriller', 'Action', 'Adventure', 'Mystery', 'Drama', 'Drama', 'Drama', 'Comedy', 'Romance', 'Musical', 'Romance', 'Comedy', 'Musical', 'Drama', 'Romance', 'Mystery', 'Thriller', 'Mystery', 'Thriller', 'Drama', 'Romance', 'War', 'Comedy', 'Romance', 'Adventure', \"Children's\", 'Drama', 'Musical', 'Romance', 'Thriller', 'Film-Noir', 'Romance', 'Thriller', 'Drama', \"Children's\", 'Drama', 'Fantasy', 'Sci-Fi', 'Comedy', 'Crime', 'Drama', 'Film-Noir', 'Drama', 'Action', 'Adventure', 'Drama', 'Sci-Fi', 'War', 'Action', 'Adventure', 'Comedy', 'Romance', 'Action', 'Adventure', 'Action', 'Sci-Fi', 'Thriller', 'War', 'Drama', 'War', 'Action', 'Adventure', 'Romance', 'Sci-Fi', 'War', 'Action', 'Horror', 'Sci-Fi', 'Thriller', 'Drama', 'War', 'Drama', 'Comedy', 'Romance', 'Action', 'Sci-Fi', 'Thriller', 'Comedy', 'Drama', 'Romance', 'Drama', 'Romance', 'Thriller', 'Comedy', 'Romance', 'Western', 'Drama', 'Action', 'Drama', 'Romance', 'Comedy', 'Horror', 'Film-Noir', 'Mystery', 'Comedy', 'Action', 'Adventure', 'Drama', 'Action', 'Horror', 'Drama', 'Comedy', 'Crime', 'Film-Noir', 'Mystery', 'Thriller', 'Drama', 'Drama', 'Film-Noir', 'Sci-Fi', 'Thriller', 'Action', 'Comedy', 'Drama', 'Comedy', 'Drama', 'Comedy', 'Drama', 'Horror', 'Comedy', 'Sci-Fi', 'Drama', 'Romance', 'Animation', \"Children's\", 'Animation', \"Children's\", 'Comedy', 'Musical', 'Romance', 'Drama', 'Comedy', 'Fantasy', 'Comedy', 'Drama', 'Romance', 'Comedy', 'Drama', 'Comedy', 'Comedy', 'Romance', 'Drama', 'Horror', 'Thriller', 'Action', 'Sci-Fi', 'Thriller', 'Comedy', 'Comedy', 'Horror', 'Musical', 'Sci-Fi', 'Thriller', 'Comedy', 'Fantasy', 'Comedy', 'Drama', 'Action', 'Thriller', 'Drama', 'Comedy', 'Action', 'Comedy', 'Action', 'Adventure', 'Animation', 'Comedy', 'Romance', 'Thriller', 'Comedy', 'Drama', 'Crime', 'Drama', 'Film-Noir', 'Thriller', 'Drama', 'Sci-Fi', 'Comedy', 'Drama', 'Comedy', 'Western', 'Action', 'Sci-Fi', 'Animation', \"Children's\", 'Comedy', 'Comedy', 'Romance', 'Comedy', 'Drama', 'Romance', 'Drama', 'Romance', \"Children's\", 'Comedy', 'Drama', 'Comedy', 'Romance', 'Action', 'Romance', 'Thriller', 'Drama', 'Romance', 'Comedy', 'Romance', 'Drama', 'Comedy', 'Romance', 'Action', 'Romance', 'Thriller', 'Comedy', 'Romance', 'War', 'Action', 'Adventure', 'Comedy', 'Romance', 'Comedy', 'Adventure', \"Children's\", 'Drama', 'Comedy', 'Romance', 'Drama', 'Comedy', 'Romance', 'Comedy', 'Romance', 'Thriller', 'Comedy', 'Romance', 'Comedy', 'Romance', 'Thriller', 'Comedy', 'Romance', 'Drama', 'Romance', 'Comedy', 'Romance', 'Animation', 'Comedy', 'Thriller', \"Children's\", 'Comedy', 'Comedy', 'Drama', 'Romance', 'Adventure', \"Children's\", 'Drama', 'Musical', 'Comedy', 'Romance', 'Thriller', \"Children's\", 'Comedy', 'Musical', 'Comedy', 'Comedy', \"Children's\", 'Drama', 'Fantasy', 'Sci-Fi', 'Action', 'Romance', 'Animation', 'Comedy', 'Comedy', 'Romance', 'Action', 'Adventure', 'Drama', 'Sci-Fi', 'War', 'Action', 'Adventure', 'Comedy', 'Romance', 'Drama', 'Horror', 'Thriller', 'Horror', 'Adventure', 'Comedy', 'Drama', 'Comedy', 'Sci-Fi', 'Comedy', 'Horror', 'Comedy', 'Comedy', 'Romance', 'Horror', 'Comedy', 'Musical', 'Romance', 'Action', 'Horror', 'Drama', 'Romance', 'Comedy', 'Romance', 'Action', 'Romance', 'Thriller', 'Comedy', 'Crime', 'Comedy', 'Romance', 'Comedy', 'Romance', 'Action', 'Mystery', 'Romance', 'Thriller', 'Comedy', 'Crime', 'Horror', 'Mystery', 'Thriller', 'Drama', 'Romance', 'Drama', 'Horror', 'Thriller', 'Drama', 'Romance', 'Action', 'Romance', 'Thriller', 'Drama', 'Romance', 'Comedy', 'Drama', 'Romance', 'Comedy', 'Drama', 'Romance', 'Comedy', 'Drama', 'Romance', 'Comedy', 'Comedy', 'Drama', 'Horror', 'Thriller', 'Horror', 'Action', 'Comedy', 'Crime', 'Drama', 'Action', 'Comedy', 'Crime', 'Drama', 'Comedy', 'Sci-Fi', 'Adventure', \"Children's\", 'Comedy', 'Fantasy', 'Sci-Fi', 'Comedy', 'Animation', \"Children's\", 'Comedy', 'Musical', 'Romance', 'Comedy', 'Fantasy', 'Romance', 'Comedy', 'Romance', 'Comedy', 'Adventure', 'Comedy', 'Comedy', 'Comedy', 'Comedy', 'Drama', 'Romance', 'Horror', 'Thriller', 'Comedy', 'Fantasy', 'Comedy', 'Drama', 'Romance', 'Comedy', 'Drama', 'Romance', 'Comedy', 'Comedy', 'Drama', 'Drama', 'Comedy', 'Romance', 'Comedy', 'Comedy', 'Comedy', 'Comedy', 'Comedy', 'Comedy', 'Comedy', 'Comedy', 'Romance', 'Action', 'Adventure', 'Comedy', 'Romance', 'Comedy', 'Mystery', 'Comedy', 'Comedy', 'Comedy', 'Romance', 'Drama', 'Comedy', 'Romance', 'Adventure', 'Comedy', 'Comedy', 'Western', 'Comedy', 'Romance', 'Comedy', 'Romance', 'Comedy', 'Romance', 'Comedy', 'Romance', 'Comedy', 'Romance', 'Animation', 'Comedy', 'Horror', 'Comedy', 'Horror', 'Action', 'Adventure', 'Comedy', 'Comedy', 'Horror', 'Comedy', 'Comedy', 'Comedy', 'Comedy', 'Comedy', 'Comedy', 'Drama', 'Comedy', 'Drama', 'Comedy', 'Romance', 'Comedy', 'Comedy', 'Comedy', 'Sci-Fi', 'Comedy', 'Comedy', 'Comedy', 'Action', 'Adventure', 'Comedy', 'Crime', 'Thriller', 'Comedy', 'Action', 'Drama', 'Romance', 'Thriller', 'Drama', 'Romance', 'Comedy', 'Horror', 'Adventure', 'Romance', 'Sci-Fi', 'Comedy', 'Romance', 'Comedy', 'Comedy', 'Comedy', 'Drama', 'Comedy', 'Drama', 'Comedy', 'Comedy', 'Horror', 'Drama', 'Thriller', 'Comedy', 'Romance', 'Comedy', 'Drama', 'Comedy', 'Romance', 'Comedy', 'Drama', 'Drama', 'Comedy', 'Comedy', 'Action', 'Thriller', 'Comedy', 'Comedy', 'Horror', 'Comedy', 'Animation', \"Children's\", 'Comedy', 'Action', 'Crime', 'Thriller', 'Comedy', 'Romance', 'Action', 'Adventure', 'Thriller', 'Comedy', 'Drama', 'Romance', 'Drama', 'Thriller', 'Action', 'Comedy', 'Drama', 'Drama', 'Drama', 'Sci-Fi', \"Children's\", 'Comedy', 'Drama', 'Crime', 'Thriller', 'Action', 'Drama', 'War', 'Drama', 'Thriller', 'Comedy', 'Drama', 'Thriller', 'War', 'Crime', 'Film-Noir', 'Mystery', 'Thriller', 'Action', 'Thriller', 'Action', 'Sci-Fi', 'Thriller', 'Comedy', 'Horror', 'Sci-Fi', 'Action', 'Crime', 'Sci-Fi', 'Comedy', 'Drama', 'Thriller', 'Comedy', 'Drama', 'Drama', 'Comedy', 'Drama', 'Documentary', 'Drama', 'Fantasy', 'Romance', 'Thriller', 'Comedy', 'Sci-Fi', 'Action', 'Adventure', 'Fantasy', 'Sci-Fi', 'Action', 'Drama', 'Thriller', 'Crime', 'Drama', 'Action', 'Adventure', 'Sci-Fi', 'Action', 'Adventure', 'Sci-Fi', 'Action', 'Adventure', 'Thriller', 'Comedy', 'Romance', 'War', 'Action', 'Comedy', 'Western', 'Action', 'Romance', 'Thriller', 'Action', 'Adventure', 'Comedy', 'Romance', 'Comedy', 'Comedy', 'Drama', 'Thriller', 'Action', 'Thriller', 'Action', 'Comedy', 'War', 'Action', 'Thriller', 'Action', 'Adventure', 'Sci-Fi', 'Comedy', 'Action', 'Drama', 'Drama', 'Drama', 'War', 'Film-Noir', 'Sci-Fi', \"Children's\", 'Comedy', 'Musical', 'Western', 'Action', 'Crime', 'Romance', 'Documentary', 'Documentary', 'Comedy', 'Romance', 'Thriller', 'Animation', \"Children's\", 'Comedy', 'Musical', 'Action', 'Sci-Fi', 'Thriller', 'Action', 'Adventure', 'Crime', 'Drama', 'Drama', 'Thriller', 'Animation', \"Children's\", 'Musical', 'Comedy', 'Romance', 'Crime', 'Drama', 'Thriller', 'Action', 'Adventure', 'Animation', 'Horror', 'Sci-Fi', 'Drama', 'War', 'Action', 'Adventure', 'Mystery', 'Comedy', 'Romance', 'Action', 'Adventure', 'Thriller', 'Action', 'Sci-Fi', 'War', 'Comedy', 'Comedy', 'Fantasy', 'Romance', 'Sci-Fi', 'Comedy', 'Romance', 'Action', 'Crime', 'Drama', 'Crime', 'Drama', 'Romance', 'Thriller', 'Drama', 'Romance', 'War', 'Drama', 'Mystery', 'Sci-Fi', 'Thriller', 'Action', 'Adventure', 'Romance', 'War', 'Action', 'Thriller', 'Comedy', 'War', 'Comedy', 'Comedy', 'Comedy', 'Musical', 'Drama', 'War', 'Mystery', 'Thriller', 'Drama', 'Romance', 'War', \"Children's\", 'Drama', 'Fantasy', 'Sci-Fi', 'Action', 'Romance', 'Action', 'Adventure', 'Sci-Fi', 'Thriller', 'Comedy', 'Comedy', 'Documentary', 'Comedy', 'Drama', 'Romance', 'Documentary', 'Documentary', 'Action', 'Adventure', 'Drama', 'Sci-Fi', 'War', 'Action', 'Adventure', 'Comedy', 'Romance', 'Action', 'Adventure', 'Action', 'Sci-Fi', 'Thriller', 'War', 'Action', 'Western', 'Drama', 'War', 'Action', 'Adventure', 'Romance', 'Sci-Fi', 'War', 'Action', 'Horror', 'Sci-Fi', 'Thriller', 'Action', 'Crime', 'Drama', 'Crime', 'Drama', 'Thriller', 'Action', 'Drama', 'War', 'Action', 'Sci-Fi', 'Thriller', 'Comedy', 'Drama', 'Romance', 'Thriller', 'Drama', 'War', 'Adventure', 'Comedy', 'Drama', 'Action', 'Drama', 'Mystery', 'Romance', 'Thriller', 'Comedy', 'Romance', 'Western', 'Comedy', 'Sci-Fi', 'Drama', 'War', 'Adventure', 'Animation', 'Sci-Fi', 'Thriller', 'Comedy', 'Drama', 'Comedy', 'Horror', 'Western', 'Comedy', 'Action', 'Adventure', 'Comedy', 'Drama', 'Comedy', 'Drama', 'War', 'Comedy', 'Romance', 'Action', 'Horror', 'Sci-Fi', 'Thriller', 'Action', 'Adventure', 'Sci-Fi', 'Drama', 'Thriller', 'Action', 'Thriller', 'Action', 'Adventure', 'Sci-Fi', 'Action', 'Adventure', 'Sci-Fi', 'Action', 'Adventure', 'Sci-Fi', 'Action', 'Horror', 'Drama', 'Romance', 'Comedy', 'Drama', 'Crime', 'Drama', 'Sci-Fi', 'Animation', 'Comedy', 'Action', 'Romance', 'War', 'Comedy', 'Comedy', 'Drama', 'Action', 'Drama', 'Thriller', 'Comedy', 'Comedy', 'Action', 'Sci-Fi', 'Action', 'Adventure', 'Sci-Fi', 'Thriller', 'Comedy', 'Romance', 'Action', 'Sci-Fi', 'Thriller', 'Action', 'Adventure', 'Comedy', 'Sci-Fi', 'Drama', 'Sci-Fi', 'Action', 'Drama', 'War', 'Action', 'Mystery', 'Romance', 'Thriller', 'Sci-Fi', 'Thriller', 'Action', 'Thriller', 'Action', 'Thriller', 'Action', 'Thriller', 'War', 'Crime', 'Film-Noir', 'Mystery', 'Thriller', 'Comedy', 'Crime', 'Horror', 'Mystery', 'Thriller', 'Drama', 'Sci-Fi', 'Thriller', 'Comedy', 'Drama', 'Romance', 'Thriller', 'Action', 'Adventure', 'Sci-Fi', 'War', 'Comedy', 'Drama', 'Action', 'Romance', 'Thriller', 'Comedy', 'Drama', 'Crime', 'Drama', 'Mystery', 'Thriller', 'Comedy', 'Documentary', 'Action', 'Sci-Fi', 'Thriller', 'Comedy', 'Action', 'Drama', 'Sci-Fi', 'Thriller', 'Action', 'Sci-Fi', 'Animation', \"Children's\", 'Mystery', 'Sci-Fi', 'Thriller', 'Comedy', 'Action', 'Crime', 'Romance', 'Animation', \"Children's\", 'Fantasy', 'War', 'Comedy', 'Action', 'Drama', 'Drama', 'War', 'Comedy', 'Comedy', 'Drama', 'Action', 'Comedy', 'Crime', 'Drama', 'Action', 'Comedy', 'Crime', 'Drama', 'Comedy', 'Sci-Fi', 'Western', 'Action', 'Adventure', 'Action', 'Crime', 'Drama', 'Action', 'Drama', 'War', 'Action', 'Thriller', 'Comedy', 'Documentary', 'Comedy', 'Drama', 'Romance', 'Animation', \"Children's\", 'Comedy', 'Musical', 'Animation', \"Children's\", 'Comedy', 'Musical', 'Romance', 'Action', 'Adventure', 'Sci-Fi', 'Comedy', 'Fantasy', 'Romance', 'Action', 'Adventure', 'Fantasy', 'Sci-Fi', 'Comedy', 'Romance', 'Action', 'Adventure', 'Horror', 'Thriller', 'Animation', \"Children's\", 'Comedy', 'Drama', 'Romance', 'Comedy', 'Action', 'Adventure', 'Horror', 'Action', 'Crime', 'Drama', 'Comedy', 'Drama', 'Romance', 'Comedy', 'Drama', 'Comedy', 'Drama', 'Romance', 'Drama', 'Drama', 'Action', 'Thriller', 'Action', 'Crime', 'Thriller', 'Action', 'Horror', 'Sci-Fi', 'Thriller', 'Animation', \"Children's\", 'Drama', 'Comedy', 'Action', 'Thriller', 'Comedy', 'Drama', 'Action', 'Thriller', 'Animation', \"Children's\", 'Comedy', 'Comedy', 'Romance', 'Comedy', 'Crime', 'Thriller', 'Action', 'Sci-Fi', 'Comedy', 'Action', 'Adventure', 'Comedy', 'Romance', 'Comedy', 'Sci-Fi', 'Comedy', 'Comedy', 'Romance', 'Drama', 'Drama', 'Comedy', 'Romance', 'Action', 'Thriller', 'Comedy', 'Romance', 'Action', 'Sci-Fi', 'Thriller', 'Western', 'Action', 'Sci-Fi', 'Action', 'Crime', 'Drama', 'Thriller', 'Drama', 'Action', 'Sci-Fi', 'Thriller', 'Crime', 'Comedy', 'Crime', 'Thriller', 'Action', 'Adventure', 'Horror', 'Thriller', 'Action', 'Adventure', 'Fantasy', 'Sci-Fi', 'Action', 'Adventure', 'Sci-Fi', 'Action', 'Sci-Fi', 'War', 'Comedy', 'Romance', 'Comedy', 'Animation', \"Children's\", 'Documentary', 'Comedy', 'Action', 'Comedy', 'Sci-Fi', 'Thriller', 'Animation', 'Comedy', 'Drama', 'Comedy', 'Horror', 'Thriller', 'Comedy', 'Horror', 'Action', 'Sci-Fi', 'Thriller', 'Comedy', 'Horror', 'Musical', 'Animation', \"Children's\", 'Thriller', 'Action', 'Thriller', 'Crime', 'Drama', 'Thriller', 'Comedy', 'Romance', 'Comedy', 'Comedy', 'Fantasy', 'Action', 'Romance', 'Thriller', 'Action', 'War', 'Comedy', 'Drama', 'Adventure', 'Thriller', 'Comedy', 'Drama', 'War', 'Comedy', 'Action', 'Adventure', 'Sci-Fi', 'Thriller', 'Comedy', 'Action', 'Action', 'Western', 'Drama', 'Drama', 'Thriller', 'Drama', 'War', 'Comedy', 'Action', 'Crime', 'Sci-Fi', 'Adventure', 'Animation', 'Film-Noir', 'Action', 'Comedy', 'Drama', 'War', 'Comedy', 'Drama', 'Western', 'Comedy', 'Comedy', 'Comedy', 'Drama', 'War', 'Comedy', 'Horror', 'Romance', 'Comedy', 'Thriller', 'Action', 'Adventure', 'Comedy', 'Crime', 'Animation', \"Children's\", 'Comedy', 'Documentary', 'Musical', 'Drama', 'Thriller', 'Comedy', 'Drama', 'Sci-Fi', 'Comedy', 'Drama', 'Adventure', 'Comedy', 'Sci-Fi', 'Drama', 'Mystery', 'Thriller', 'Drama', 'War', 'Animation', \"Children's\", 'Comedy', 'Comedy', 'Drama', 'Action', 'Thriller', 'Comedy', 'Drama', 'Comedy', 'Crime', 'Comedy', 'Drama', 'Comedy', 'Romance', 'Drama', 'Comedy', 'Drama', 'Action', 'Drama', 'Comedy', 'Drama', 'Action', 'War', 'Comedy', 'Drama', 'War', 'Drama', 'Comedy', 'Drama', 'Thriller', 'Drama', 'Romance', 'Comedy', 'Comedy', 'Drama', 'Action', 'Sci-Fi', 'Thriller', 'Thriller', 'Comedy', 'Action', 'Horror', 'Sci-Fi', 'Action', 'Drama', 'Comedy', 'Drama', 'Action', 'Thriller', 'Action', 'Action', 'Comedy', 'Western', 'Action', 'Sci-Fi', 'Thriller', 'Action', 'Sci-Fi', 'Film-Noir', 'Mystery', 'Thriller', 'Comedy', 'Comedy', 'Horror', 'Adventure', 'Animation', 'Sci-Fi', 'Action', 'Drama', 'War', 'Action', 'Crime', 'Thriller', 'Comedy', 'Horror', 'Comedy', 'Action', 'Sci-Fi', 'Comedy', 'Action', 'Sci-Fi', 'Action', 'Comedy', 'War', 'Sci-Fi', 'Thriller', 'Drama', 'Thriller', 'Animation', \"Children's\", 'Comedy', 'Animation', \"Children's\", 'Drama', 'Romance', \"Children's\", 'Comedy', 'Drama', 'Comedy', 'Romance', 'Drama', 'Romance', 'Crime', 'Thriller', 'Animation', \"Children's\", 'Musical', 'Romance', 'Comedy', 'Romance', 'Drama', 'Romance', 'Drama', 'Thriller', 'Comedy', 'Drama', 'Romance', 'Comedy', 'Drama', 'Romance', 'Comedy', 'Romance', 'Drama', 'Romance', 'Drama', 'Romance', 'Crime', 'Drama', 'Drama', 'Comedy', 'Romance', 'Comedy', 'Romance', 'Comedy', 'Romance', 'War', 'Comedy', 'Romance', 'Drama', 'Romance', 'Animation', \"Children's\", 'Musical', 'Action', 'Romance', 'Thriller', 'Drama', 'Comedy', 'Romance', 'Adventure', \"Children's\", 'Drama', 'Thriller', 'Comedy', \"Children's\", 'Drama', 'Comedy', 'Romance', 'Comedy', 'Romance', 'Thriller', \"Children's\", 'Comedy', 'Comedy', 'Romance', 'Thriller', 'Animation', \"Children's\", 'Comedy', 'Musical', 'Drama', 'Romance', 'Action', 'Adventure', 'Mystery', 'Comedy', 'Romance', 'Comedy', 'Romance', 'Drama', 'Romance', 'Comedy', 'Drama', 'Romance', 'Drama', 'Romance', 'Drama', 'Romance', 'Musical', 'Romance', 'Drama', 'Romance', 'War', 'Drama', 'Drama', 'Romance', 'Comedy', 'Romance', 'Comedy', 'Romance', 'Comedy', 'Musical', 'Romance', 'Drama', 'Romance', 'Comedy', 'Romance', 'Comedy', 'Romance', 'Action', 'Romance', 'Thriller', 'Comedy', 'Romance', 'Action', 'Sci-Fi', 'Thriller', 'Comedy', 'Romance', 'Crime', 'Drama', 'Thriller', 'Drama', 'Animation', \"Children's\", 'Musical', 'Drama', 'Drama', 'Romance', 'Drama', 'Romance', 'Comedy', 'Romance', 'Action', 'Drama', 'Romance', 'Romance', 'Comedy', 'Drama', 'Romance', 'Adventure', 'Comedy', 'Romance', 'Comedy', 'Drama', 'Romance', 'Action', 'Adventure', 'Sci-Fi', 'Thriller', \"Children's\", 'Drama', \"Children's\", 'Comedy', 'Animation', \"Children's\", 'Musical', 'Comedy', 'Comedy', 'Drama', 'Romance', 'Comedy', 'Drama', 'Romance', 'Drama', 'Romance', 'Comedy', 'Drama', 'Drama', 'Romance', 'Animation', \"Children's\", 'Comedy', 'Comedy', 'Romance', 'Comedy', 'Drama', 'Drama', 'Drama', 'Comedy', 'Romance', 'Comedy', 'Drama', 'Romance', 'Comedy', 'Romance', 'Comedy', 'Romance', 'Comedy', 'Romance', 'Documentary', 'Comedy', 'Romance', 'Comedy', 'Romance', 'Comedy', 'Drama', 'Romance', 'Drama', 'Action', 'Thriller', 'Comedy', 'Animation', \"Children's\", 'Comedy', 'Adventure', \"Children's\", 'Fantasy', 'Drama', 'Romance', \"Children's\", 'Comedy', 'Drama', 'Adventure', \"Children's\", 'Comedy', 'Musical', 'Drama', 'Romance', 'War', 'Drama', 'Romance', 'Action', 'Adventure', 'Fantasy', 'Sci-Fi', 'Action', 'Adventure', 'Sci-Fi', \"Children's\", 'Comedy', 'Fantasy', 'Drama', 'Action', 'Adventure', 'Thriller', 'Action', 'Adventure', 'Comedy', 'Romance', 'Action', 'Adventure', 'Sci-Fi', 'Action', 'Thriller', 'Comedy', 'Romance', 'Drama', 'War', 'Comedy', 'Romance', 'Comedy', 'Romance', 'Thriller', \"Children's\", 'Comedy', 'Musical', 'Action', 'Adventure', 'Comedy', 'Comedy', 'Romance', 'Thriller', 'Action', 'Sci-Fi', 'Thriller', 'Adventure', 'Drama', 'Western', 'Action', 'Adventure', 'Crime', 'Drama', 'Drama', 'Thriller', 'Animation', \"Children's\", 'Musical', 'Animation', \"Children's\", 'Action', 'Adventure', 'Mystery', 'Action', 'Adventure', 'Thriller', 'Action', 'Adventure', 'Romance', 'Thriller', 'Animation', 'Sci-Fi', 'Animation', 'Comedy', 'Thriller', 'Action', 'Sci-Fi', 'War', 'Action', 'Crime', 'Drama', 'Horror', 'Thriller', 'Drama', 'Romance', 'Mystery', 'Thriller', 'Drama', 'Romance', 'War', 'Adventure', \"Children's\", 'Drama', 'Musical', 'Drama', 'Romance', 'War', 'Drama', 'Mystery', 'Sci-Fi', 'Thriller', 'Drama', 'Horror', 'Sci-Fi', 'Action', 'Adventure', 'Romance', 'War', 'Animation', \"Children's\", 'Musical', \"Children's\", 'Comedy', 'Musical', 'Adventure', 'Animation', \"Children's\", 'Musical', 'Animation', \"Children's\", 'Comedy', 'Adventure', \"Children's\", 'Comedy', 'Fantasy', 'Comedy', \"Children's\", 'Drama', 'Fantasy', 'Sci-Fi', 'Action', 'Adventure', 'Sci-Fi', 'Thriller', 'Comedy', 'Animation', 'Comedy', 'Drama', 'Action', 'Adventure', 'Drama', 'Sci-Fi', 'War', 'Action', 'Adventure', 'Comedy', 'Romance', 'Action', 'Adventure', 'Action', 'Adventure', 'Romance', 'Sci-Fi', 'War', 'Action', 'Adventure', 'Comedy', 'Horror', 'Sci-Fi', 'Action', 'Comedy', 'Musical', 'Animation', 'Comedy', 'Comedy', 'Crime', 'Comedy', 'Action', 'Sci-Fi', 'Thriller', 'Comedy', 'Drama', 'Comedy', 'Romance', 'Comedy', 'Sci-Fi', 'Adventure', 'Animation', 'Sci-Fi', 'Thriller', 'Comedy', 'Horror', 'Animation', \"Children's\", 'Musical', 'Action', 'Adventure', 'Comedy', 'War', 'Action', 'Comedy', 'Western', 'Comedy', 'Romance', 'Horror', 'Romance', 'Horror', 'Action', 'Adventure', 'Sci-Fi', 'Action', 'Adventure', 'Sci-Fi', 'Comedy', 'Crime', 'Drama', 'Sci-Fi', 'Action', 'Sci-Fi', 'Action', 'Adventure', 'Thriller', 'Action', 'Sci-Fi', 'Thriller', 'Action', 'Adventure', 'Comedy', 'Sci-Fi', 'Drama', 'Sci-Fi', 'Crime', 'Horror', 'Mystery', 'Thriller', 'Film-Noir', 'Sci-Fi', 'Thriller', 'Action', 'Mystery', 'Thriller', 'Action', 'Comedy', 'Musical', 'Drama', 'Adventure', \"Children's\", 'Fantasy', 'Horror', 'Horror', 'Horror', 'Horror', 'Horror', 'Action', 'Adventure', 'Romance', 'Comedy', 'Sci-Fi', \"Children's\", 'Fantasy', 'Musical', 'Animation', \"Children's\", 'Drama', 'Romance', 'Fantasy', 'Sci-Fi', 'Adventure', \"Children's\", 'Fantasy', 'Adventure', \"Children's\", 'Sci-Fi', 'Adventure', \"Children's\", 'Comedy', 'Fantasy', 'Sci-Fi', 'Adventure', \"Children's\", 'Animation', \"Children's\", 'Comedy', 'Musical', 'Romance', \"Children's\", 'Musical', \"Children's\", 'Horror', 'Action', 'Adventure', 'Fantasy', 'Sci-Fi', 'Horror', 'Thriller', 'Comedy', 'Crime', 'Thriller', 'Action', 'Adventure', 'Adventure', 'Comedy', 'Adventure', 'Musical', \"Children's\", 'Fantasy', 'Sci-Fi', 'Adventure', \"Children's\", 'Fantasy', 'Action', 'Adventure', 'Horror', 'Comedy', 'Fantasy', 'Action', 'Adventure', 'Fantasy', 'Action', 'Comedy', 'Fantasy', 'Drama', 'Romance', 'Mystery', 'Sci-Fi', 'Comedy', 'Action', 'Adventure', 'Horror', 'Comedy', 'Romance', 'Adventure', \"Children's\", 'Fantasy', 'Action', 'Adventure', 'Comedy', 'Romance', 'Comedy', 'Sci-Fi', 'Horror', 'Horror', 'Horror', 'Horror', 'Adventure', 'Comedy', 'Adventure', 'Comedy', 'Action', 'Sci-Fi', 'Horror', 'Thriller', 'Action', 'Sci-Fi', 'Thriller', 'Action', 'Adventure', 'Horror', 'Thriller', 'Comedy', 'Fantasy', 'Action', 'Adventure', 'Fantasy', 'Sci-Fi', 'Action', 'Adventure', 'Sci-Fi', 'Comedy', 'Horror', 'Musical', 'Sci-Fi', 'Action', 'Comedy', 'Sci-Fi', 'Thriller', \"Children's\", 'Comedy', 'Drama', 'Comedy', 'Horror', 'Comedy', 'Horror', 'Comedy', 'Horror', 'Thriller', 'Comedy', 'Fantasy', \"Children's\", 'Action', 'Drama', 'Fantasy', 'Romance', 'Drama', 'Mystery', 'Romance', 'Action', 'Adventure', 'Sci-Fi', 'Thriller', 'Comedy', 'Adventure', 'Fantasy', 'Sci-Fi', 'Adventure', 'Animation', 'Film-Noir', 'Action', 'Adventure', 'Animation', 'Drama', 'Comedy', 'Mystery', 'Romance', 'Thriller', 'Adventure', 'Comedy', 'Sci-Fi', 'Comedy', 'Drama', 'Romance', 'Action', 'Adventure', 'Fantasy', 'Adventure', 'Drama', 'Adventure', 'Comedy', 'Sci-Fi', 'Drama', 'Mystery', 'Drama', 'Comedy', 'Horror', 'Comedy', 'Crime', 'Drama', 'Drama', 'Mystery', \"Children's\", 'Comedy', \"Children's\", 'Comedy', \"Children's\", 'Comedy', 'Adventure', 'Comedy', 'Fantasy', 'Drama', 'Sci-Fi', 'Adventure', 'Fantasy', 'Adventure', 'Musical', 'Romance', 'Action', 'Thriller', 'Action', 'Crime', 'Adventure', 'Animation', 'Sci-Fi', 'Animation', \"Children's\", 'Comedy', 'Action', 'Adventure', 'Thriller', 'Action', 'Adventure', 'Action', 'Sci-Fi', 'Thriller', 'Comedy', 'Adventure', 'Sci-Fi', 'Comedy', 'Horror', 'Animation', \"Children's\", 'Comedy', 'Comedy', 'Romance', 'Comedy', 'Romance', 'Comedy', 'Drama', 'Romance', 'Drama', 'Romance', \"Children's\", 'Comedy', 'Drama', 'Drama', 'Romance', 'Comedy', 'Romance', 'Drama', 'Romance', 'Animation', \"Children's\", 'Musical', 'Romance', 'Comedy', 'Drama', 'Romance', 'Comedy', 'Comedy', 'Romance', 'Drama', 'Romance', 'Comedy', 'Action', 'Adventure', 'Comedy', 'Crime', 'Action', 'Adventure', 'Drama', 'Romance', 'Comedy', 'Comedy', 'Drama', 'Romance', 'Comedy', 'Drama', 'Drama', 'Romance', 'Comedy', 'Drama', 'Comedy', 'Drama', 'Comedy', 'Romance', 'Comedy', 'Romance', 'Drama', 'Romance', 'War', 'Western', 'Comedy', 'Romance', 'Comedy', 'Romance', 'Comedy', 'Romance', 'Comedy', \"Children's\", 'Comedy', 'Fantasy', 'Comedy', 'Romance', 'Comedy', \"Children's\", 'Comedy', 'Comedy', 'Romance', 'Comedy', 'Drama', 'Action', 'Romance', 'Thriller', 'Comedy', 'Romance', 'Comedy', 'Sci-Fi', 'Comedy', 'Romance', 'Comedy', 'Romance', 'Comedy', 'Romance', 'Drama', 'Romance', 'Comedy', 'Comedy', 'Mystery', 'Comedy', 'Romance', 'Comedy', 'Drama', 'Romance', 'Drama', 'War', 'Comedy', 'Crime', 'Horror', 'Comedy', 'Romance', 'Comedy', 'Romance', \"Children's\", 'Comedy', 'Comedy', 'Romance', 'Thriller', 'Animation', \"Children's\", 'Comedy', 'Musical', 'Drama', 'Romance', 'Comedy', 'Comedy', 'Sci-Fi', 'Comedy', 'Romance', 'Drama', 'Romance', 'Comedy', 'Romance', 'Comedy', 'Comedy', 'Action', 'Adventure', 'Romance', 'Thriller', 'Comedy', 'Drama', 'Drama', 'Romance', 'Drama', 'Romance', 'Comedy', 'Romance', 'Comedy', 'Comedy', 'Drama', 'Romance', 'Comedy', 'Romance', 'Musical', 'Romance', 'Musical', 'Romance', 'Drama', 'Romance', 'Comedy', 'Comedy', 'Drama', 'Comedy', 'Crime', 'Comedy', 'Mystery', 'Romance', 'Thriller', 'Musical', 'Romance', 'Comedy', 'Romance', 'Comedy', 'Romance', 'Drama', 'Romance', 'War', 'Romance', 'Thriller', 'Comedy', 'Romance', 'Thriller', 'Comedy', 'Romance', 'Drama', 'Romance', 'Comedy', 'Comedy', 'Action', 'Adventure', 'Romance', 'War', \"Children's\", 'Comedy', 'Drama', \"Children's\", 'Comedy', \"Children's\", 'Comedy', 'Mystery', \"Children's\", 'Comedy', 'Musical', 'Drama', 'Romance', 'Comedy', 'Musical', 'Romance', 'Comedy', 'Sci-Fi', 'Comedy', 'Musical', 'Comedy', 'Comedy', 'Drama', 'Comedy', 'Romance', 'Action', 'Adventure', 'Comedy', 'Romance', 'Comedy', 'Romance', 'Comedy', 'Romance', 'Comedy', 'Comedy', 'Drama', 'Romance', 'Drama', 'Romance', 'Comedy', 'Romance', 'Comedy', 'Mystery', 'Thriller', 'Comedy', 'Sci-Fi', 'Comedy', 'Horror', 'Comedy', 'Drama', 'Drama', 'Romance', 'Comedy', 'Drama', 'Romance', 'Action', 'Comedy', 'Western', 'Comedy', 'Romance', 'Comedy', 'Romance', 'Comedy', 'Musical', 'Romance', 'Comedy', 'Romance', 'War', 'Comedy', 'Romance', 'Comedy', 'Comedy', 'Romance', 'Comedy', 'Romance', 'Comedy', 'Comedy', 'Crime', 'Comedy', 'Comedy', 'Romance', 'Adventure', 'Animation', \"Children's\", 'Comedy', 'Musical', 'Comedy', 'Romance', 'Action', 'Adventure', 'Comedy', 'Sci-Fi', 'Comedy', 'Romance', 'Drama', 'Romance', 'Comedy', 'Romance', 'Drama', 'Romance', 'Comedy', 'Romance', 'Comedy', 'Drama', 'Romance', 'Comedy', 'Drama', 'Drama', 'Romance', 'Comedy', 'Romance', 'Comedy', 'Drama', 'Comedy', 'Romance', 'Romance', 'Comedy', 'Comedy', 'Drama', 'Romance', 'Adventure', 'Comedy', 'Romance', 'Comedy', 'Drama', 'Comedy', 'Comedy', 'Comedy', 'Drama', 'Drama', 'Romance', 'Comedy', 'Comedy', 'Drama', 'Comedy', 'Sci-Fi', 'Comedy', 'Sci-Fi', 'Western', \"Children's\", 'Comedy', 'Fantasy', 'Drama', 'Romance', 'Adventure', \"Children's\", 'Comedy', \"Children's\", 'Comedy', 'Adventure', \"Children's\", 'Comedy', 'Fantasy', 'Sci-Fi', 'Comedy', 'Drama', 'Romance', 'Animation', \"Children's\", 'Comedy', 'Musical', 'Romance', 'Comedy', 'Fantasy', 'Romance', 'Comedy', 'Comedy', 'Comedy', 'Drama', 'Romance', 'Comedy', 'Comedy', 'Drama', 'Romance', 'Comedy', 'Fantasy', 'Comedy', 'Comedy', 'Comedy', 'Drama', 'Romance', 'Comedy', 'Drama', 'Comedy', 'Comedy', 'Drama', 'Romance', 'Comedy', 'Drama', 'Comedy', 'Drama', 'Romance', 'Comedy', 'Romance', 'Romance', 'Drama', 'Romance', 'Comedy', 'Drama', 'Romance', 'Comedy', 'Comedy', 'Romance', 'Comedy', 'Romance', 'Romance', 'Comedy', 'Drama', 'Animation', \"Children's\", 'Comedy', 'Comedy', 'Comedy', 'Romance', 'Comedy', 'Comedy', 'Romance', 'Comedy', 'Romance', 'Action', 'Adventure', 'Comedy', 'Romance', 'Comedy', 'Sci-Fi', 'Drama', 'Romance', 'Comedy', 'Comedy', 'Drama', 'Comedy', 'Romance', 'Comedy', 'Drama', 'Romance', 'Drama', 'Romance', 'Action', 'Comedy', 'Romance', 'Thriller', 'Comedy', 'Romance', 'Comedy', 'Comedy', 'Romance', 'Comedy', 'Comedy', 'Romance', 'Comedy', 'Romance', 'Comedy', 'Romance', 'Comedy', 'Comedy', 'Comedy', 'Fantasy', 'Comedy', 'Romance', 'Comedy', 'Horror', 'Musical', 'Sci-Fi', 'Comedy', 'Romance', 'Comedy', 'Animation', 'Comedy', 'Comedy', 'Horror', 'Comedy', 'Horror', 'Comedy', 'Action', 'Adventure', 'Comedy', 'Comedy', 'Romance', 'Comedy', 'Drama', 'Comedy', 'Comedy', 'Adventure', 'Romance', 'Comedy', 'Drama', 'Comedy', 'Drama', 'Comedy', 'Drama', 'Comedy', 'Comedy', 'Romance', 'Comedy', 'Comedy', 'Musical', 'Romance', 'War', 'Drama', 'Romance', 'Comedy', 'Drama', 'Comedy', 'Comedy', 'Romance', 'Comedy', 'Drama', 'Western', 'Mystery', 'Romance', 'Thriller', 'Comedy', 'Drama', 'Comedy', 'Comedy', 'Musical', 'Comedy', 'Comedy', 'Comedy', 'Comedy', 'Romance', 'Comedy', 'Romance', 'Comedy', 'Drama', 'Romance', 'Animation', \"Children's\", 'Comedy', 'Adventure', 'Comedy', 'Sci-Fi', 'Comedy', 'Romance', 'Comedy', 'Comedy', 'Comedy', 'Drama', 'Action', 'Drama', 'Romance', 'Thriller', 'Comedy', 'Drama', 'Romance', 'Adventure', 'Romance', 'Sci-Fi', 'Comedy', 'Romance', 'Comedy', 'Comedy', 'Romance', 'Drama', 'Romance', 'Comedy', 'Drama', 'War', 'Comedy', 'Comedy', 'Drama', 'Comedy', 'Comedy', 'Fantasy', 'Comedy', 'Romance', 'Comedy', 'Drama', 'Comedy', 'Comedy', 'Romance', 'Comedy', 'Romance', 'Drama', 'Romance', 'Comedy', 'Romance', 'Thriller', 'Comedy', 'Drama', 'Comedy', 'Drama', 'Comedy', 'Adventure', 'Musical', 'Romance', 'Comedy', 'Romance', 'Comedy', 'Western', 'Drama', 'Romance', 'Comedy', 'Drama', 'Romance', 'Adventure', 'Drama', 'Romance', 'Sci-Fi', 'Action', 'Adventure', 'Romance', 'Thriller', 'Comedy', 'Comedy', 'Comedy', 'Comedy', 'Western', 'Comedy', 'Romance', 'Animation', \"Children's\", 'Comedy', 'Adventure', \"Children's\", 'Fantasy', 'Comedy', 'Action', 'Crime', 'Thriller', 'Comedy', 'Romance', 'Action', 'Adventure', 'Thriller', 'Action', 'Adventure', 'Romance', 'Drama', 'Romance', 'Comedy', 'Action', 'Comedy', 'Drama', 'Drama', 'Sci-Fi', 'Drama', 'Sci-Fi', \"Children's\", 'Comedy', 'Drama', 'Drama', 'Comedy', 'Romance', 'Crime', 'Thriller', 'Animation', \"Children's\", 'Musical', 'Romance', 'Crime', 'Thriller', \"Children's\", 'Comedy', 'Adventure', \"Children's\", 'Fantasy', 'Drama', 'Comedy', 'Sci-Fi', 'Thriller', 'Comedy', 'Adventure', \"Children's\", 'Comedy', 'Musical', 'Action', 'Drama', 'War', 'Drama', 'Drama', 'Romance', 'War', 'Action', 'Adventure', 'Comedy', 'Crime', 'Adventure', \"Children's\", 'Action', 'Adventure', 'Mystery', 'Sci-Fi', 'Drama', 'Thriller', 'War', 'Action', 'Thriller', 'Action', 'Adventure', 'Drama', 'Romance', 'Action', 'Crime', 'Thriller', 'Action', 'Adventure', 'Sci-Fi', 'Sci-Fi', 'Thriller', 'Horror', 'Sci-Fi', 'Action', 'Adventure', 'Comedy', 'Comedy', 'Comedy', 'Romance', 'Animation', \"Children's\", 'Comedy', 'Romance', 'Comedy', 'Romance', 'Comedy', 'Sci-Fi', 'Action', 'Adventure', 'Fantasy', 'Sci-Fi', 'Drama', 'Drama', 'Romance', 'War', 'Western', 'Comedy', 'Comedy', 'Romance', 'Drama', 'Drama', 'Thriller', 'Crime', 'Drama', 'Drama', 'Action', 'Adventure', 'Western', 'Action', 'Adventure', 'Sci-Fi', \"Children's\", 'Comedy', 'Fantasy', 'Drama', 'Action', 'Adventure', 'Sci-Fi', 'Comedy', 'Drama', 'War', 'Comedy', 'Romance', 'Adventure', 'Drama', 'Comedy', 'Drama', 'Musical', 'Action', 'Adventure', 'Thriller', 'Drama', 'Mystery', 'Thriller', \"Children's\", 'Comedy', 'Comedy', 'Romance', 'War', 'Comedy', 'Romance', 'Action', 'Comedy', 'Animation', \"Children's\", 'Musical', 'Comedy', 'Crime', 'Fantasy', 'Action', 'Comedy', 'Western', 'Comedy', 'Drama', \"Children's\", 'Comedy', 'Action', 'Thriller', 'Action', 'Romance', 'Thriller', 'Action', 'Sci-Fi', 'Action', 'Adventure', 'Comedy', 'Romance', 'Western', 'Comedy', 'Comedy', 'Comedy', 'Action', 'Thriller', 'Comedy', 'Comedy', 'Sci-Fi', 'Comedy', 'Romance', 'Comedy', 'Action', 'Sci-Fi', 'Comedy', 'Drama', 'Comedy', 'Drama', 'Thriller', 'Action', 'Thriller', 'Action', 'Comedy', 'War', 'Action', 'Thriller', 'Action', 'Adventure', 'Sci-Fi', 'Action', 'Comedy', 'Comedy', 'Comedy', 'Mystery', 'Comedy', 'Romance', 'Comedy', 'Drama', 'Romance', 'Comedy', 'Mystery', 'Romance', 'Comedy', 'Drama', 'Comedy', 'Drama', 'War', 'Comedy', 'Comedy', 'Drama', 'Drama', 'War', 'Action', 'Drama', 'Romance', 'Comedy', 'Romance', 'Film-Noir', 'Sci-Fi', 'Comedy', 'Comedy', 'Romance', 'Thriller', 'Action', 'Adventure', \"Children's\", 'Sci-Fi', 'Action', 'Adventure', 'Comedy', 'Western', \"Children's\", 'Comedy', \"Children's\", 'Comedy', 'Comedy', \"Children's\", 'Comedy', 'Animation', \"Children's\", 'Comedy', 'Musical', 'Action', 'Sci-Fi', 'Thriller', 'Adventure', 'Drama', 'Western', 'Action', 'Adventure', 'Crime', 'Drama', 'Drama', 'Thriller', 'Animation', \"Children's\", 'Musical', 'Animation', \"Children's\", 'Musical', 'Animation', \"Children's\", 'Comedy', 'Romance', 'Western', 'Crime', 'Drama', 'Thriller', 'Drama', 'War', 'Action', 'Adventure', 'Mystery', 'Action', 'Adventure', 'Fantasy', 'Comedy', 'Sci-Fi', 'Adventure', 'Animation', \"Children's\", 'Comedy', 'Fantasy', 'Comedy', 'Action', 'Adventure', 'Thriller', 'Action', 'Adventure', 'Romance', 'Thriller', 'Comedy', 'Action', 'Sci-Fi', 'Thriller', 'Comedy', 'Drama', 'Drama', 'Action', 'Sci-Fi', 'War', 'Animation', \"Children's\", 'Musical', 'Action', 'Thriller', 'Comedy', 'Fantasy', 'Romance', 'Sci-Fi', 'Action', 'Adventure', 'Thriller', 'Drama', 'Romance', 'Drama', 'Comedy', 'Comedy', 'Musical', 'Drama', 'Thriller', 'Drama', 'Action', 'Adventure', 'Thriller', 'Comedy', 'Drama', 'Romance', 'Action', 'Crime', 'Drama', 'Horror', 'Sci-Fi', 'Thriller', 'Musical', 'Romance', 'Comedy', 'Musical', 'Drama', 'Romance', 'Mystery', 'Thriller', 'Comedy', 'Crime', 'Drama', 'Romance', 'War', 'Film-Noir', 'Mystery', 'Musical', 'Romance', 'Comedy', 'Romance', 'Comedy', 'Romance', 'Adventure', \"Children's\", 'Drama', 'Musical', 'Drama', 'Romance', 'War', 'Drama', 'Drama', 'Mystery', 'Sci-Fi', 'Thriller', 'Drama', 'Comedy', 'Comedy', 'Romance', 'Action', 'Adventure', 'Romance', 'War', 'Drama', 'War', 'Action', 'Drama', 'Western', \"Children's\", 'Comedy', \"Children's\", 'Comedy', 'Western', 'Adventure', \"Children's\", 'Fantasy', \"Children's\", 'Comedy', 'Adventure', \"Children's\", 'Comedy', \"Children's\", 'Drama', 'Adventure', \"Children's\", \"Children's\", 'Comedy', 'Adventure', \"Children's\", 'Adventure', \"Children's\", 'Fantasy', 'Sci-Fi', 'Comedy', \"Children's\", 'Comedy', 'Animation', \"Children's\", 'Musical', 'Drama', \"Children's\", 'Comedy', 'Musical', 'Animation', \"Children's\", 'Musical', 'Musical', 'Action', 'Thriller', 'Comedy', 'Action', 'Adventure', 'Comedy', 'Drama', 'Adventure', \"Children's\", 'Comedy', 'Fantasy', 'Adventure', 'Drama', 'Drama', 'War', 'Comedy', \"Children's\", 'Drama', 'Fantasy', 'Sci-Fi', 'Action', 'Romance', 'Action', 'Romance', 'Drama', 'Comedy', 'Action', 'Adventure', 'Sci-Fi', 'Thriller', 'Comedy', 'Drama', 'Romance', 'War', 'Drama', 'Action', 'Adventure', 'Drama', 'Sci-Fi', 'War', 'Action', 'Adventure', 'Comedy', 'Romance', 'Action', 'Adventure', 'Action', 'Sci-Fi', 'Thriller', 'War', 'Action', 'Western', 'Adventure', 'War', 'Action', 'Animation', \"Children's\", 'Sci-Fi', 'Thriller', 'War', 'Drama', 'Drama', 'War', 'Action', 'Adventure', 'Romance', 'Sci-Fi', 'War', 'Crime', 'Drama', 'Action', 'Horror', 'Sci-Fi', 'Thriller', 'Horror', 'Thriller', 'Action', 'Comedy', 'Musical', 'Action', 'Crime', 'Drama', 'Action', 'Drama', 'War', 'Action', 'Drama', 'War', 'Action', 'Sci-Fi', 'Thriller', 'Action', 'Drama', 'War', 'Drama', 'Romance', 'Drama', 'War', 'Drama', 'Sci-Fi', 'Adventure', 'Comedy', 'War', 'Comedy', 'Adventure', 'Comedy', 'Drama', 'Adventure', 'War', 'Comedy', 'Romance', 'Western', 'Comedy', 'Sci-Fi', 'Adventure', 'Animation', 'Sci-Fi', 'Thriller', 'Animation', \"Children's\", 'Musical', 'Western', 'Action', 'Adventure', 'Drama', 'Comedy', 'Drama', 'Musical', 'Action', 'Adventure', 'Comedy', 'War', 'Action', 'Comedy', 'Western', 'Comedy', 'Romance', 'Documentary', 'Action', 'Horror', 'Sci-Fi', 'Thriller', 'Action', 'Adventure', 'Sci-Fi', 'Drama', 'Thriller', 'Adventure', \"Children's\", 'Comedy', 'Action', 'Thriller', 'Action', 'Adventure', 'Sci-Fi', 'Action', 'Adventure', 'Sci-Fi', 'Action', 'Adventure', 'Sci-Fi', 'Action', 'Adventure', 'Sci-Fi', 'Action', 'Adventure', 'Sci-Fi', 'Action', 'Adventure', 'Sci-Fi', 'Action', 'Adventure', 'Comedy', 'Crime', 'Action', 'Comedy', 'Western', 'Action', 'Comedy', 'Western', 'Comedy', 'Musical', 'Romance', 'Action', 'Horror', 'Action', 'Comedy', 'Sci-Fi', 'War', 'Romance', 'War', 'Animation', 'Comedy', 'Action', 'Romance', 'War', 'Drama', 'Mystery', 'Thriller', 'Comedy', 'Romance', 'Mystery', 'Thriller', 'Comedy', \"Children's\", 'Comedy', 'Action', 'Romance', 'Thriller', 'Comedy', 'Action', 'Drama', 'Thriller', 'War', 'Comedy', 'Comedy', 'Action', 'Sci-Fi', 'Action', 'Adventure', 'Sci-Fi', 'Thriller', 'Action', 'Adventure', 'Thriller', 'Action', 'Adventure', 'Crime', 'Adventure', 'Animation', \"Children's\", 'Comedy', 'Musical', 'Comedy', 'Romance', 'Action', 'Sci-Fi', 'Thriller', 'Action', 'Adventure', 'Comedy', 'Sci-Fi', 'Drama', 'Sci-Fi', 'Action', 'Mystery', 'Romance', 'Thriller', 'Comedy', 'Action', 'Thriller', 'Action', 'Thriller', 'Action', 'Thriller', 'War', 'Crime', 'Film-Noir', 'Mystery', 'Thriller', 'Drama', 'War', 'Mystery', 'Thriller', 'Horror', 'Mystery', 'Thriller', 'Drama', 'Sci-Fi', 'Thriller', 'Comedy', 'Drama', 'Romance', 'Thriller', 'Action', 'Adventure', 'Sci-Fi', 'War', 'Drama', 'Action', 'Thriller', 'Comedy', 'Mystery', 'Action', 'Horror', 'Sci-Fi', 'Drama', 'Drama', \"Children's\", 'Comedy', 'Fantasy', 'Comedy', 'Drama', 'Drama', 'Romance', 'Action', 'Romance', 'Thriller', 'Comedy', 'Drama', 'Action', 'Thriller', 'Action', 'Horror', 'Sci-Fi', 'Action', 'Comedy', 'Musical', 'Comedy', 'Romance', 'Adventure', 'Sci-Fi', 'Thriller', 'Comedy', 'Drama', 'Action', 'Thriller', 'Documentary', 'Action', 'Drama', 'Romance', 'Drama', 'Action', 'Sci-Fi', 'Thriller', 'Action', 'Drama', 'Thriller', 'Action', 'Drama', 'Sci-Fi', 'Thriller', 'Action', 'Sci-Fi', 'Mystery', 'Thriller', 'Adventure', 'Comedy', 'Romance', 'Animation', \"Children's\", 'Mystery', 'Sci-Fi', 'Thriller', 'Comedy', 'Action', 'Adventure', 'Sci-Fi', 'Thriller', 'Animation', \"Children's\", 'Fantasy', 'War', 'Comedy', 'War', 'Adventure', 'Drama', 'Romance', 'War', 'Crime', 'Drama', 'Action', 'Drama', 'Comedy', 'Drama', 'Horror', 'Thriller', 'Comedy', 'Horror', 'Comedy', 'Horror', 'Adventure', \"Children's\", 'Fantasy', 'Action', 'Adventure', 'Romance', 'Comedy', 'Sci-Fi', 'Comedy', 'Sci-Fi', 'Western', \"Children's\", 'Comedy', 'Fantasy', \"Children's\", 'Comedy', 'Western', 'Fantasy', 'Sci-Fi', 'Action', 'Crime', 'Drama', 'Action', 'Drama', 'War', \"Children's\", 'Comedy', 'Adventure', \"Children's\", 'Sci-Fi', 'Adventure', \"Children's\", 'Comedy', \"Children's\", 'Comedy', 'Sci-Fi', 'Adventure', \"Children's\", 'Comedy', 'Fantasy', 'Sci-Fi', 'Action', 'Thriller', \"Children's\", 'Drama', 'Drama', 'Romance', 'War', 'Animation', \"Children's\", 'Comedy', 'Musical', 'Animation', \"Children's\", 'Comedy', 'Musical', 'Romance', \"Children's\", 'Comedy', \"Children's\", 'Musical', 'Animation', \"Children's\", 'Fantasy', 'Musical', 'Adventure', 'Comedy', 'Musical', 'Animation', \"Children's\", 'Adventure', \"Children's\", 'Fantasy', 'Sci-Fi', 'Action', 'Adventure', 'Sci-Fi', 'Animation', \"Children's\", 'Musical', 'Comedy', 'Fantasy', 'Romance', 'Action', 'Adventure', 'Fantasy', 'Sci-Fi', 'Comedy', 'Action', 'Adventure', 'Comedy', 'Action', 'Crime', 'Mystery', 'Thriller', 'Comedy', 'Adventure', 'Musical', 'Comedy', \"Children's\", 'Fantasy', 'Sci-Fi', 'Animation', \"Children's\", 'Comedy', 'Comedy', 'Comedy', \"Children's\", 'Comedy', 'Adventure', \"Children's\", 'Fantasy', 'Comedy', 'Fantasy', 'Action', 'Adventure', 'Fantasy', 'Action', 'Crime', 'Drama', 'Comedy', 'Drama', 'Crime', 'Drama', 'Action', 'Crime', 'Thriller', 'Action', 'Horror', 'Sci-Fi', 'Thriller', 'Drama', 'Romance', 'Animation', \"Children's\", 'Drama', 'Romance', 'Comedy', 'Mystery', 'Sci-Fi', 'Comedy', 'Comedy', 'Drama', 'Action', 'Thriller', 'Comedy', 'Action', 'Thriller', 'Animation', \"Children's\", 'Comedy', 'Action', 'Comedy', 'Comedy', 'Comedy', 'Drama', 'Action', 'Sci-Fi', 'Animation', 'Musical', 'Comedy', 'Romance', 'Adventure', \"Children's\", 'Fantasy', 'Western', 'Action', 'War', 'Action', 'Adventure', 'Comedy', 'Romance', 'Action', 'Adventure', 'Comedy', 'Romance', 'Action', 'Drama', 'Action', 'Drama', 'Action', 'Drama', 'Action', 'Drama', 'Comedy', 'Mystery', 'Action', 'Adventure', 'Mystery', 'Comedy', 'Action', 'Adventure', 'Drama', 'Action', 'Adventure', 'Drama', 'Comedy', 'Comedy', 'Romance', 'Action', 'Drama', 'War', 'Comedy', 'Drama', 'Adventure', \"Children's\", 'Sci-Fi', 'Adventure', 'Comedy', 'Comedy', 'Western', 'Comedy', 'Romance', 'Drama', 'Action', 'Sci-Fi', 'Action', 'Sci-Fi', 'Action', 'Sci-Fi', 'Action', 'Sci-Fi', 'Action', 'Sci-Fi', 'Drama', 'Comedy', 'Comedy', 'Action', 'Sci-Fi', 'Thriller', 'Comedy', 'Comedy', 'Romance', 'Action', 'Crime', 'Action', 'Adventure', 'Horror', 'Thriller', 'Action', 'Adventure', 'Fantasy', 'Sci-Fi', 'Action', 'Adventure', 'Sci-Fi', 'Action', 'Adventure', 'Sci-Fi', 'Action', 'Adventure', 'Sci-Fi', 'Action', 'Adventure', 'Sci-Fi', 'Horror', 'Sci-Fi', 'Comedy', 'Romance', 'Comedy', 'Animation', \"Children's\", 'Action', 'Comedy', 'Sci-Fi', 'Thriller', 'Action', 'Sci-Fi', 'Western', 'Comedy', 'Comedy', 'Horror', 'Comedy', 'Horror', 'Action', 'Adventure', \"Children's\", 'Comedy', 'Action', 'Adventure', 'Comedy', 'Comedy', 'Horror', 'Musical', 'Comedy', 'Animation', \"Children's\", 'Thriller', 'Comedy', 'Comedy', 'Comedy', 'Comedy', 'Comedy', 'Fantasy', 'Comedy', 'Drama', 'Action', 'War', 'Action', 'War', 'Action', 'War', 'Adventure', 'Romance', 'Sci-Fi', 'Thriller', 'Animation', 'Musical', 'Comedy', 'Drama', 'Comedy', 'Comedy', 'Musical', 'Drama', 'War', 'Action', 'Adventure', 'Sci-Fi', 'Thriller', 'Comedy', 'Western', 'Comedy', 'Drama', 'Action', 'War', 'Comedy', 'Musical', 'Action', 'Adventure', 'Drama', 'Romance', 'Action', 'Western', \"Children's\", 'Comedy', 'Action', 'Adventure', 'Fantasy', 'Sci-Fi', 'Action', 'Crime', 'Sci-Fi', 'Adventure', 'Animation', 'Film-Noir', 'Action', 'Action', 'Action', 'Action', 'Drama', 'Comedy', 'Sci-Fi', 'Animation', \"Children's\", 'Drama', 'Action', 'Drama', 'War', 'Adventure', 'Comedy', 'Sci-Fi', 'Horror', 'Romance', 'Action', 'Thriller', 'Drama', 'Comedy', 'Romance', 'Action', 'Drama', 'Animation', \"Children's\", 'Comedy', 'Documentary', 'Musical', 'Drama', 'Thriller', 'Adventure', 'Comedy', 'Sci-Fi', 'Action', 'Comedy', 'Animation', \"Children's\", 'Comedy', 'Comedy', 'Crime', 'Drama', 'Drama', 'Comedy', 'Comedy', 'Comedy', 'Drama', 'Action', 'Thriller', 'Comedy', 'Drama', 'Romance', 'Drama', 'Comedy', 'Drama', 'Romance', 'Adventure', 'Romance', 'Sci-Fi', 'Drama', 'Sci-Fi', 'Comedy', 'Drama', 'Drama', 'Mystery', 'Comedy', \"Children's\", 'Comedy', \"Children's\", 'Comedy', \"Children's\", 'Comedy', 'Action', 'Drama', 'Action', 'Drama', 'Comedy', 'Comedy', 'Drama', 'Action', \"Children's\", 'Fantasy', 'Action', \"Children's\", 'Fantasy', 'Comedy', 'Drama', 'War', 'Comedy', 'Comedy', 'Drama', 'Sci-Fi', 'Horror', 'Mystery', 'Thriller', 'Comedy', 'Drama', 'Adventure', 'Fantasy', 'Romance', 'Animation', \"Children's\", 'Adventure', 'Fantasy', 'Horror', 'Comedy', 'Action', 'Sci-Fi', 'Thriller', 'Comedy', 'Action', 'Thriller', 'Action', 'Drama', 'Comedy', 'Drama', 'Comedy', 'Comedy', 'Romance', 'Animation', \"Children's\", 'Action', 'Thriller', 'Action', 'Comedy', 'Action', 'Action', 'Action', 'Romance', 'Sci-Fi', 'Action', 'Action', 'Drama', 'War', 'Comedy', 'Western', 'Musical', 'Western', 'Comedy', 'Adventure', 'Drama', 'Romance', 'Sci-Fi', 'Adventure', 'Animation', 'Sci-Fi', 'Action', 'Drama', 'War', 'Action', 'Crime', 'Thriller', 'Action', 'Sci-Fi', 'Thriller', 'Comedy', 'Comedy', 'Comedy', 'Action', 'Adventure', 'Fantasy', 'Comedy', 'Drama', 'Adventure', 'Sci-Fi', 'Comedy', 'Animation', \"Children's\", 'Comedy', 'Animation', \"Children's\", 'Action', 'Comedy', 'Drama', 'Action', 'Thriller', 'Action', 'Thriller', 'Action', 'Adventure', 'Crime', 'Drama', 'Action', 'Crime', 'Sci-Fi', 'Action', 'Thriller', 'Crime', 'Drama', 'Action', 'Adventure', 'Thriller', 'Animation', \"Children's\", 'Musical', 'Action', 'Thriller', 'Action', 'Romance', 'Thriller', 'Action', 'Adventure', 'Comedy', 'Romance', 'Action', 'Thriller', 'Action', 'Thriller', 'Action', 'Adventure', 'Sci-Fi', 'Action', 'Thriller', 'Drama', 'War', 'Documentary', 'Action', 'Sci-Fi', 'Thriller', 'Action', 'Adventure', 'Crime', 'Drama', 'Animation', \"Children's\", 'Musical', 'Animation', \"Children's\", 'Musical', 'Action', 'Adventure', 'Mystery', 'Animation', \"Children's\", 'Musical', 'Action', 'Adventure', 'Thriller', 'Animation', 'Sci-Fi', 'Action', 'Sci-Fi', 'War', 'Animation', \"Children's\", 'Musical', 'Action', 'Crime', 'Drama', 'Action', 'Thriller', 'Drama', 'Action', 'Romance', 'Animation', 'Comedy', 'Drama', 'Action', 'Adventure', 'Drama', 'Sci-Fi', 'War', 'Action', 'Sci-Fi', 'Thriller', 'War', 'Adventure', 'War', 'Action', 'Adventure', 'Romance', 'Sci-Fi', 'War', 'Action', 'Adventure', 'Comedy', 'Horror', 'Sci-Fi', 'Action', 'Drama', 'War', 'Film-Noir', 'Mystery', 'Thriller', 'Film-Noir', 'Thriller', 'Adventure', 'Animation', 'Sci-Fi', 'Thriller', 'Action', 'Adventure', 'Sci-Fi', 'Action', 'Thriller', 'Action', 'Adventure', 'Sci-Fi', 'Action', 'Romance', 'War', 'Action', 'Sci-Fi', 'Drama', 'Romance', 'Adventure', 'Animation', \"Children's\", 'Comedy', 'Musical', 'Action', 'Adventure', 'Comedy', 'Sci-Fi', 'Drama', 'Sci-Fi', 'Action', 'Adventure', 'Sci-Fi', 'War', 'Animation', \"Children's\", 'Drama', 'Horror', 'Action', 'Adventure', 'Romance', 'Action', 'Drama', 'War', 'Action', 'Thriller', 'Animation', \"Children's\", 'Comedy', 'Musical', 'Romance', 'Action', 'Adventure', 'Fantasy', 'Sci-Fi', 'Action', 'Crime', 'Drama', 'Action', 'Crime', 'Thriller', 'Animation', \"Children's\", 'Mystery', 'Sci-Fi', 'Action', 'Adventure', 'Drama', 'Thriller', 'Action', 'Thriller', 'Animation', \"Children's\", 'Comedy', 'Animation', 'Musical', 'Action', 'Sci-Fi', 'Thriller', 'Action', 'Adventure', 'Horror', 'Thriller', 'Action', 'Adventure', 'Fantasy', 'Sci-Fi', 'Action', 'Adventure', 'Sci-Fi', 'Action', 'Adventure', 'Sci-Fi', 'Animation', \"Children's\", 'Action', 'Crime', 'Romance', 'Animation', 'Comedy', 'Animation', \"Children's\", 'Action', 'Thriller', 'Comedy', 'Drama', 'Drama', 'Action', 'Adventure', 'Sci-Fi', 'Thriller', 'Action', 'Action', 'Crime', 'Sci-Fi', 'Action', 'Adventure', 'Animation', 'Action', 'Thriller', 'Thriller', 'Animation', \"Children's\", 'Comedy', 'Animation', \"Children's\", 'Action', 'Crime', 'Action', 'Thriller', 'Comedy', 'Crime', 'Drama', 'Action', \"Children's\", 'Fantasy', 'Action', 'Romance', 'Action', 'Drama', 'Animation', \"Children's\", 'Action', 'Sci-Fi', 'Action', 'Sci-Fi', 'Crime', 'Drama', 'Action', 'Comedy', 'Crime', 'Drama', 'Animation', \"Children's\", 'Comedy', 'Action', 'Adventure', 'Thriller', 'Comedy', 'Horror', 'Action', 'Sci-Fi', 'Animation', \"Children's\", 'Comedy', 'Comedy', 'Drama', 'Romance', \"Children's\", 'Comedy', 'Drama', 'Comedy', 'Romance', 'Drama', 'Comedy', 'Animation', \"Children's\", 'Comedy', 'Musical', 'Comedy', 'Horror', 'Comedy', 'Romance', 'Horror', 'Comedy', 'Comedy', 'Crime', 'Film-Noir', 'Mystery', 'Thriller', 'Drama', 'Romance', 'Comedy', 'Drama', 'Romance', 'Comedy', 'Animation', \"Children's\", 'Comedy', 'Comedy', 'Romance', 'Comedy', 'Comedy', 'Comedy', 'Drama', 'Animation', \"Children's\", 'Comedy', 'Animation', \"Children's\", 'Musical', 'Comedy', 'Drama', 'Comedy', 'Drama', 'Thriller', 'Thriller', 'Action', 'Sci-Fi', 'Thriller', 'Drama', 'Thriller', 'Drama', 'Romance', 'Comedy', 'Drama', 'Drama', 'Comedy', 'Comedy', 'Comedy', 'Horror', 'Action', 'Sci-Fi', 'Comedy', 'Sci-Fi', 'Thriller', 'Comedy', 'Drama', 'Animation', \"Children's\", 'Comedy', 'Action', 'Crime', 'Thriller', 'Drama', 'Romance', \"Children's\", 'Comedy', 'Drama', 'Drama', 'Comedy', 'Romance', 'Crime', 'Thriller', 'Action', 'Drama', 'War', 'Drama', 'Drama', 'Romance', 'War', 'Drama', 'Thriller', 'War', 'Documentary', 'Crime', 'Drama', 'Drama', 'Animation', \"Children's\", 'Musical', 'Comedy', 'Romance', 'Action', 'Thriller', 'Action', 'Thriller', 'Comedy', 'Drama', 'War', 'Animation', \"Children's\", 'Comedy', 'Musical', 'Drama', 'Thriller', 'Crime', 'Drama', 'Thriller', 'Drama', 'Thriller', 'Drama', 'Drama', 'Romance', 'Comedy', 'Drama', 'Crime', 'Thriller', 'Drama', 'Drama', 'Romance', 'War', 'Crime', 'Drama', 'Drama', 'Thriller', 'Action', 'Romance', 'War', 'Comedy', 'Crime', 'Crime', 'Film-Noir', 'Mystery', 'Thriller', 'Drama', 'Comedy', 'Drama', 'Crime', 'Drama', 'Comedy', 'Thriller', 'Comedy', 'Comedy', 'Action', 'Drama', 'War', 'Comedy', 'Drama', 'Comedy', 'Comedy', 'Drama', 'Animation', \"Children's\", 'Comedy', 'Comedy', 'Comedy', 'Comedy', 'Romance', 'Action', 'Drama', 'War', 'Comedy', 'Crime', 'Thriller', 'Action', 'Sci-Fi', 'Thriller', 'Crime', 'Comedy', 'Thriller', 'Comedy', 'Comedy', 'Drama', 'Drama', 'War', 'Comedy', 'Crime', 'Drama', 'Comedy', 'Drama', 'Animation', \"Children's\", 'Comedy', 'Drama', 'Thriller', 'Comedy', 'Animation', \"Children's\", 'Comedy', 'Adventure', \"Children's\", 'Fantasy', 'Action', 'Adventure', 'Thriller', 'Action', 'Comedy', 'Drama', 'Adventure', \"Children's\", 'Fantasy', 'Action', 'Adventure', 'Crime', 'Drama', 'Mystery', 'Adventure', \"Children's\", 'Crime', 'Film-Noir', 'Mystery', 'Thriller', 'Comedy', 'Comedy', 'Drama', 'Action', 'Adventure', 'Sci-Fi', 'Action', 'Adventure', 'Sci-Fi', 'Drama', 'Mystery', 'Thriller', 'Comedy', 'Romance', 'War', 'Comedy', 'Romance', 'Action', 'Comedy', 'Western', 'Action', 'Adventure', 'Comedy', 'Romance', 'Comedy', 'Mystery', 'Romance', 'Adventure', 'Drama', 'Western', 'Action', 'Adventure', 'Mystery', 'Action', 'Adventure', 'Comedy', 'War', 'Action', 'Adventure', 'Romance', 'Thriller', 'Adventure', \"Children's\", 'Comedy', 'Mystery', 'Thriller', 'Comedy', 'Action', 'Adventure', 'Sci-Fi', 'Action', 'Adventure', 'Sci-Fi', 'Mystery', 'Thriller', 'Mystery', 'Thriller', 'Comedy', 'Crime', 'Action', 'Adventure', 'Sci-Fi', 'Thriller', 'Action', 'Adventure', 'Thriller', 'Action', 'Adventure', 'Comedy', 'Sci-Fi', 'Crime', 'Drama', 'Mystery', 'Action', 'Mystery', 'Romance', 'Thriller', 'Crime', 'Film-Noir', 'Mystery', 'Thriller', 'Mystery', 'Thriller', 'Comedy', 'Crime', 'Horror', 'Mystery', 'Thriller', 'Action', 'Adventure', 'Sci-Fi', 'War', 'Comedy', 'Crime', 'Drama', 'Mystery', 'Comedy', 'Action', 'Mystery', 'Thriller', 'Mystery', 'Thriller', 'Adventure', 'Comedy', 'Romance', 'Action', 'Crime', 'Drama', 'Adventure', \"Children's\", 'Drama', 'Romance', 'Adventure', \"Children's\", 'Sci-Fi', 'Action', 'Adventure', 'Sci-Fi', 'Action', 'Adventure', 'Comedy', 'Animation', \"Children's\", 'Comedy', 'Comedy', 'Comedy', 'Romance', 'Mystery', 'Action', 'Adventure', 'Horror', 'Thriller', 'Action', 'Adventure', 'Fantasy', 'Sci-Fi', 'Comedy', 'Comedy', 'Drama', 'Mystery', 'Romance', 'Thriller', 'War', 'Adventure', 'Comedy', 'Sci-Fi', 'Drama', 'Mystery', 'Thriller', 'Adventure', 'Romance', 'Sci-Fi', 'Drama', 'Mystery', 'Horror', 'Mystery', 'Thriller', 'Adventure', 'Fantasy', 'Comedy', 'Animation', \"Children's\", 'Comedy', 'Action', \"Children's\", 'Comedy', 'Drama', 'Crime', 'Thriller', 'Drama', 'Action', 'Adventure', 'Fantasy', 'Sci-Fi', 'Comedy', 'Romance', 'War', 'Action', 'Romance', 'Thriller', 'Action', 'Adventure', 'Comedy', 'Romance', 'Action', 'Adventure', 'Crime', 'Drama', 'Thriller', 'Action', 'Adventure', 'Sci-Fi', 'Comedy', 'Drama', 'Comedy', 'Romance', 'Thriller', 'Animation', \"Children's\", 'Comedy', 'Musical', 'Action', 'Adventure', 'Crime', 'Drama', 'Animation', \"Children's\", 'Musical', 'Comedy', 'Romance', 'Crime', 'Drama', 'Thriller', 'Action', 'Adventure', 'Mystery', 'Action', 'Adventure', 'Thriller', 'Action', 'Adventure', 'Romance', 'Thriller', 'Action', 'Sci-Fi', 'War', 'Drama', 'Thriller', 'Drama', 'Action', 'Adventure', 'Romance', 'War', 'Action', 'Thriller', 'Drama', 'War', 'Drama', 'Romance', 'War', \"Children's\", 'Drama', 'Fantasy', 'Sci-Fi', 'Action', 'Romance', 'Action', 'Romance', 'Drama', 'Action', 'Adventure', 'Drama', 'Sci-Fi', 'War', 'Action', 'Adventure', 'Action', 'Adventure', 'Romance', 'Sci-Fi', 'War', 'Action', 'Comedy', 'Musical', 'Comedy', 'Romance', 'Drama', 'Drama', 'War', 'Adventure', 'Comedy', 'Drama', 'Comedy', 'Sci-Fi', 'Action', 'Adventure', 'Comedy', 'War', 'Drama', 'Musical', 'War', 'Thriller', 'Action', 'Adventure', 'Sci-Fi', 'Action', 'Adventure', 'Sci-Fi', 'Action', 'Horror', 'Action', 'Thriller', 'Action', 'Adventure', 'Thriller', 'Action', 'Adventure', 'Crime', 'Action', 'Sci-Fi', 'Thriller', 'Action', 'Adventure', 'Comedy', 'Sci-Fi', 'Action', 'Drama', 'War', 'Action', 'Thriller', 'Action', 'Thriller', 'Drama', 'Drama', 'Romance', 'Comedy', 'Drama', 'Documentary', 'Action', 'Adventure', 'Sci-Fi', 'Thriller', 'Comedy', 'Action', 'Drama', 'Comedy', 'Drama', 'Action', 'Comedy', 'Crime', 'Drama', 'Action', 'Drama', 'War', 'Action', 'Thriller', 'Adventure', 'Comedy', 'Musical', 'Action', 'Adventure', 'Adventure', 'Comedy', 'Action', 'Crime', 'Drama', 'Drama', 'Crime', 'Drama', 'Action', 'Thriller', 'Action', 'Adventure', 'Comedy', 'Romance', 'Action', 'Drama', 'Action', 'Adventure', 'Drama', 'Action', 'Adventure', 'Drama', 'Comedy', 'Drama', 'Adventure', \"Children's\", 'Sci-Fi', 'Adventure', 'Comedy', 'Adventure', 'Comedy', 'Action', 'Sci-Fi', 'Thriller', 'Action', 'Adventure', 'Fantasy', 'Sci-Fi', 'Action', 'Comedy', 'Sci-Fi', 'Thriller', 'Drama', 'Thriller', 'Action', 'Thriller', 'Thriller', 'Action', 'War', 'Comedy', 'Drama', 'Adventure', 'Drama', 'Romance', 'Adventure', 'Animation', 'Film-Noir', 'Action', 'Thriller', 'War', 'Action', 'Drama', 'Animation', \"Children's\", 'Comedy', 'Drama', 'Thriller', \"Children's\", 'Comedy', 'Adventure', 'Comedy', 'Sci-Fi', 'Drama', 'Comedy', 'Drama', 'Action', 'Drama', 'Mystery', 'Drama', 'Thriller', 'Comedy', 'Drama', 'War', 'Comedy', 'Comedy', 'Action', 'Thriller', 'Action', 'Thriller', 'Action', 'Romance', 'Sci-Fi', 'Action', 'Sci-Fi', 'Action', 'Crime', 'Action', 'Drama', 'War', 'Action', 'Adventure', 'Thriller', 'Comedy', 'Drama', 'Comedy', 'Animation', \"Children's\", 'Comedy', 'Drama', 'Romance', 'Romance', 'Action', 'Adventure', 'Comedy', 'Comedy', 'Mystery', 'Comedy', 'Drama', 'Animation', 'Comedy', 'Thriller', 'Comedy', 'Crime', 'Drama', 'Romance', 'War', 'Adventure', \"Children's\", 'Comedy', 'Fantasy', 'Comedy', 'Comedy', 'Action', 'Adventure', 'Comedy', 'Romance', 'Western', 'Comedy', 'Romance', 'Comedy', 'Drama', 'Comedy', 'War', 'Comedy', 'Romance', 'Comedy', 'Sci-Fi', 'Comedy', 'Horror', 'Action', 'Comedy', 'Western', 'Comedy', 'Romance', 'Comedy', 'Crime', 'Comedy', 'Drama', 'Romance', 'Comedy', 'Drama', 'Action', 'Crime', 'Romance', 'Comedy', 'Musical', 'Musical', 'Romance', 'Comedy', 'Comedy', 'Drama', 'Comedy', 'Documentary', 'Animation', \"Children's\", 'Comedy', 'Musical', 'Comedy', 'Drama', 'Romance', 'Comedy', 'Musical', 'Comedy', 'Drama', 'Animation', \"Children's\", 'Comedy', 'Comedy', 'Romance', 'Comedy', 'Horror', 'Musical', 'Sci-Fi', 'Comedy', 'Action', 'Crime', 'Romance', 'Comedy', 'Comedy', 'Drama', 'Thriller', 'Comedy', 'Comedy', 'Fantasy', 'Comedy', 'Drama', 'Comedy', 'Drama', 'Comedy', 'Musical', 'Drama', 'Comedy', 'Comedy', 'Comedy', 'Drama', 'Western', 'Comedy', 'Drama', 'Drama', 'Drama', \"Children's\", 'Comedy', 'Comedy', 'Drama', 'Western', 'Comedy', 'Comedy', 'Romance', 'Comedy', 'Drama', 'Drama', 'Action', 'Drama', 'Comedy', 'Comedy', 'Western', 'Animation', \"Children's\", 'Comedy', 'Comedy', 'Horror', 'Action', 'Sci-Fi', 'Sci-Fi', 'Thriller', 'Animation', \"Children's\", 'Comedy', 'Adventure', \"Children's\", 'Action', 'Drama', 'Sci-Fi', \"Children's\", 'Comedy', 'Drama', 'Comedy', 'Romance', 'Action', 'Adventure', 'Crime', 'Thriller', 'Sci-Fi', 'Thriller', 'Action', 'Comedy', 'Crime', 'Horror', 'Thriller', 'Action', 'Thriller', 'Comedy', 'Action', 'Drama', 'War', 'Action', 'Adventure', 'Crime', 'Action', 'Adventure', 'Comedy', 'Crime', 'Action', 'Thriller', 'Action', 'Adventure', 'Drama', 'Romance', 'Action', 'Sci-Fi', 'Thriller', 'Action', 'Adventure', 'Sci-Fi', 'Comedy', 'Sci-Fi', 'Thriller', 'Horror', 'Sci-Fi', 'Action', 'Crime', 'Sci-Fi', 'Action', 'Adventure', 'Comedy', 'Thriller', 'Drama', 'Horror', 'Action', 'Adventure', 'Sci-Fi', 'Action', 'Adventure', 'Sci-Fi', 'Action', 'Romance', 'Thriller', 'Comedy', 'Romance', 'War', 'Action', 'Romance', 'Thriller', 'Action', 'Sci-Fi', 'Action', 'Adventure', 'Comedy', 'Romance', 'Action', 'Sci-Fi', 'Action', 'Adventure', 'Crime', 'Comedy', 'Sci-Fi', 'Action', 'Sci-Fi', 'Action', 'Thriller', 'Action', 'Adventure', 'Crime', 'Thriller', 'Action', 'Comedy', 'War', 'Action', 'Adventure', 'Sci-Fi', 'Action', 'Comedy', 'Action', 'Drama', 'Sci-Fi', 'Thriller', 'Action', 'Adventure', \"Children's\", 'Sci-Fi', 'Action', 'Sci-Fi', 'Thriller', 'Adventure', 'Drama', 'Western', 'Action', 'Adventure', 'Crime', 'Drama', 'Comedy', 'Romance', 'Action', 'Adventure', 'Mystery', 'Action', 'Adventure', 'Fantasy', 'Comedy', 'Comedy', 'Sci-Fi', 'Action', 'Sci-Fi', 'Thriller', 'Action', 'Adventure', 'Animation', 'Action', 'Adventure', 'Thriller', 'Action', 'Sci-Fi', 'War', 'Comedy', 'Action', 'Thriller', 'Action', 'Adventure', 'Thriller', 'Action', 'Adventure', 'Sci-Fi', 'Thriller', 'Action', 'Thriller', 'Action', 'Adventure', 'Thriller', 'Action', 'Thriller', 'Adventure', \"Children's\", \"Children's\", 'Comedy', 'Musical', 'Action', 'Thriller', 'Action', 'Sci-Fi', 'Thriller', 'Comedy', 'Animation', 'Comedy', 'Comedy', 'Sci-Fi', 'Action', 'Adventure', 'Drama', 'Sci-Fi', 'War', 'Action', 'Adventure', 'Comedy', 'Romance', 'Action', 'Adventure', 'Action', 'Sci-Fi', 'Thriller', 'War', 'Action', 'Animation', \"Children's\", 'Sci-Fi', 'Thriller', 'War', 'Action', 'Adventure', 'Romance', 'Sci-Fi', 'War', 'Action', 'Adventure', 'Comedy', 'Horror', 'Sci-Fi', 'Action', 'Drama', 'War', 'Action', 'Sci-Fi', 'Thriller', 'Action', 'Adventure', 'Comedy', 'Horror', 'Comedy', 'Romance', 'Comedy', 'Sci-Fi', 'Action', 'Adventure', 'Action', 'Adventure', 'Comedy', 'Drama', 'Musical', 'War', 'Action', 'Horror', 'Sci-Fi', 'Thriller', 'Action', 'Adventure', 'Sci-Fi', 'Action', 'Thriller', 'Action', 'Adventure', 'Sci-Fi', 'Action', 'Adventure', 'Sci-Fi', 'Action', 'Adventure', 'Sci-Fi', 'Action', 'Adventure', 'Sci-Fi', 'Action', 'Adventure', 'Sci-Fi', 'Action', 'Adventure', 'Sci-Fi', 'Action', 'Adventure', 'Comedy', 'Crime', 'Comedy', 'Action', 'Action', 'Comedy', 'Action', 'Romance', 'Thriller', 'Comedy', 'Action', 'Sci-Fi', 'Action', 'Adventure', 'Sci-Fi', 'Thriller', 'Action', 'Adventure', 'Thriller', 'Action', 'Romance', 'Thriller', 'Action', 'Adventure', 'Crime', 'Action', 'Sci-Fi', 'Thriller', 'Action', 'Adventure', 'Comedy', 'Sci-Fi', 'Drama', 'Sci-Fi', 'Action', 'Adventure', 'Action', 'Mystery', 'Sci-Fi', 'Thriller', 'Action', 'Adventure', 'Sci-Fi', 'Thriller', 'Action', 'Mystery', 'Romance', 'Thriller', 'Action', 'Adventure', 'Action', 'Thriller', 'Action', 'Thriller', 'Adventure', 'Thriller', 'Comedy', 'Action', 'Adventure', 'Sci-Fi', 'War', 'Action', 'Horror', 'Sci-Fi', 'Action', 'Romance', 'Thriller', 'Comedy', 'Crime', 'Mystery', 'Thriller', 'Action', 'Thriller', 'Comedy', 'Drama', 'Action', 'Sci-Fi', 'Thriller', 'Action', 'Comedy', 'Action', 'Sci-Fi', 'Comedy', 'Mystery', 'Sci-Fi', 'Thriller', 'Action', 'Adventure', 'Sci-Fi', 'Thriller', 'Action', 'Comedy', 'Crime', 'Drama', 'Sci-Fi', 'Thriller', 'Comedy', 'Drama', 'Comedy', 'Drama', 'Horror', 'Thriller', 'Horror', 'Action', 'Comedy', 'Crime', 'Drama', 'Action', 'Comedy', 'Crime', 'Drama', 'Action', 'Comedy', 'Crime', 'Drama', 'Comedy', 'Horror', 'Comedy', 'Sci-Fi', 'Comedy', 'Sci-Fi', 'Western', 'Action', 'Drama', 'War', 'Adventure', \"Children's\", 'Sci-Fi', \"Children's\", 'Comedy', 'Sci-Fi', 'Adventure', \"Children's\", 'Comedy', 'Fantasy', 'Sci-Fi', 'Animation', \"Children's\", 'Comedy', 'Musical', 'Romance', 'Adventure', 'Comedy', 'Musical', 'Action', 'Adventure', 'Sci-Fi', 'Animation', \"Children's\", 'Musical', 'Action', 'Adventure', 'Fantasy', 'Sci-Fi', 'Action', 'Adventure', 'Action', 'Crime', 'Mystery', 'Thriller', 'Comedy', 'Comedy', 'Action', 'Adventure', 'Horror', 'Action', 'Comedy', 'Comedy', 'Fantasy', 'Action', 'Adventure', 'Fantasy', 'Action', 'Action', 'Thriller', 'Drama', 'Thriller', 'Comedy', 'Action', 'Adventure', 'Sci-Fi', 'Thriller', 'War', 'Action', 'Thriller', 'Action', 'Thriller', 'Animation', \"Children's\", 'Comedy', 'Action', 'Adventure', 'Drama', 'Comedy', 'Comedy', 'Action', 'Sci-Fi', 'Adventure', \"Children's\", 'Fantasy', 'Action', 'War', 'Action', 'Action', 'Drama', 'Action', 'Drama', 'Horror', 'Sci-Fi', 'Adventure', 'Comedy', 'Comedy', 'Western', 'Action', 'Thriller', 'Action', 'Sci-Fi', 'Thriller', 'Comedy', 'Romance', 'Comedy', 'Action', 'Adventure', 'Horror', 'Thriller', 'Action', 'Action', 'Adventure', 'Fantasy', 'Sci-Fi', 'Comedy', 'Horror', 'Musical', 'Sci-Fi', 'Action', 'Crime', 'Romance', 'Action', 'Comedy', 'Sci-Fi', 'Thriller', 'Animation', 'Comedy', 'Action', 'Sci-Fi', 'Western', 'Comedy', 'Comedy', 'Horror', 'Comedy', 'Horror', 'Action', 'Adventure', 'Comedy', 'Comedy', 'Comedy', 'Comedy', 'Comedy', 'Action', 'Sci-Fi', 'Action', 'Sci-Fi', 'Action', 'Horror', 'Thriller', 'Comedy', 'Drama', 'Comedy', 'Horror', 'Action', 'Adventure', 'Comedy', 'Action', 'Adventure', 'Sci-Fi', 'Thriller', 'Comedy', 'Action', 'Crime', 'Sci-Fi', 'Action', 'Crime', 'Sci-Fi', 'Comedy', 'Comedy', 'Sci-Fi', 'Comedy', 'Comedy', 'Action', 'Drama', 'Action', 'Thriller', 'Adventure', 'Comedy', 'Sci-Fi', 'Action', 'Comedy', 'Comedy', 'Comedy', 'Action', 'Thriller', 'Drama', 'Thriller', 'Action', \"Children's\", 'Fantasy', 'Action', \"Children's\", 'Fantasy', 'Action', \"Children's\", 'Fantasy', 'Action', 'Comedy', 'Drama', 'War', 'Comedy', 'Thriller', 'Drama', 'Thriller', 'Action', 'Sci-Fi', 'Thriller', 'Comedy', 'Action', 'Drama', 'Comedy', 'Drama', 'Comedy', 'Comedy', 'Action', 'Action', 'Sci-Fi', 'Action', 'Sci-Fi', 'Action', 'Crime', 'Animation', \"Children's\", 'Comedy', 'Action', 'Drama', 'War', 'Action', 'War', 'Action', 'War', 'Comedy', 'Horror', 'Action', 'Sci-Fi', 'Comedy', 'Sci-Fi', 'Thriller', 'Action', 'Adventure', 'Sci-Fi', 'Comedy', 'Action', 'Adventure', 'Fantasy', 'Drama', 'Animation', \"Children's\", 'Comedy', 'Adventure', \"Children's\", 'Fantasy', 'Adventure', \"Children's\", 'Animation', \"Children's\", 'Comedy', \"Children's\", 'Comedy', 'Drama', 'Animation', \"Children's\", 'Musical', 'Romance', 'Adventure', \"Children's\", 'Fantasy', \"Children's\", 'Comedy', 'Adventure', \"Children's\", 'Comedy', 'Musical', 'Adventure', \"Children's\", 'Adventure', \"Children's\", 'Adventure', \"Children's\", 'Drama', 'Action', \"Children's\", 'Comedy', 'Adventure', \"Children's\", 'Animation', \"Children's\", 'Comedy', 'Romance', 'Adventure', \"Children's\", 'Comedy', 'Fantasy', 'Romance', \"Children's\", 'Drama', \"Children's\", 'Comedy', 'Fantasy', \"Children's\", 'Comedy', 'Adventure', \"Children's\", 'Romance', 'Animation', \"Children's\", 'Musical', 'Adventure', \"Children's\", 'Drama', 'Action', 'Adventure', 'Sci-Fi', 'Comedy', 'Action', \"Children's\", \"Children's\", 'Drama', 'Action', 'Adventure', \"Children's\", 'Sci-Fi', \"Children's\", 'Comedy', 'Musical', 'Action', 'Adventure', 'Animation', \"Children's\", 'Fantasy', \"Children's\", 'Comedy', 'Adventure', \"Children's\", \"Children's\", 'Comedy', 'Animation', \"Children's\", 'Comedy', 'Musical', 'Animation', \"Children's\", 'Musical', 'Animation', \"Children's\", 'Musical', 'Animation', \"Children's\", 'Adventure', \"Children's\", 'Animation', \"Children's\", 'Animation', \"Children's\", 'Musical', 'Comedy', 'Animation', \"Children's\", 'Musical', 'Comedy', 'Sci-Fi', 'Adventure', 'Animation', \"Children's\", 'Comedy', 'Fantasy', 'Comedy', 'Animation', \"Children's\", 'Adventure', \"Children's\", 'Animation', 'Comedy', 'Thriller', 'Action', 'Sci-Fi', 'War', 'Animation', \"Children's\", 'Musical', 'Comedy', 'Fantasy', 'Romance', 'Sci-Fi', \"Children's\", 'Comedy', \"Children's\", 'Comedy', \"Children's\", 'Drama', 'Fantasy', 'Adventure', \"Children's\", 'Drama', 'Musical', 'Drama', 'Mystery', 'Sci-Fi', 'Thriller', 'Adventure', \"Children's\", \"Children's\", 'Drama', 'Adventure', \"Children's\", \"Children's\", 'Comedy', 'Mystery', \"Children's\", 'Comedy', 'Animation', \"Children's\", 'Musical', 'Animation', \"Children's\", \"Children's\", 'Comedy', 'Musical', 'Animation', \"Children's\", 'Musical', 'Adventure', 'Animation', \"Children's\", 'Musical', 'Animation', \"Children's\", 'Musical', 'Animation', \"Children's\", 'Action', 'Sci-Fi', 'Thriller', 'Animation', \"Children's\", 'Comedy', 'Adventure', \"Children's\", 'Comedy', 'Fantasy', \"Children's\", 'Drama', 'Fantasy', 'Sci-Fi', 'Animation', 'Comedy', 'Action', 'Adventure', 'Drama', 'Sci-Fi', 'War', 'Action', 'Adventure', 'Romance', 'Sci-Fi', 'War', 'Animation', 'Comedy', 'Animation', \"Children's\", 'Musical', 'Adventure', \"Children's\", 'Comedy', \"Children's\", 'Comedy', 'Action', 'Comedy', 'Sci-Fi', 'War', 'Animation', 'Comedy', \"Children's\", 'Comedy', 'Mystery', \"Children's\", 'Comedy', 'Comedy', 'Animation', \"Children's\", 'Musical', 'Action', 'Adventure', \"Children's\", 'Comedy', 'Action', 'Adventure', 'Sci-Fi', 'Thriller', 'Adventure', \"Children's\", 'Drama', 'Adventure', 'Animation', \"Children's\", 'Comedy', 'Musical', 'Action', 'Adventure', 'Comedy', 'Sci-Fi', 'Adventure', \"Children's\", \"Children's\", 'Comedy', \"Children's\", 'Comedy', \"Children's\", 'Drama', 'Fantasy', 'Animation', \"Children's\", 'Musical', \"Children's\", 'Comedy', 'Fantasy', \"Children's\", 'Comedy', \"Children's\", 'Comedy', 'Adventure', \"Children's\", 'Comedy', 'Action', 'Sci-Fi', 'Thriller', 'Adventure', \"Children's\", 'Comedy', 'Fantasy', 'Animation', \"Children's\", 'Comedy', \"Children's\", 'Comedy', 'Animation', \"Children's\", 'Fantasy', 'War', 'Comedy', 'Adventure', \"Children's\", 'Fantasy', 'Adventure', \"Children's\", 'Fantasy', 'Comedy', 'Sci-Fi', 'Western', 'Animation', \"Children's\", \"Children's\", 'Comedy', \"Children's\", 'Comedy', \"Children's\", 'Comedy', 'Sci-Fi', 'Adventure', \"Children's\", 'Comedy', 'Fantasy', 'Sci-Fi', 'Adventure', \"Children's\", \"Children's\", 'Drama', 'Animation', \"Children's\", 'Comedy', 'Musical', 'Animation', \"Children's\", 'Comedy', 'Musical', 'Romance', 'Animation', \"Children's\", 'Comedy', 'Musical', 'Romance', \"Children's\", 'Comedy', \"Children's\", 'Musical', 'Animation', \"Children's\", 'Animation', \"Children's\", 'Fantasy', 'Musical', 'Animation', \"Children's\", 'Animation', \"Children's\", 'Animation', \"Children's\", 'Musical', 'Animation', \"Children's\", 'Musical', 'Animation', \"Children's\", 'Comedy', 'Animation', \"Children's\", 'Animation', \"Children's\", 'Comedy', 'Animation', \"Children's\", 'Comedy', \"Children's\", 'Comedy', 'Adventure', \"Children's\", 'Fantasy', 'Adventure', \"Children's\", 'Fantasy', 'Animation', \"Children's\", 'Comedy', 'Animation', \"Children's\", 'Comedy', 'Animation', \"Children's\", 'Comedy', \"Children's\", 'Comedy', 'Comedy', 'Drama', 'Animation', 'Musical', 'Adventure', \"Children's\", 'Drama', 'Adventure', \"Children's\", 'Drama', 'Comedy', 'Drama', 'Comedy', 'Romance', 'Comedy', 'Animation', \"Children's\", 'Action', 'Sci-Fi', 'Thriller', 'Comedy', 'Romance', 'Comedy', 'Romance', 'Action', 'Adventure', 'Fantasy', 'Sci-Fi', 'Comedy', 'Animation', \"Children's\", 'Comedy', \"Children's\", 'Comedy', 'Action', 'Adventure', \"Children's\", 'Comedy', 'Animation', \"Children's\", \"Children's\", 'Comedy', \"Children's\", 'Adventure', 'Animation', \"Children's\", \"Children's\", 'Comedy', 'Animation', \"Children's\", 'Animation', \"Children's\", 'Animation', \"Children's\", 'Comedy', \"Children's\", 'Comedy', 'Animation', \"Children's\", 'Musical', 'Adventure', 'Comedy', 'Sci-Fi', 'Animation', \"Children's\", 'Drama', 'Action', \"Children's\", 'Fantasy', 'Animation', \"Children's\", 'Animation', \"Children's\", 'Comedy', 'Animation', \"Children's\", 'Comedy', 'Drama', 'Romance', 'Crime', 'Thriller', 'Crime', 'Thriller', 'Drama', 'Romance', 'Crime', 'Drama', 'Romance', 'Thriller', 'Crime', 'Drama', 'Drama', 'Drama', 'Comedy', 'Drama', 'Comedy', 'Action', 'Thriller', 'Comedy', 'Romance', 'Drama', 'Drama', 'Drama', 'Thriller', 'Crime', 'Drama', 'Thriller', 'Animation', 'Animation', 'Comedy', 'Thriller', 'Drama', 'Drama', 'Mystery', 'Drama', 'Crime', 'Thriller', 'Drama', 'Action', 'Romance', 'Animation', 'Comedy', 'Crime', 'Drama', 'Animation', 'Comedy', 'Action', 'Drama', 'War', 'Thriller', 'Drama', 'Thriller', 'Drama', 'Romance', 'Drama', 'Comedy', 'Comedy', 'Drama', 'Sci-Fi', 'Crime', 'Film-Noir', 'Mystery', 'Thriller', 'Drama', 'Action', 'Crime', 'Romance', 'Comedy', 'Drama', 'Drama', 'Animation', \"Children's\", 'Comedy', 'Comedy', 'Comedy', 'Comedy', 'Romance', 'Action', 'Comedy', 'Drama', 'Comedy', 'Crime', 'Thriller', 'Action', 'Sci-Fi', 'Thriller', 'Drama', 'Mystery', 'Action', 'Crime', 'Romance', 'Animation', 'Comedy', 'Thriller', 'Comedy', 'Drama', 'Drama', 'War', 'Action', 'Crime', 'Drama', 'Drama', 'Comedy', 'Drama', 'Drama', 'Drama', 'Thriller', 'Drama', 'Drama', 'Action', 'Sci-Fi', 'Action', 'Thriller', 'Comedy', 'Drama', 'Crime', 'Drama', 'Drama', 'Action', 'Drama', 'Action', 'Romance', 'Drama', 'Thriller', 'Drama', 'Thriller', 'Action', 'Drama', 'Action', 'Sci-Fi', 'Action', 'Thriller', 'Action', 'Comedy', 'Action', 'Crime', 'Action', 'Crime', 'Action', 'Drama', 'War', 'Action', 'Adventure', 'Thriller', 'Crime', 'Drama', 'Action', 'Sci-Fi', 'Comedy', 'Drama', 'Action', 'Sci-Fi', 'Comedy', 'Drama', 'Action', 'Comedy', 'Drama', 'Action', 'Drama', 'Thriller', 'Animation', \"Children's\", 'Comedy', 'Comedy', 'Drama', 'Romance', \"Children's\", 'Comedy', 'Drama', 'Comedy', 'Romance', 'Comedy', 'Comedy', 'Drama', 'Comedy', 'Drama', 'Adventure', \"Children's\", 'Comedy', 'Musical', 'Comedy', 'Comedy', 'Comedy', 'Drama', 'Musical', 'Comedy', 'Drama', 'Comedy', 'Drama', 'Comedy', 'Drama', 'Comedy', 'Comedy', 'Romance', 'Comedy', 'Romance', 'Comedy', 'Drama', 'Comedy', 'Romance', 'War', 'Comedy', 'Romance', 'Animation', \"Children's\", 'Musical', 'Comedy', 'Crime', 'Fantasy', 'Action', 'Comedy', 'Western', 'Comedy', 'Romance', 'Comedy', 'Romance', 'Comedy', 'Romance', 'Comedy', 'Mystery', 'Comedy', 'Romance', 'Comedy', 'Comedy', 'Romance', \"Children's\", 'Comedy', 'Musical', 'Comedy', 'Drama', 'Comedy', 'Drama', 'Comedy', 'Romance', 'Thriller', 'Animation', \"Children's\", 'Comedy', 'Musical', 'Animation', \"Children's\", 'Musical', 'Animation', \"Children's\", 'Musical', 'Comedy', 'Sci-Fi', 'Comedy', 'Romance', 'Comedy', 'Animation', 'Comedy', 'Thriller', 'Sci-Fi', 'War', 'Animation', \"Children's\", 'Musical', 'Musical', 'Romance', 'Musical', 'Romance', 'Comedy', 'Musical', 'Musical', 'Romance', 'Musical', 'Adventure', \"Children's\", 'Drama', 'Musical', 'Musical', 'Comedy', 'Musical', 'Romance', 'Animation', \"Children's\", 'Musical', 'Animation', \"Children's\", 'Musical', 'Animation', \"Children's\", 'Musical', 'Adventure', 'Animation', \"Children's\", 'Musical', 'Adventure', \"Children's\", 'Musical', 'Animation', \"Children's\", 'Musical', 'Musical', 'Comedy', 'Comedy', 'Musical', 'Romance', 'Comedy', 'Drama', 'Comedy', 'Musical', 'Comedy', 'Comedy', 'Romance', 'Comedy', 'Drama', 'Comedy', 'Romance', 'Comedy', 'Drama', 'Musical', 'Comedy', 'Romance', 'Comedy', 'Comedy', 'Comedy', 'Comedy', 'Adventure', 'Animation', \"Children's\", 'Comedy', 'Musical', 'Comedy', 'Comedy', 'Comedy', 'Drama', 'Comedy', 'Drama', 'Comedy', 'Romance', 'Comedy', 'Drama', 'Comedy', 'Drama', 'Comedy', 'Drama', 'Comedy', 'Comedy', 'Drama', 'Comedy', 'Musical', 'Romance', 'Musical', \"Children's\", 'Fantasy', 'Musical', 'Drama', 'Romance', 'Animation', \"Children's\", 'Comedy', 'Musical', 'Animation', \"Children's\", 'Comedy', 'Musical', 'Romance', 'Animation', \"Children's\", 'Comedy', 'Musical', 'Romance', 'Animation', \"Children's\", 'Fantasy', 'Musical', 'Animation', \"Children's\", 'Musical', 'Comedy', 'Romance', 'Adventure', 'Musical', 'Comedy', 'Comedy', 'Drama', 'Romance', 'Comedy', 'Drama', 'Comedy', 'Comedy', 'Comedy', 'Drama', 'Drama', 'Animation', \"Children's\", 'Comedy', 'Comedy', \"Children's\", 'Comedy', 'Comedy', 'Romance', 'Comedy', 'Comedy', 'Comedy', 'Comedy', 'Drama', 'Comedy', 'Comedy', 'Fantasy', 'Comedy', 'Romance', 'Comedy', 'Comedy', 'Comedy', 'Drama', 'Musical', 'Comedy', 'Comedy', 'Comedy', 'Drama', 'Comedy', 'Animation', \"Children's\", 'Comedy', 'Animation', \"Children's\", 'Musical', 'Comedy', 'Drama', 'Adventure', 'Comedy', 'Sci-Fi', 'Drama', 'Comedy', 'Crime', 'Comedy', 'Comedy', 'Drama', 'Comedy', 'Comedy', 'Romance', 'Musical', 'War', 'Musical', 'Comedy', 'Musical', 'Comedy', 'Musical', 'Musical', 'Comedy', 'Romance', 'Comedy', 'Animation', \"Children's\", 'Comedy', 'Drama', 'Sci-Fi', 'Animation', \"Children's\", 'Musical', 'Romance', 'Drama', 'Action', 'Drama', 'War', 'Comedy', 'Comedy', 'Romance', 'War', 'Animation', \"Children's\", 'Musical', 'Action', 'Adventure', 'Sci-Fi', 'Drama', 'War', 'Action', 'Sci-Fi', 'Thriller', 'Adventure', 'Drama', 'Western', 'Drama', 'Thriller', 'Comedy', 'Romance', 'Crime', 'Drama', 'Thriller', 'Animation', \"Children's\", 'Musical', 'Drama', 'Romance', 'War', 'Drama', 'Action', 'Adventure', 'Romance', 'Sci-Fi', 'War', 'Comedy', 'Romance', 'Action', 'Adventure', 'Sci-Fi', 'Action', 'Romance', 'War', 'Drama', 'Musical', 'Adventure', 'Animation', \"Children's\", 'Comedy', 'Musical', \"Children's\", 'Comedy', 'Drama', 'Romance', 'Action', 'Adventure', 'Sci-Fi', 'Thriller', 'Action', 'Adventure', 'Romance', 'Action', 'Drama', 'War', \"Children's\", 'Drama', 'Animation', \"Children's\", 'Animation', \"Children's\", 'Comedy', 'Action', 'Drama', 'War', 'Action', 'Adventure', 'Fantasy', 'Sci-Fi', 'Animation', \"Children's\", 'Thriller', 'Drama', 'Animation', \"Children's\", 'Comedy', 'Drama', 'Thriller', 'Drama', \"Children's\", 'Comedy', 'Drama', 'Comedy', 'Crime', 'Thriller', 'Drama', 'Action', 'Drama', 'Action', 'Drama', 'Comedy', 'Animation', \"Children's\", 'Comedy', 'Comedy', 'Horror', 'Comedy', 'Drama', 'Sci-Fi', \"Children's\", 'Comedy', 'Drama', 'Comedy', 'Drama', 'Crime', 'Thriller', 'Crime', 'Thriller', 'Adventure', \"Children's\", 'Fantasy', 'Comedy', 'Action', 'Thriller', 'Action', 'Drama', 'War', 'Action', 'Adventure', 'Crime', 'Comedy', 'Drama', 'Crime', 'Film-Noir', 'Mystery', 'Thriller', 'Sci-Fi', 'Thriller', 'Action', 'Adventure', 'Comedy', 'Drama', 'Romance', 'Comedy', 'Drama', 'Drama', 'Horror', 'Mystery', 'Thriller', 'Action', 'Adventure', 'Fantasy', 'Sci-Fi', 'Drama', 'Comedy', 'Romance', 'Drama', 'Drama', 'Drama', 'Comedy', 'Drama', 'Mystery', 'Thriller', 'Action', 'Romance', 'Thriller', 'Comedy', 'Romance', 'War', 'Comedy', 'Crime', 'Fantasy', 'Comedy', 'Thriller', 'Action', 'Thriller', 'Action', 'Romance', 'Thriller', 'Western', 'Adventure', \"Children's\", 'Comedy', 'Romance', 'Drama', 'Thriller', 'Action', 'Thriller', 'Comedy', 'Romance', 'Comedy', 'Romance', 'Drama', 'Drama', 'War', 'Comedy', 'Romance', \"Children's\", 'Comedy', 'Musical', 'Western', \"Children's\", 'Comedy', 'Crime', 'Drama', 'Thriller', 'Drama', 'War', 'Action', 'Adventure', 'Mystery', 'Comedy', 'Romance', 'Action', 'Adventure', 'Romance', 'Thriller', 'Comedy', 'Comedy', 'Drama', 'Action', 'Sci-Fi', 'War', 'Comedy', 'Action', 'Thriller', 'Comedy', 'Fantasy', 'Romance', 'Sci-Fi', 'Drama', 'Romance', 'Comedy', 'Romance', 'Action', 'Crime', 'Drama', 'Action', 'Thriller', 'Crime', 'Mystery', 'Thriller', 'Film-Noir', 'Mystery', 'Adventure', \"Children's\", 'Drama', 'Drama', 'Crime', 'Comedy', 'Action', 'Sci-Fi', 'Thriller', 'Comedy', 'Action', 'Adventure', 'Comedy', 'Crime', 'Thriller', 'Comedy', 'Action', 'Thriller', 'Horror', 'Thriller', 'Action', 'Drama', 'War', 'Drama', 'War', 'Comedy', 'Romance', 'Western', 'Action', 'Adventure', 'Film-Noir', 'Mystery', 'Action', 'Adventure', 'Comedy', 'Crime', 'Comedy', 'Action', 'Comedy', 'Sci-Fi', 'War', 'Drama', 'Drama', 'Musical', 'Action', 'Drama', 'Comedy', 'Comedy', 'Romance', 'Mystery', 'Thriller', 'Crime', 'Drama', 'Comedy', 'Drama', 'Action', 'Drama', 'Thriller', 'Comedy', 'Drama', 'Musical', 'Action', 'Thriller', 'Action', 'Sci-Fi', 'Action', 'Adventure', 'Thriller', 'Action', 'Adventure', 'Comedy', 'Sci-Fi', 'Drama', 'Sci-Fi', 'Action', 'Drama', 'War', \"Children's\", 'Comedy', 'Crime', 'Film-Noir', 'Mystery', 'Thriller', 'Mystery', 'Thriller', 'Action', 'Crime', 'Mystery', 'Crime', 'Horror', 'Mystery', 'Thriller', 'Drama', 'Drama', 'Action', 'Thriller', 'Drama', 'Comedy', 'Crime', 'Drama', 'Mystery', 'Drama', 'Romance', 'Crime', 'Drama', 'Comedy', 'Drama', 'Action', 'Thriller', 'Adventure', 'Sci-Fi', 'Thriller', 'Film-Noir', 'Mystery', 'Thriller', 'Comedy', 'Drama', 'Crime', 'Drama', 'Crime', 'Drama', 'Mystery', 'Thriller', 'Comedy', 'Thriller', 'Action', 'Comedy', 'Mystery', 'Thriller', 'Adventure', 'Comedy', 'Romance', 'Mystery', 'Sci-Fi', 'Thriller', 'Action', 'Crime', 'Romance', 'Comedy', 'Drama', 'Action', 'Adventure', 'Sci-Fi', 'Thriller', 'Comedy', 'Sci-Fi', 'Western', 'Comedy', 'Crime', 'Action', 'Drama', 'War', 'Comedy', 'Action', 'Adventure', 'Sci-Fi', 'Drama', 'War', 'Comedy', 'Romance', 'Action', 'Comedy', 'Comedy', 'Thriller', 'Drama', 'Action', 'Thriller', 'Action', 'Crime', 'Thriller', 'Horror', 'Thriller', 'Comedy', 'Comedy', 'Comedy', 'Romance', 'Comedy', 'Animation', 'Musical', 'Comedy', 'Comedy', 'Romance', 'Action', 'Drama', 'War', 'Comedy', 'Drama', 'Thriller', 'Comedy', 'Action', 'Crime', 'Drama', 'Thriller', 'Comedy', 'Crime', 'Thriller', 'Action', 'Comedy', 'Action', 'Adventure', 'Fantasy', 'Sci-Fi', 'Comedy', 'Drama', 'Thriller', 'Animation', 'Comedy', 'Thriller', 'Drama', 'Action', 'Adventure', 'Comedy', 'Thriller', 'Action', 'Thriller', 'Comedy', 'Comedy', 'Thriller', 'Thriller', 'Comedy', 'Drama', 'Action', 'Adventure', 'Comedy', 'Action', 'Adventure', 'Comedy', 'Action', 'Thriller', 'Drama', 'Action', 'Crime', 'Drama', 'Action', 'Adventure', 'Sci-Fi', 'Thriller', 'Drama', 'Drama', 'Horror', 'Comedy', 'Thriller', 'Action', 'Thriller', 'Drama', 'Drama', 'Comedy', 'Drama', 'Romance', 'Animation', \"Children's\", 'Comedy', 'Comedy', 'Drama', 'Drama', 'Drama', 'Thriller', 'Drama', 'Adventure', 'Comedy', 'Sci-Fi', 'Drama', 'Action', 'Comedy', 'Thriller', 'Comedy', 'Crime', 'Comedy', 'Drama', 'Action', 'Thriller', 'Action', 'Drama', 'Romance', 'Thriller', 'Comedy', 'Horror', 'Action', 'Crime', 'Action', 'Thriller', 'Drama', 'Mystery', 'Drama', 'Action', 'Drama', 'Action', 'Drama', 'Action', 'Thriller', 'Action', 'Adventure', 'Animation', 'Sci-Fi', 'Animation', \"Children's\", 'Comedy', 'Comedy', 'Action', 'Adventure', 'Thriller', 'Thriller', 'Comedy', 'Comedy', 'Horror', 'Sci-Fi', 'Thriller', 'Sci-Fi', 'Thriller', 'Comedy', 'Action', 'Crime', 'Thriller', 'Comedy', 'Animation', \"Children's\", 'Comedy', 'Adventure', \"Children's\", 'Fantasy', 'Action', 'Crime', 'Thriller', 'Adventure', \"Children's\", 'Drama', 'Romance', 'Drama', 'Sci-Fi', 'Drama', 'Sci-Fi', \"Children's\", 'Comedy', 'Drama', 'Drama', 'Comedy', 'Romance', 'Animation', \"Children's\", 'Musical', 'Romance', 'Adventure', \"Children's\", 'Fantasy', 'Action', 'Comedy', 'Crime', 'Horror', 'Thriller', 'Drama', 'Musical', 'Sci-Fi', 'Thriller', 'Adventure', 'Drama', 'Comedy', 'Adventure', \"Children's\", 'Comedy', 'Musical', 'Action', 'Drama', 'War', 'Adventure', \"Children's\", 'Fantasy', 'Action', 'Adventure', 'Comedy', 'Crime', 'Adventure', \"Children's\", 'Action', 'Adventure', 'Mystery', 'Sci-Fi', 'Action', 'Adventure', 'Drama', 'Romance', 'Adventure', \"Children's\", 'Drama', 'Action', 'Adventure', 'Comedy', 'Drama', 'Thriller', 'Comedy', 'Animation', \"Children's\", 'Comedy', 'Romance', 'Comedy', 'Sci-Fi', 'Adventure', \"Children's\", 'Comedy', 'Fantasy', 'Romance', 'Action', 'Drama', 'Thriller', 'Action', 'Adventure', 'Western', \"Children's\", 'Comedy', 'Fantasy', 'Drama', 'Action', 'Comedy', 'Musical', 'Sci-Fi', 'Action', 'Adventure', 'Sci-Fi', 'Comedy', 'Romance', 'War', 'Comedy', 'Romance', 'Action', 'Comedy', 'Adventure', \"Children's\", 'Romance', 'Animation', \"Children's\", 'Musical', 'Comedy', 'Crime', 'Fantasy', 'Action', 'Comedy', 'Western', 'Action', 'Thriller', 'Action', 'Romance', 'Thriller', 'Action', 'Adventure', 'Comedy', 'Romance', 'Action', 'Adventure', 'Crime', 'Comedy', 'Sci-Fi', 'Comedy', 'Romance', 'Adventure', \"Children's\", 'Drama', 'Action', 'Drama', 'War', 'Action', 'Adventure', 'Sci-Fi', 'Comedy', 'Comedy', 'Drama', 'War', 'Action', 'Adventure', \"Children's\", 'Sci-Fi', \"Children's\", 'Comedy', 'Musical', 'Action', 'Adventure', 'Comedy', 'Action', 'Adventure', 'Animation', \"Children's\", 'Fantasy', \"Children's\", 'Comedy', 'Animation', \"Children's\", 'Comedy', 'Musical', 'Action', 'Sci-Fi', 'Thriller', 'Action', 'Adventure', 'Crime', 'Drama', 'Drama', 'Thriller', 'Animation', \"Children's\", 'Musical', 'Animation', \"Children's\", 'Musical', 'Animation', \"Children's\", 'Animation', \"Children's\", 'Action', 'Adventure', 'Mystery', 'Action', 'Adventure', 'Fantasy', 'Animation', \"Children's\", 'Musical', 'Adventure', 'Animation', \"Children's\", 'Comedy', 'Fantasy', 'Action', 'Adventure', 'Comedy', 'War', 'Animation', \"Children's\", 'Action', 'Adventure', 'Thriller', 'Action', 'Adventure', 'Romance', 'Thriller', 'Action', 'Sci-Fi', 'Thriller', 'Action', 'Sci-Fi', 'War', 'Animation', \"Children's\", 'Musical', 'Comedy', 'Fantasy', 'Romance', 'Sci-Fi', \"Children's\", 'Comedy', 'Fantasy', 'Comedy', 'Musical', 'Action', 'Musical', 'Romance', 'Musical', 'Romance', 'Comedy', 'Musical', 'Comedy', 'Crime', 'Musical', 'Romance', 'Adventure', \"Children's\", 'Drama', 'Musical', 'Drama', 'Romance', 'War', 'Drama', 'Adventure', \"Children's\", 'Fantasy', 'Adventure', \"Children's\", 'Fantasy', 'Sci-Fi', 'Animation', \"Children's\", 'Musical', 'Animation', \"Children's\", 'Animation', \"Children's\", 'Musical', \"Children's\", 'Comedy', 'Musical', 'Animation', \"Children's\", 'Musical', 'Adventure', 'Animation', \"Children's\", 'Musical', 'Adventure', \"Children's\", 'Musical', 'Animation', \"Children's\", 'Musical', 'Animation', \"Children's\", 'Musical', 'Action', 'Thriller', 'Comedy', 'Musical', 'Romance', 'Animation', \"Children's\", 'Comedy', 'Adventure', \"Children's\", 'Comedy', 'Fantasy', 'Comedy', 'Musical', 'Romance', \"Children's\", 'Drama', 'Fantasy', 'Sci-Fi', 'Drama', 'Action', 'Romance', 'Action', 'Adventure', 'Sci-Fi', 'Thriller', 'Comedy', 'Action', 'Adventure', 'Comedy', 'Romance', 'Action', 'Adventure', 'Action', 'Sci-Fi', 'Thriller', 'War', 'Action', 'Horror', 'Sci-Fi', 'Thriller', 'Action', 'Sci-Fi', 'Thriller', 'Comedy', 'Romance', 'Comedy', 'Sci-Fi', 'Drama', 'Animation', \"Children's\", 'Musical', 'Action', 'Adventure', 'Drama', 'Musical', 'War', 'Comedy', 'Romance', 'Drama', 'Thriller', 'Adventure', \"Children's\", 'Comedy', 'Action', 'Adventure', 'Comedy', 'Crime', 'Comedy', 'Musical', 'Romance', 'Comedy', 'Musical', 'Romance', 'Action', 'Horror', 'Action', 'Comedy', 'Sci-Fi', 'War', 'Drama', 'Romance', 'Animation', 'Comedy', 'Action', 'Romance', 'War', 'Drama', 'Comedy', 'Action', 'Romance', 'Thriller', 'Action', 'Adventure', 'Thriller', 'Comedy', 'Action', 'Sci-Fi', 'Action', 'Adventure', 'Sci-Fi', 'Thriller', 'Action', 'Adventure', 'Thriller', 'Action', 'Romance', 'Thriller', 'Action', 'Adventure', 'Crime', 'Adventure', 'Animation', \"Children's\", 'Comedy', 'Musical', 'Action', 'Sci-Fi', 'Thriller', 'Action', 'Adventure', 'Comedy', 'Sci-Fi', 'Adventure', \"Children's\", 'Action', 'Mystery', 'Sci-Fi', 'Thriller', 'Adventure', \"Children's\", 'Drama', 'Action', 'Mystery', 'Romance', 'Thriller', 'Adventure', 'Romance', 'Action', 'Thriller', 'Adventure', 'Thriller', 'Horror', 'Comedy', 'Drama', 'Action', 'Adventure', 'Sci-Fi', 'War', 'Drama', 'Animation', \"Children's\", 'Musical', 'Drama', \"Children's\", 'Comedy', 'Fantasy', 'Drama', 'Drama', 'Romance', 'Action', 'Romance', 'Thriller', 'Adventure', \"Children's\", 'Fantasy', 'Sci-Fi', 'Action', 'Mystery', 'Thriller', 'Comedy', 'Musical', 'Comedy', 'Romance', 'Adventure', 'Sci-Fi', 'Thriller', 'Comedy', 'Drama', 'Action', 'Drama', 'Romance', 'Comedy', 'Romance', 'Action', 'Sci-Fi', 'Thriller', 'Adventure', \"Children's\", 'Comedy', 'Fantasy', 'Drama', 'Action', 'Drama', 'Sci-Fi', 'Thriller', 'Adventure', 'Animation', \"Children's\", 'Fantasy', 'Action', 'Sci-Fi', 'Adventure', 'Comedy', 'Romance', 'Animation', \"Children's\", 'Comedy', 'Action', 'Adventure', 'Sci-Fi', 'Thriller', 'Animation', \"Children's\", 'Fantasy', 'War', 'Comedy', 'Musical', 'Romance', 'Musical', 'Drama', 'Adventure', \"Children's\", 'Fantasy', 'Comedy', 'Drama', 'Horror', 'Adventure', \"Children's\", 'Fantasy', 'Action', 'Adventure', 'Romance', 'Comedy', 'Sci-Fi', 'Comedy', 'Sci-Fi', 'Western', \"Children's\", 'Comedy', 'Fantasy', \"Children's\", 'Fantasy', 'Musical', 'Animation', \"Children's\", 'Action', 'Drama', 'War', 'Animation', \"Children's\", \"Children's\", 'Comedy', 'Sci-Fi', 'Adventure', \"Children's\", 'Fantasy', 'Adventure', \"Children's\", 'Sci-Fi', 'Animation', \"Children's\", 'Adventure', \"Children's\", 'Comedy', 'Fantasy', 'Sci-Fi', 'Action', 'Thriller', 'Comedy', 'Adventure', \"Children's\", 'Animation', \"Children's\", 'Comedy', 'Musical', 'Animation', \"Children's\", 'Comedy', 'Musical', 'Romance', 'Animation', \"Children's\", 'Comedy', 'Musical', 'Romance', \"Children's\", 'Musical', \"Children's\", 'Musical', 'Animation', \"Children's\", 'Animation', \"Children's\", 'Fantasy', 'Musical', 'Animation', \"Children's\", 'Animation', \"Children's\", 'Animation', \"Children's\", 'Musical', 'Adventure', \"Children's\", 'Fantasy', 'Sci-Fi', 'Animation', \"Children's\", 'Musical', 'Comedy', 'Fantasy', 'Romance', 'Animation', \"Children's\", 'Comedy', 'Musical', 'Drama', 'Animation', \"Children's\", 'Drama', 'Romance', 'Action', 'Crime', 'Mystery', 'Thriller', 'Adventure', 'Comedy', 'Comedy', 'Adventure', 'Musical', 'Animation', \"Children's\", 'Animation', \"Children's\", \"Children's\", 'Fantasy', 'Sci-Fi', 'Animation', \"Children's\", 'Comedy', 'Animation', \"Children's\", 'Comedy', 'Adventure', 'Fantasy', 'Romance', 'Comedy', 'Adventure', \"Children's\", 'Fantasy', 'Adventure', \"Children's\", 'Fantasy', 'Action', 'Adventure', 'Horror', 'Comedy', 'Comedy', 'Fantasy', 'Drama', 'Action', 'Thriller', 'Animation', \"Children's\", 'Drama', 'Drama', 'Action', 'Thriller', 'Animation', \"Children's\", 'Comedy', 'Comedy', 'Action', 'Sci-Fi', 'Action', 'Sci-Fi', 'Animation', 'Musical', 'Comedy', 'Romance', 'Drama', 'Comedy', 'Sci-Fi', 'Comedy', 'Mystery', 'Action', 'Adventure', 'Mystery', 'Action', 'Adventure', 'Drama', 'Action', 'Adventure', 'Drama', 'Comedy', 'Horror', 'Sci-Fi', 'Adventure', \"Children's\", 'Drama', 'Drama', 'Fantasy', 'Horror', 'Sci-Fi', 'Adventure', 'Comedy', 'Adventure', 'Comedy', 'Comedy', 'Romance', 'Comedy', 'Romance', 'Comedy', 'Comedy', 'Romance', 'Action', 'Sci-Fi', 'Drama', 'Drama', 'Animation', \"Children's\", 'Musical', 'Animation', \"Children's\", 'Action', 'Sci-Fi', 'Thriller', 'Comedy', 'Romance', 'Crime', 'Comedy', 'Romance', 'Comedy', 'Crime', 'Thriller', 'Comedy', 'Horror', 'Comedy', 'Fantasy', 'Comedy', 'Horror', 'Musical', 'Sci-Fi', 'Comedy', 'Animation', \"Children's\", 'Drama', 'Thriller', 'Comedy', 'Action', 'Comedy', 'Sci-Fi', 'Thriller', 'Animation', 'Comedy', 'Action', 'Sci-Fi', 'Western', 'Drama', 'Comedy', \"Children's\", 'Comedy', 'Horror', 'Horror', 'Thriller', 'Drama', 'Comedy', 'Horror', 'Comedy', 'Horror', 'Comedy', 'Horror', 'Thriller', 'Action', 'Adventure', \"Children's\", 'Comedy', 'Action', 'Sci-Fi', 'Thriller', 'Action', 'Adventure', 'Comedy', 'Comedy', 'Romance', 'Thriller', 'Action', 'Thriller', 'Comedy', 'Drama', 'Comedy', 'Comedy', 'Fantasy', 'Animation', \"Children's\", 'Comedy', 'Drama', 'Adventure', 'Romance', 'Action', 'Horror', 'Thriller', 'Sci-Fi', 'Thriller', 'Thriller', 'Comedy', 'Drama', 'Comedy', 'Drama', 'Comedy', 'Animation', \"Children's\", 'Action', 'Thriller', 'Comedy', 'Romance', 'Drama', 'Romance', 'Comedy', 'Musical', 'Romance', 'War', 'Adventure', 'Drama', 'Romance', 'Drama', 'Comedy', 'Romance', 'Adventure', 'Animation', 'Film-Noir', 'Horror', 'Comedy', 'Comedy', 'Romance', 'Thriller', 'Comedy', 'Sci-Fi', 'Animation', \"Children's\", 'Comedy', 'Drama', 'Horror', 'Romance', 'Action', 'Thriller', 'Action', 'Drama', 'Action', 'Thriller', 'Animation', \"Children's\", 'Comedy', 'Drama', 'Thriller', 'Drama', 'Romance', 'Adventure', 'Comedy', 'Sci-Fi', 'Drama', 'Mystery', 'Thriller', 'Drama', 'Drama', 'Comedy', 'Comedy', 'Romance', 'Thriller', 'Comedy', 'Crime', 'Drama', 'Comedy', 'Comedy', 'Drama', 'Action', 'Drama', 'Romance', 'Thriller', 'Adventure', 'Romance', 'Sci-Fi', 'Drama', 'Horror', 'Mystery', 'Thriller', 'Adventure', 'Drama', 'Comedy', 'Drama', \"Children's\", 'Comedy', \"Children's\", 'Comedy', \"Children's\", 'Comedy', 'Drama', 'Drama', 'Thriller', 'Action', 'Drama', 'Action', \"Children's\", 'Fantasy', 'Drama', 'Romance', 'Comedy', 'Romance', 'Adventure', 'Drama', 'Thriller', 'Comedy', 'Fantasy', 'Drama', 'Sci-Fi', 'Comedy', 'Drama', 'Comedy', 'Animation', \"Children's\", 'Thriller', 'Adventure', 'Fantasy', 'Drama', 'Thriller', 'Comedy', 'Drama', 'Romance', 'Drama', 'Thriller', 'Comedy', 'Comedy', 'Drama', 'Comedy', 'Comedy', 'Horror', 'Thriller', 'Comedy', 'Romance', 'Comedy', 'Drama', 'Comedy', 'Drama', 'Drama', 'Thriller', 'Drama', 'Romance', 'Action', 'Thriller', 'Action', 'Drama', 'Drama', 'Musical', 'Comedy', 'Animation', \"Children's\", 'Comedy', 'Romance', 'Comedy', 'Action', 'Thriller', 'Comedy', 'Musical', 'Action', 'Crime', 'Comedy', 'Romance', 'Adventure', 'Animation', 'Sci-Fi', 'Animation', \"Children's\", 'Comedy', 'Comedy', 'Action', 'Drama', 'War', 'Animation', \"Children's\", 'Musical', 'Comedy', 'Horror', 'Action', 'Sci-Fi', 'Thriller', 'Comedy', 'Drama', 'Romance', 'Drama', 'Horror', 'Sci-Fi', 'Thriller', 'Comedy', 'Sci-Fi', 'Thriller', 'Action', 'Adventure', 'Sci-Fi', 'Comedy', 'Crime', 'Thriller', 'Comedy', 'Drama', 'Adventure', 'Sci-Fi', 'Comedy', 'Animation', \"Children's\", 'Comedy', 'Drama', 'Romance', 'Drama', 'Crime', 'Thriller', 'Action', 'Drama', 'War', 'Drama', 'Drama', 'Thriller', 'War', 'Action', 'Adventure', 'Fantasy', 'Sci-Fi', 'Crime', 'Drama', 'Drama', 'Drama', 'Comedy', 'Romance', 'War', 'Action', 'Thriller', 'Action', 'Thriller', 'Drama', 'War', 'Drama', 'Romance', 'Western', 'Action', 'Sci-Fi', 'Thriller', 'Adventure', 'Drama', 'Western', 'Drama', 'Thriller', 'Crime', 'Drama', 'Thriller', 'Comedy', 'Adventure', \"Children's\", 'Drama', 'Musical', \"Children's\", 'Comedy', 'Musical', 'Action', 'Thriller', 'Adventure', \"Children's\", 'Comedy', 'Fantasy', 'Drama', 'Action', 'Adventure', 'Drama', 'Sci-Fi', 'War', 'Action', 'Adventure', 'Comedy', 'Romance', 'Drama', 'Action', 'Adventure', 'Romance', 'Sci-Fi', 'War', 'Crime', 'Drama', 'Drama', 'Drama', 'Action', 'Drama', 'War', 'Adventure', 'Comedy', 'Drama', 'Comedy', 'Romance', 'Western', 'Comedy', 'Sci-Fi', 'Action', 'Drama', 'Romance', 'Drama', 'Thriller', 'Drama', 'Romance', 'Comedy', 'Action', 'Romance', 'War', 'Action', 'Thriller', 'Comedy', 'Crime', 'Film-Noir', 'Mystery', 'Thriller', 'Mystery', 'Thriller', 'Drama', 'Drama', 'Comedy', 'Drama', 'Drama', 'Animation', \"Children's\", 'Action', 'Drama', 'Drama', 'Drama', 'Romance', 'Action', 'Drama', 'War', 'Animation', \"Children's\", 'Comedy', 'Musical', 'Crime', 'Drama', 'Comedy', 'Drama', 'Comedy', 'Romance', 'Drama', 'Action', 'Sci-Fi', 'Thriller', 'Thriller', 'Comedy', 'Drama', 'Adventure', 'Thriller', 'Comedy', 'Drama', 'Drama', 'Animation', \"Children's\", 'Comedy', 'Drama', 'Thriller', 'Drama', 'Drama', 'Comedy', 'Drama', 'Thriller', 'Comedy', 'Drama', 'Action', 'Drama', 'Action', 'Thriller', 'Animation', \"Children's\", 'Comedy', 'Action', 'Drama', 'War', 'Drama', 'Animation', \"Children's\", 'Comedy', 'Comedy', 'Drama', 'Sci-Fi', \"Children's\", 'Comedy', 'Drama', 'Crime', 'Thriller', 'Crime', 'Thriller', 'Action', 'Drama', 'War', 'Comedy', 'Action', 'Adventure', 'Fantasy', 'Sci-Fi', 'Crime', 'Drama', 'Drama', 'Comedy', 'Animation', \"Children's\", 'Musical', 'Action', 'Thriller', 'Drama', 'War', 'Animation', \"Children's\", 'Comedy', 'Musical', 'Animation', \"Children's\", 'Adventure', \"Children's\", 'Drama', 'Musical', 'Drama', 'Romance', 'War', \"Children's\", 'Drama', 'Drama', 'Comedy', 'Adventure', \"Children's\", 'Comedy', 'Fantasy', \"Children's\", 'Drama', 'Fantasy', 'Sci-Fi', 'Drama', 'Drama', 'Action', 'Adventure', 'Comedy', 'Romance', 'Action', 'Adventure', 'Drama', 'Crime', 'Drama', 'Drama', 'Comedy', 'Crime', 'Drama', 'Adventure', 'Comedy', 'Drama', 'Adventure', 'War', 'Comedy', 'Romance', 'Drama', 'Romance', 'Drama', 'Musical', 'Drama', 'Drama', 'Sci-Fi', 'Mystery', 'Thriller', 'Drama', 'Romance', 'Comedy', 'Thriller', 'Comedy', 'Comedy', 'Drama', 'Comedy', 'Sci-Fi', 'Western', 'Animation', \"Children's\", 'Action', 'Drama', 'War', 'Animation', \"Children's\", 'Comedy', 'Musical', 'Romance', 'Comedy', 'Crime', 'Drama', 'Comedy', 'Drama', 'Comedy', 'Romance', 'Comedy', 'Crime', 'Thriller', 'Comedy', 'Comedy', 'Horror', 'Thriller', 'Comedy', 'Fantasy', 'Comedy', 'Drama', 'Drama', 'Comedy', 'Drama', 'Animation', \"Children's\", 'Comedy', 'Drama', 'Comedy', 'Adventure', 'Drama', 'Drama', 'Comedy', 'Crime', 'Action', 'Thriller', 'Comedy', 'Drama', 'Comedy', 'Drama', 'Comedy', 'Drama', 'Drama', 'Comedy', 'Drama', 'Romance', 'Comedy', 'Romance', 'Thriller', 'Comedy', 'Comedy', 'Romance', 'Drama', 'Thriller', 'Action', 'Thriller', 'Comedy', 'Drama', 'Action', 'Drama', 'Drama', 'Comedy', 'Animation', \"Children's\", 'Comedy', 'Romance', 'Comedy', 'Action', 'Thriller', 'Comedy', 'Action', 'Crime', 'Comedy', 'Romance', 'Action', 'Crime', 'Action', 'Drama', 'War', 'Action', 'Adventure', 'Thriller', 'Comedy', 'Comedy', 'Horror', 'Action', 'Sci-Fi', 'Comedy', 'Drama', 'Comedy', 'Comedy', 'Crime', 'Thriller', 'Comedy', 'Drama', 'Comedy', 'Drama', 'Drama', 'Comedy', 'Animation', \"Children's\", 'Comedy', 'Adventure', \"Children's\", 'Fantasy', 'Action', 'Adventure', 'Fantasy', 'Sci-Fi', \"Children's\", 'Comedy', 'Fantasy', 'Animation', \"Children's\", 'Musical', 'Action', 'Adventure', 'Sci-Fi', 'Comedy', 'Romance', \"Children's\", 'Comedy', 'Musical', 'Animation', \"Children's\", 'Musical', 'Sci-Fi', 'War', 'Action', 'Sci-Fi', 'War', 'Mystery', 'Thriller', 'Drama', 'Thriller', 'Drama', 'Romance', 'War', 'Adventure', \"Children's\", 'Drama', 'Musical', 'Drama', 'Mystery', 'Sci-Fi', 'Thriller', 'Film-Noir', 'Romance', 'Thriller', 'Romance', 'Comedy', 'Romance', 'Thriller', 'Comedy', \"Children's\", 'Comedy', 'Mystery', \"Children's\", 'Comedy', 'Musical', 'Musical', 'Adventure', \"Children's\", 'Comedy', 'Fantasy', 'Comedy', 'War', \"Children's\", 'Drama', 'Fantasy', 'Sci-Fi', 'Drama', 'Action', 'Adventure', 'Drama', 'Sci-Fi', 'War', 'Action', 'Adventure', 'Action', 'Adventure', 'Romance', 'Sci-Fi', 'War', 'Comedy', 'Romance', 'Comedy', 'Crime', 'Drama', 'Romance', 'Comedy', 'Mystery', 'Thriller', 'Comedy', 'Sci-Fi', 'Comedy', 'Horror', 'Animation', \"Children's\", 'Musical', 'Action', 'Adventure', 'Comedy', 'War', 'Action', 'Comedy', 'Western', 'Comedy', 'Romance', 'Adventure', \"Children's\", 'Comedy', 'Action', 'Adventure', 'Sci-Fi', 'Action', 'Adventure', 'Sci-Fi', 'Action', 'Adventure', 'Sci-Fi', 'Action', 'Adventure', 'Sci-Fi', 'Action', 'Adventure', 'Sci-Fi', 'Comedy', 'Action', 'Adventure', 'Comedy', 'Sci-Fi', \"Children's\", 'Comedy', 'Fantasy', 'Comedy', 'Action', 'Drama', 'Sci-Fi', 'Thriller', 'Animation', \"Children's\", 'Fantasy', 'War', \"Children's\", 'Comedy', 'Fantasy', 'Adventure', \"Children's\", 'Comedy', 'Fantasy', 'Sci-Fi', 'Animation', \"Children's\", 'Comedy', 'Musical', 'Romance', \"Children's\", 'Comedy', 'Action', 'Adventure', 'Adventure', 'Musical', 'Comedy', 'Animation', \"Children's\", 'Comedy', 'Action', 'Adventure', 'Comedy', 'Romance', 'Action', 'Adventure', 'Comedy', 'Romance', 'Adventure', 'Comedy', 'Action', 'Adventure', 'Sci-Fi', 'Comedy', 'Comedy', 'Comedy', 'Musical', 'Comedy', 'Musical', 'Comedy', 'Comedy', 'Sci-Fi', 'Comedy', 'Musical', 'Comedy', 'Adventure', 'Comedy', 'Sci-Fi', 'Drama', 'Comedy', 'Action', 'Comedy', 'Western', 'Musical', 'Animation', \"Children's\", 'Comedy', 'Comedy', 'Animation', \"Children's\", 'Comedy', 'Animation', \"Children's\", 'Musical', 'Film-Noir', 'Sci-Fi', 'Animation', \"Children's\", 'Comedy', 'Musical', 'Animation', \"Children's\", 'Musical', 'Animation', \"Children's\", 'Musical', 'Animation', \"Children's\", 'Animation', 'Sci-Fi', 'Animation', 'Comedy', 'Thriller', 'Film-Noir', 'Mystery', 'Film-Noir', 'Film-Noir', 'Romance', 'Thriller', 'Crime', 'Film-Noir', 'Mystery', 'Animation', \"Children's\", 'Musical', 'Animation', \"Children's\", 'Musical', 'Animation', \"Children's\", 'Musical', 'Film-Noir', 'Thriller', 'Animation', 'Comedy', 'Crime', 'Drama', 'Film-Noir', 'Animation', 'Comedy', 'Crime', 'Film-Noir', 'Thriller', 'Film-Noir', 'Mystery', 'Thriller', 'Crime', 'Film-Noir', 'Thriller', 'Animation', \"Children's\", 'Musical', 'Film-Noir', 'Mystery', 'Drama', 'Horror', 'Film-Noir', 'Thriller', 'Crime', 'Film-Noir', 'Mystery', 'Thriller', 'Animation', \"Children's\", 'Film-Noir', 'Animation', \"Children's\", 'Comedy', 'Musical', 'Animation', \"Children's\", 'Comedy', 'Musical', 'Romance', 'Animation', \"Children's\", 'Animation', \"Children's\", 'Fantasy', 'Musical', 'Animation', \"Children's\", 'Musical', 'Animation', \"Children's\", 'Comedy', 'Musical', 'Animation', \"Children's\", 'Drama', 'Fantasy', 'Animation', \"Children's\", 'Drama', 'Film-Noir', 'Thriller', 'Film-Noir', 'Thriller', 'Film-Noir', 'Thriller', 'Animation', \"Children's\", 'Comedy', 'Animation', \"Children's\", 'Animation', 'Comedy', 'Animation', \"Children's\", 'Adventure', 'Animation', \"Children's\", 'Film-Noir', 'Adventure', 'Animation', 'Film-Noir', 'Action', 'Adventure', 'Animation', 'Animation', \"Children's\", 'Thriller', 'Animation', \"Children's\", 'Comedy', 'Animation', \"Children's\", 'Musical', 'Animation', \"Children's\", 'Crime', 'Drama', 'Film-Noir', 'Thriller', 'Animation', 'Comedy', 'Crime', 'Film-Noir', 'Drama', 'Film-Noir', 'Film-Noir', 'Mystery', 'Thriller', 'Animation', \"Children's\", 'Comedy', 'Adventure', \"Children's\", 'Fantasy', 'Animation', \"Children's\", \"Children's\", 'Comedy', 'Drama', 'Animation', \"Children's\", 'Musical', 'Romance', 'Adventure', \"Children's\", 'Fantasy', 'Drama', 'Musical', 'Adventure', \"Children's\", 'Comedy', 'Musical', 'Action', 'Adventure', 'Fantasy', 'Sci-Fi', 'Adventure', \"Children's\", 'Romance', 'Animation', \"Children's\", 'Musical', 'Adventure', \"Children's\", 'Drama', 'Drama', \"Children's\", 'Drama', \"Children's\", 'Comedy', 'Animation', \"Children's\", 'Comedy', 'Musical', 'Animation', \"Children's\", 'Musical', 'Animation', \"Children's\", 'Musical', 'Animation', \"Children's\", 'Animation', \"Children's\", 'Animation', \"Children's\", 'Musical', 'Musical', 'Romance', 'Musical', 'Romance', 'Drama', 'Thriller', 'Musical', 'Romance', 'Adventure', \"Children's\", 'Drama', 'Musical', 'Adventure', \"Children's\", 'Fantasy', \"Children's\", 'Drama', \"Children's\", 'Comedy', 'Drama', 'Adventure', \"Children's\", \"Children's\", 'Comedy', 'Mystery', 'Adventure', \"Children's\", 'Fantasy', 'Sci-Fi', 'Animation', \"Children's\", 'Animation', \"Children's\", \"Children's\", 'Comedy', 'Musical', 'Animation', \"Children's\", 'Musical', 'Adventure', 'Animation', \"Children's\", 'Musical', 'Adventure', \"Children's\", 'Musical', 'Animation', \"Children's\", 'Musical', 'Adventure', \"Children's\", 'Comedy', 'Fantasy', \"Children's\", 'Drama', 'Fantasy', 'Sci-Fi', 'Action', 'Adventure', 'Drama', 'Sci-Fi', 'War', 'Sci-Fi', 'Animation', \"Children's\", 'Musical', 'Comedy', 'Drama', 'Musical', \"Children's\", 'Comedy', 'Comedy', 'Adventure', 'Animation', \"Children's\", 'Comedy', 'Musical', \"Children's\", 'Comedy', 'Adventure', \"Children's\", 'Comedy', 'Fantasy', 'Musical', 'Romance', 'Drama', 'Romance', 'Adventure', \"Children's\", 'Fantasy', 'Animation', \"Children's\", 'Animation', \"Children's\", 'Adventure', \"Children's\", 'Animation', \"Children's\", 'Comedy', 'Musical', 'Animation', \"Children's\", 'Comedy', 'Musical', 'Romance', 'Animation', \"Children's\", 'Comedy', 'Musical', 'Romance', 'Animation', \"Children's\", 'Animation', \"Children's\", 'Fantasy', 'Musical', 'Animation', \"Children's\", 'Animation', \"Children's\", 'Animation', \"Children's\", 'Musical', 'Adventure', 'Animation', \"Children's\", 'Musical', 'Adventure', 'Animation', \"Children's\", 'Sci-Fi', 'Animation', \"Children's\", 'Animation', \"Children's\", 'Drama', 'Fantasy', 'Animation', \"Children's\", 'Comedy', 'Drama', 'Adventure', \"Children's\", 'Fantasy', 'Comedy', 'Romance', 'Animation', \"Children's\", 'Animation', \"Children's\", 'Comedy', 'Animation', \"Children's\", 'Comedy', 'Comedy', 'Romance', \"Children's\", 'Comedy', 'Animation', \"Children's\", 'Comedy', 'Fantasy', 'Horror', 'Sci-Fi', 'Drama', 'Mystery', \"Children's\", 'Comedy', 'Drama', 'Animation', \"Children's\", 'Comedy', 'Drama', 'Adventure', 'Animation', \"Children's\", 'Comedy', 'Animation', \"Children's\", 'Drama', 'Drama', 'Animation', \"Children's\", \"Children's\", 'Comedy', \"Children's\", 'Comedy', 'Animation', \"Children's\", 'Drama', 'Sci-Fi', 'Comedy', 'Drama', 'Animation', \"Children's\", 'Comedy', 'Comedy', 'Western', 'Animation', \"Children's\", 'Comedy', 'Action', 'Adventure', 'Thriller', 'Comedy', 'Horror', 'Drama', 'Sci-Fi', \"Children's\", 'Comedy', 'Drama', 'Action', 'Adventure', 'Sci-Fi', 'Thriller', 'Action', 'Thriller', 'Action', 'Drama', 'War', 'Drama', 'Action', 'Adventure', 'Comedy', 'Crime', 'Action', 'Adventure', 'Mystery', 'Sci-Fi', 'Action', 'Thriller', 'Action', 'Adventure', 'Drama', 'Romance', 'Action', 'Sci-Fi', 'Thriller', 'Action', 'Adventure', 'Sci-Fi', 'Horror', 'Action', 'Comedy', 'Action', 'Drama', 'Horror', 'Comedy', 'Sci-Fi', 'Action', 'Adventure', 'Fantasy', 'Sci-Fi', 'Drama', 'Horror', 'Crime', 'Drama', 'Romance', 'Thriller', 'Action', 'Adventure', 'Sci-Fi', 'Comedy', 'Action', 'Comedy', 'Musical', 'Sci-Fi', 'Horror', 'Action', 'Adventure', 'Sci-Fi', 'Horror', 'Sci-Fi', 'Action', 'Adventure', 'Thriller', 'Action', 'Romance', 'Thriller', 'Comedy', 'Romance', 'War', 'Animation', \"Children's\", 'Musical', 'Comedy', 'Crime', 'Fantasy', 'Action', 'Romance', 'Thriller', 'Action', 'Action', 'Sci-Fi', 'Horror', 'Thriller', 'Action', 'Adventure', 'Crime', 'Action', 'Sci-Fi', 'Action', 'Thriller', 'Action', 'Adventure', 'Sci-Fi', 'Action', 'Film-Noir', 'Sci-Fi', 'Action', 'Adventure', \"Children's\", 'Sci-Fi', \"Children's\", 'Comedy', 'Musical', 'Action', 'Adventure', 'Comedy', 'Western', 'Animation', \"Children's\", 'Comedy', 'Musical', 'Action', 'Sci-Fi', 'Thriller', 'Action', 'Adventure', 'Crime', 'Drama', 'Drama', 'Thriller', 'Animation', \"Children's\", 'Musical', 'Animation', \"Children's\", 'Musical', 'Animation', \"Children's\", 'Horror', 'Action', 'Adventure', 'Animation', 'Horror', 'Sci-Fi', 'Action', 'Horror', 'Sci-Fi', 'Action', 'Adventure', 'Mystery', 'Adventure', 'Animation', \"Children's\", 'Comedy', 'Fantasy', 'Adventure', 'Sci-Fi', 'Action', 'Animation', 'Drama', 'Horror', 'Action', 'Adventure', 'Romance', 'Thriller', 'Action', 'Sci-Fi', 'Animation', 'Sci-Fi', 'Animation', 'Comedy', 'Thriller', 'Action', 'Sci-Fi', 'Thriller', 'Sci-Fi', 'War', 'Action', 'Sci-Fi', 'War', 'Comedy', 'Musical', 'Action', 'Adventure', 'Sci-Fi', 'Thriller', 'Sci-Fi', 'Thriller', 'Horror', 'Thriller', 'Musical', 'Romance', 'Musical', 'Romance', 'Adventure', \"Children's\", 'Drama', 'Musical', 'Comedy', 'Drama', 'Mystery', 'Sci-Fi', 'Thriller', 'Action', 'Drama', 'Western', 'Adventure', \"Children's\", 'Fantasy', 'Adventure', \"Children's\", 'Fantasy', 'Sci-Fi', 'Animation', \"Children's\", \"Children's\", 'Comedy', 'Musical', 'Adventure', 'Animation', \"Children's\", 'Musical', 'Adventure', \"Children's\", 'Musical', 'Animation', \"Children's\", 'Musical', 'Action', 'Thriller', 'Action', 'Sci-Fi', 'Thriller', 'Action', 'Adventure', 'Animation', \"Children's\", 'Comedy', 'Adventure', \"Children's\", 'Comedy', 'Fantasy', 'Comedy', 'Musical', 'Drama', 'War', \"Children's\", 'Drama', 'Fantasy', 'Sci-Fi', 'Action', 'Romance', 'Action', 'Romance', 'Action', 'Adventure', 'Sci-Fi', 'Thriller', 'Horror', 'Action', 'Adventure', 'Sci-Fi', 'Thriller', 'Horror', 'Comedy', 'Animation', 'Comedy', 'Action', 'Adventure', 'Drama', 'Sci-Fi', 'War', 'Action', 'Adventure', 'Comedy', 'Romance', 'Action', 'Adventure', 'Sci-Fi', 'Action', 'Sci-Fi', 'Thriller', 'War', 'Action', 'Animation', \"Children's\", 'Sci-Fi', 'Thriller', 'War', 'Action', 'Adventure', 'Romance', 'Sci-Fi', 'War', 'Action', 'Horror', 'Sci-Fi', 'Thriller', 'Action', 'Adventure', 'Comedy', 'Horror', 'Sci-Fi', 'Drama', 'War', 'Horror', 'Thriller', 'Action', 'Comedy', 'Musical', 'Action', 'Drama', 'War', 'Drama', 'War', 'Drama', 'Drama', 'Action', 'Drama', 'War', 'Comedy', 'Action', 'Sci-Fi', 'Thriller', 'Action', 'Drama', 'War', 'Drama', 'Sci-Fi', 'Adventure', 'Comedy', 'Drama', 'Action', 'Adventure', 'Comedy', 'Horror', 'Comedy', 'Romance', 'Western', 'Comedy', 'Sci-Fi', 'Adventure', 'Animation', 'Sci-Fi', 'Thriller', 'Action', 'Adventure', 'Comedy', 'Horror', 'Animation', \"Children's\", 'Musical', 'Drama', 'Romance', 'Action', 'Adventure', 'Drama', 'Musical', 'War', 'Drama', 'Sci-Fi', 'Drama', 'Action', 'Comedy', 'Western', 'Action', 'Horror', 'Sci-Fi', 'Thriller', 'Horror', 'Horror', 'Horror', 'Horror', 'Horror', 'Horror', 'Horror', 'Horror', 'Romance', 'Horror', 'Action', 'Adventure', 'Sci-Fi', 'Action', 'Thriller', 'Action', 'Adventure', 'Sci-Fi', 'Action', 'Adventure', 'Sci-Fi', 'Action', 'Adventure', 'Sci-Fi', 'Action', 'Adventure', 'Sci-Fi', 'Action', 'Adventure', 'Sci-Fi', 'Action', 'Adventure', 'Comedy', 'Crime', 'Action', 'Comedy', 'Western', 'Action', 'Comedy', 'Western', 'Comedy', 'Musical', 'Romance', 'Comedy', 'Musical', 'Romance', 'Action', 'Action', 'Horror', 'Action', 'Horror', 'Action', 'Comedy', 'Sci-Fi', 'War', 'Comedy', 'Crime', 'Drama', 'Sci-Fi', 'Animation', 'Comedy', 'Action', 'Thriller', 'Action', 'Romance', 'Thriller', 'Action', 'Adventure', 'Thriller', 'Comedy', 'Crime', 'Action', 'Sci-Fi', 'Action', 'Adventure', 'Sci-Fi', 'Thriller', 'Action', 'Adventure', 'Thriller', 'Action', 'Romance', 'Thriller', 'Action', 'Adventure', 'Crime', 'Adventure', 'Animation', \"Children's\", 'Comedy', 'Musical', 'Action', 'Sci-Fi', 'Thriller', 'Action', 'Adventure', 'Comedy', 'Sci-Fi', 'Drama', 'Sci-Fi', 'Action', 'Adventure', 'Action', 'Mystery', 'Sci-Fi', 'Thriller', 'Action', 'Adventure', 'Sci-Fi', 'Thriller', 'Action', 'Adventure', 'Action', 'Thriller', 'Action', 'Thriller', 'Action', 'Thriller', 'War', 'Drama', 'Sci-Fi', 'Thriller', 'Comedy', 'Action', 'Adventure', 'Sci-Fi', 'War', 'Action', 'Adventure', 'Animation', \"Children's\", 'Musical', 'Action', 'Horror', 'Sci-Fi', 'Drama', 'Action', 'Romance', 'Thriller', 'Film-Noir', 'Sci-Fi', 'Thriller', 'Action', 'Horror', 'Sci-Fi', 'Adventure', 'Sci-Fi', 'Thriller', 'Action', 'Crime', 'Action', 'Drama', 'Romance', 'Action', 'Sci-Fi', 'Thriller', 'Drama', 'Action', 'Drama', 'Sci-Fi', 'Thriller', 'Animation', \"Children's\", 'Mystery', 'Sci-Fi', 'Thriller', 'Action', 'Adventure', 'Sci-Fi', 'Thriller', 'Action', 'Comedy', 'Crime', 'Drama', 'Animation', \"Children's\", 'Fantasy', 'War', 'Comedy', 'Horror', 'Sci-Fi', 'Musical', 'Drama', 'War', 'Drama', 'Adventure', \"Children's\", 'Fantasy', 'Comedy', 'Drama', 'Horror', 'Horror', 'Horror', 'Horror', 'Horror', 'Horror', 'Horror', 'Horror', 'Horror', 'Thriller', 'Horror', 'Thriller', 'Horror', 'Thriller', 'Horror', 'Horror', 'Action', 'Comedy', 'Crime', 'Drama', 'Action', 'Comedy', 'Crime', 'Drama', 'Comedy', 'Horror', 'Adventure', \"Children's\", 'Fantasy', 'Action', 'Adventure', 'Romance', 'Sci-Fi', 'Comedy', 'Sci-Fi', 'Comedy', 'Sci-Fi', 'Western', 'Animation', \"Children's\", 'Action', 'Drama', 'Drama', 'Romance', 'Fantasy', 'Sci-Fi', 'Horror', 'Thriller', 'Action', 'Drama', 'War', 'Sci-Fi', 'Adventure', \"Children's\", 'Fantasy', 'Adventure', \"Children's\", 'Sci-Fi', \"Children's\", 'Comedy', 'Sci-Fi', 'Adventure', \"Children's\", 'Comedy', 'Fantasy', 'Sci-Fi', 'Action', 'Thriller', 'Comedy', 'Drama', 'Romance', 'Animation', \"Children's\", 'Comedy', 'Musical', 'Animation', \"Children's\", 'Comedy', 'Musical', 'Romance', 'Animation', \"Children's\", 'Comedy', 'Musical', 'Romance', 'Animation', \"Children's\", 'Fantasy', 'Musical', 'Adventure', 'Comedy', 'Musical', 'Animation', \"Children's\", 'Animation', \"Children's\", 'Musical', 'Action', 'Adventure', 'Sci-Fi', 'Animation', \"Children's\", 'Musical', \"Children's\", 'Horror', 'Comedy', 'Fantasy', 'Romance', 'Drama', 'Action', 'Adventure', 'Fantasy', 'Sci-Fi', 'Comedy', 'Horror', 'Thriller', 'Action', 'Adventure', 'Adventure', 'Animation', \"Children's\", 'Sci-Fi', 'Horror', 'Thriller', 'Horror', 'Horror', 'Thriller', 'Horror', 'Thriller', 'Animation', \"Children's\", 'Adventure', 'Musical', 'Animation', \"Children's\", 'Animation', \"Children's\", 'Drama', 'Fantasy', 'Animation', \"Children's\", \"Children's\", 'Fantasy', 'Sci-Fi', 'Animation', \"Children's\", 'Comedy', 'Adventure', 'Fantasy', 'Romance', 'Comedy', 'Comedy', 'Horror', 'Comedy', 'Action', 'Adventure', 'Adventure', \"Children's\", 'Fantasy', 'Adventure', \"Children's\", 'Fantasy', 'Action', 'Adventure', 'Horror', 'Comedy', 'Fantasy', 'Action', 'Adventure', 'Fantasy', 'Action', 'Crime', 'Drama', 'Action', 'Horror', 'Sci-Fi', 'Thriller', 'Animation', \"Children's\", 'Mystery', 'Sci-Fi', 'Horror', 'Thriller', 'Action', 'Adventure', 'Sci-Fi', 'Thriller', 'War', 'Comedy', 'Drama', 'Horror', 'Horror', 'Action', 'Thriller', 'Drama', 'Action', 'Thriller', 'Action', 'Sci-Fi', 'Action', 'Sci-Fi', 'Action', 'Adventure', 'Horror', 'Action', 'Sci-Fi', 'Animation', 'Musical', 'Western', 'Action', 'Adventure', 'Comedy', 'Romance', 'Comedy', 'Sci-Fi', 'Action', 'Drama', 'War', 'Horror', 'Sci-Fi', 'Adventure', \"Children's\", 'Sci-Fi', 'Horror', 'Drama', 'Fantasy', 'Horror', 'Sci-Fi', 'Horror', 'Horror', 'Horror', 'Horror', 'Adventure', 'Comedy', 'Action', 'War', 'Comedy', 'Western', 'Horror', 'Horror', 'Horror', 'Action', 'Horror', 'Sci-Fi', 'Action', 'Sci-Fi', 'Thriller', 'Western', 'Action', 'Adventure', 'Sci-Fi', 'Action', 'Sci-Fi', 'Action', 'Sci-Fi', 'Action', 'Sci-Fi', 'Action', 'Sci-Fi', 'Action', 'Sci-Fi', 'Action', 'Sci-Fi', 'Musical', 'Action', 'Sci-Fi', 'Thriller', 'Action', 'Horror', 'Sci-Fi', 'Adventure', 'Sci-Fi', 'Action', 'Crime', 'Action', 'Adventure', 'Horror', 'Thriller', 'Action', 'Adventure', 'Fantasy', 'Sci-Fi', 'Horror', 'Romance', 'Horror', 'Horror', 'Horror', 'Action', 'Adventure', 'Sci-Fi', 'Action', 'Adventure', 'Sci-Fi', 'Action', 'Adventure', 'Sci-Fi', 'Action', 'Adventure', 'Sci-Fi', 'Horror', 'Horror', 'Horror', 'Horror', 'Comedy', 'Horror', 'Musical', 'Sci-Fi', 'Action', 'Sci-Fi', 'War', 'Horror', 'Sci-Fi', 'Sci-Fi', 'Horror', 'Sci-Fi', 'Animation', \"Children's\", 'Action', 'Comedy', 'Sci-Fi', 'Thriller', 'Animation', 'Comedy', 'Action', 'Sci-Fi', 'Western', 'Horror', 'Comedy', 'Horror', 'Comedy', 'Horror', 'Horror', 'Thriller', 'Action', 'Adventure', \"Children's\", 'Comedy', 'Drama', 'Comedy', 'Comedy', 'Horror', 'Musical', 'Thriller', 'Horror', 'Comedy', 'Comedy', 'Fantasy', 'Comedy', 'Drama', 'Action', 'Sci-Fi', 'Action', 'War', 'Action', 'War', 'Action', 'Horror', 'Thriller', 'Comedy', 'Musical', 'Comedy', 'Horror', 'Action', 'Drama', 'Fantasy', 'Romance', 'Drama', 'Musical', 'Horror', 'Horror', 'Sci-Fi', 'Action', 'Adventure', 'Sci-Fi', 'Thriller', 'Action', 'Western', 'Adventure', 'Fantasy', 'Sci-Fi', 'Musical', 'Action', 'Crime', 'Sci-Fi', 'Action', 'Crime', 'Sci-Fi', 'Adventure', 'Animation', 'Film-Noir', 'Action', 'Action', 'Horror', 'Action', 'Adventure', 'Animation', 'Comedy', 'Horror', 'Horror', 'Horror', 'Horror', 'Horror', 'Sci-Fi', 'Action', 'Drama', 'Sci-Fi', 'Comedy', 'Sci-Fi', 'Adventure', 'Comedy', 'Animation', \"Children's\", 'Adventure', 'Comedy', 'Sci-Fi', 'Horror', 'Romance', 'Action', 'Thriller', 'Drama', 'Thriller', 'Action', 'Drama', 'Action', 'Thriller', 'Animation', \"Children's\", 'Comedy', 'Drama', 'Action', 'Adventure', 'Fantasy', 'Comedy', 'Drama', 'Sci-Fi', 'Adventure', 'Comedy', 'Sci-Fi', 'Adventure', 'Sci-Fi', 'Action', 'Thriller', 'Animation', \"Children's\", 'Action', 'Thriller', 'Action', 'Thriller', 'Animation', \"Children's\", 'Sci-Fi', 'Drama', 'Sci-Fi', 'Drama', 'Thriller', 'Drama', 'Adventure', 'Comedy', 'Sci-Fi', 'Action', 'Drama', 'Action', \"Children's\", 'Fantasy', 'Action', \"Children's\", 'Fantasy', 'Action', 'War', 'Comedy', 'Drama', 'War', 'Drama', 'Sci-Fi', 'Horror', 'Mystery', 'Thriller', 'Adventure', 'Fantasy', 'Romance', 'Drama', 'Adventure', 'Fantasy', 'Comedy', 'Western', 'Drama', 'Thriller', 'Action', 'Sci-Fi', 'Thriller', 'Action', 'Thriller', 'Comedy', 'Drama', 'Action', 'Drama', 'Comedy', 'Drama', 'Action', 'Sci-Fi', 'Comedy', 'Animation', \"Children's\", 'Action', 'Thriller', 'Sci-Fi', 'Sci-Fi', 'Thriller', 'Horror', 'Sci-Fi', 'Thriller', 'Horror', 'Sci-Fi', 'Thriller', 'Comedy', 'Western', 'Comedy', 'Horror', 'Comedy', 'Horror', 'Action', 'Sci-Fi', 'Thriller', 'Action', 'Adventure', 'Sci-Fi', 'Drama', 'Sci-Fi', 'Crime', 'Drama', 'Sci-Fi', 'Action', 'Sci-Fi', 'Action', 'Sci-Fi', 'Action', 'Sci-Fi', 'Action', 'Adventure', 'Romance', 'Thriller', 'Horror', 'Thriller', 'Action', 'Crime', 'Adventure', 'Animation', 'Sci-Fi', 'Animation', \"Children's\", 'Comedy', 'Action', 'Drama', 'War', 'Animation', \"Children's\", 'Comedy', 'Action', 'Adventure', 'Thriller', 'Action', 'Crime', 'Thriller', 'Adventure', 'Crime', 'Sci-Fi', 'Thriller', 'Comedy', 'Horror', 'Action', 'Sci-Fi', 'Action', 'Sci-Fi', 'Western', 'Comedy', 'Drama', 'Horror', 'Action', 'Comedy', 'Horror', 'Documentary', 'Comedy', 'Western', 'Action', 'Adventure', 'Fantasy', 'Comedy', 'Horror', 'Horror', 'Horror', 'Comedy', 'Adventure', 'Sci-Fi', 'Adventure', 'Sci-Fi', 'Horror', 'Horror', 'Horror', 'Horror', 'Comedy', 'Animation', \"Children's\", 'Comedy', 'Action', 'Adventure', 'Thriller', 'Comedy', 'Drama', 'Romance', 'Drama', 'Romance', 'Action', 'Comedy', 'Drama', 'Comedy', 'Romance', 'Action', 'Thriller', 'Action', 'Drama', 'War', 'Action', 'Adventure', 'Crime', 'Action', 'Thriller', 'Action', 'Crime', 'Sci-Fi', 'Comedy', 'Action', 'Adventure', 'Fantasy', 'Sci-Fi', 'Action', 'Adventure', 'Sci-Fi', 'Action', 'Adventure', 'Sci-Fi', 'Action', 'Adventure', 'Thriller', 'Comedy', 'Romance', 'War', 'Comedy', 'Romance', 'Comedy', 'Crime', 'Fantasy', 'Action', 'Romance', 'Thriller', 'Action', 'Adventure', 'Comedy', 'Romance', 'Action', 'Thriller', 'Action', 'Thriller', 'Action', 'Adventure', 'Sci-Fi', 'Action', 'Thriller', 'Comedy', 'Romance', 'Action', 'Drama', 'Comedy', 'Romance', 'Film-Noir', 'Sci-Fi', 'Comedy', 'Romance', 'Thriller', 'Action', 'Adventure', 'Comedy', 'Action', 'Sci-Fi', 'Thriller', 'Adventure', 'Drama', 'Western', 'Action', 'Adventure', 'Crime', 'Drama', 'Action', 'Adventure', 'Mystery', 'Adventure', 'Sci-Fi', 'Comedy', 'Romance', 'Action', 'Adventure', 'Thriller', 'Action', 'Adventure', 'Romance', 'Thriller', 'Action', 'Sci-Fi', 'War', 'Comedy', 'Drama', 'Romance', 'Comedy', 'Romance', 'Action', 'Thriller', 'Comedy', 'Drama', 'Romance', 'Comedy', 'Romance', 'Comedy', 'Action', 'Adventure', 'Adventure', 'Action', 'Thriller', 'Comedy', 'Drama', 'War', \"Children's\", 'Drama', 'Fantasy', 'Sci-Fi', 'Action', 'Romance', 'Action', 'Adventure', 'Sci-Fi', 'Thriller', 'Action', 'Adventure', 'Sci-Fi', 'Thriller', 'Comedy', 'Drama', 'Romance', 'War', 'Action', 'Adventure', 'Drama', 'Sci-Fi', 'War', 'Action', 'Adventure', 'Comedy', 'Romance', 'Action', 'Adventure', 'Action', 'Sci-Fi', 'Thriller', 'War', 'Adventure', 'War', 'Action', 'Adventure', 'Romance', 'Sci-Fi', 'War', 'Drama', 'War', 'Action', 'Comedy', 'Musical', 'Action', 'Drama', 'War', 'Drama', 'War', 'Comedy', 'Romance', 'Comedy', 'Crime', 'Action', 'Sci-Fi', 'Thriller', 'Action', 'Drama', 'War', 'Drama', 'Thriller', 'Comedy', 'Adventure', 'Comedy', 'Drama', 'Adventure', 'War', 'Comedy', 'Romance', 'Comedy', 'Mystery', 'Thriller', 'Comedy', 'Sci-Fi', 'Action', 'Adventure', 'Action', 'Drama', 'Romance', 'Comedy', 'Drama', 'Musical', 'Action', 'Adventure', 'Comedy', 'War', 'Action', 'Comedy', 'Western', 'Comedy', 'Romance', 'Action', 'Adventure', 'Sci-Fi', 'Action', 'Adventure', 'Sci-Fi', 'Action', 'Adventure', 'Sci-Fi', 'Action', 'Adventure', 'Sci-Fi', 'Action', 'Adventure', 'Sci-Fi', 'Drama', 'Romance', 'Comedy', 'Comedy', 'Crime', 'Comedy', 'Action', 'Adventure', 'Sci-Fi', 'Thriller', 'Action', 'Adventure', 'Thriller', 'Action', 'Sci-Fi', 'Thriller', 'Action', 'Adventure', 'Comedy', 'Sci-Fi', 'Action', 'Adventure', 'Action', 'Thriller', 'War', 'Drama', 'Romance', 'Comedy', 'Drama', 'Romance', 'Thriller', 'Action', 'Adventure', 'Sci-Fi', 'War', 'Drama', 'Romance', 'Drama', 'Romance', 'Action', 'Romance', 'Thriller', 'Comedy', 'Drama', 'Comedy', 'Romance', 'Comedy', 'Drama', 'Adventure', 'Comedy', 'Romance', 'Action', 'Crime', 'Romance', 'Action', 'Adventure', 'Sci-Fi', 'Thriller', 'Comedy', 'Action', 'Drama', 'Drama', 'Drama', 'Comedy', 'Drama', 'Action', 'Comedy', 'Crime', 'Drama', 'Action', 'Comedy', 'Crime', 'Drama', 'Action', 'Adventure', 'Romance', 'Sci-Fi', 'Thriller', 'Action', 'Drama', 'War', 'Action', 'Adventure', 'Sci-Fi', 'Action', 'Adventure', 'Fantasy', 'Sci-Fi', 'Action', 'Adventure', 'Drama', 'Romance', 'Comedy', 'Action', 'Adventure', 'Horror', 'Comedy', 'Fantasy', 'Action', 'Adventure', 'Fantasy', 'Action', 'Crime', 'Drama', 'Comedy', 'Drama', 'Romance', 'Action', 'Thriller', 'Action', 'Crime', 'Thriller', 'Comedy', 'Action', 'Thriller', 'Action', 'Sci-Fi', 'Comedy', 'Romance', 'Action', 'Adventure', 'Comedy', 'Romance', 'Action', 'Adventure', 'Comedy', 'Romance', 'Comedy', 'Romance', 'Adventure', 'Comedy', 'Action', 'War', 'Action', 'Adventure', 'Sci-Fi', 'Action', 'Sci-Fi', 'Thriller', 'Comedy', 'Action', 'Adventure', 'Horror', 'Thriller', 'Action', 'Adventure', 'Fantasy', 'Sci-Fi', 'Action', 'Adventure', 'Sci-Fi', 'Action', 'Adventure', 'Sci-Fi', 'Action', 'Adventure', 'Sci-Fi', 'Comedy', 'Romance', 'Comedy', 'Comedy', 'Horror', 'Action', 'Adventure', 'Comedy', 'Action', 'Thriller', 'Comedy', 'Comedy', 'Fantasy', 'Comedy', 'Drama', 'Comedy', 'Drama', 'Action', 'Drama', 'Fantasy', 'Romance', 'Comedy', 'Action', 'Adventure', 'Sci-Fi', 'Thriller', 'Crime', 'Thriller', 'Comedy', 'Action', 'War', 'Action', 'Action', 'Action', 'Comedy', 'Romance', 'Action', 'Crime', 'Sci-Fi', 'Adventure', 'Animation', 'Film-Noir', 'Action', 'Action', 'Action', 'Comedy', 'Drama', 'War', 'Comedy', 'Mystery', 'Romance', 'Thriller', 'Comedy', 'Drama', 'Action', 'Drama', 'War', 'Adventure', 'Comedy', 'Sci-Fi', 'Comedy', 'Action', 'Thriller', 'Drama', 'Action', 'Drama', 'Animation', \"Children's\", 'Comedy', 'Adventure', 'Comedy', 'Sci-Fi', 'Action', 'Comedy', 'Drama', 'Action', 'Thriller', 'Drama', 'Comedy', \"Children's\", 'Comedy', 'Action', 'Adventure', 'War', 'Comedy', 'Comedy', 'Drama', 'Comedy', 'Drama', 'War', 'Adventure', 'Fantasy', 'Romance', 'Comedy', 'Action', 'Sci-Fi', 'Thriller', 'Comedy', 'Romance', 'Comedy', 'Action', 'Thriller', 'Action', 'Drama', 'Action', 'Action', 'Action', 'Action', 'Action', 'Drama', 'War', 'Drama', 'Film-Noir', 'Adventure', 'Drama', 'Romance', 'Sci-Fi', 'Action', 'Sci-Fi', 'Action', 'Sci-Fi', 'Action', 'Sci-Fi', 'Action', 'Comedy', 'Adventure', 'Animation', 'Sci-Fi', 'Animation', \"Children's\", 'Comedy', 'Action', 'Adventure', 'Thriller', 'Action', 'Sci-Fi', 'Action', 'Sci-Fi', 'Action', 'Comedy', 'War', 'Comedy', 'Drama', 'Animation', \"Children's\", 'Comedy', 'Adventure', \"Children's\", 'Fantasy', 'Adventure', \"Children's\", \"Children's\", 'Comedy', 'Drama', 'Comedy', 'Romance', 'Comedy', 'Adventure', \"Children's\", 'Action', 'Adventure', 'Mystery', 'Sci-Fi', \"Children's\", 'Drama', 'Adventure', \"Children's\", 'Comedy', 'Fantasy', 'Romance', 'Comedy', 'Animation', \"Children's\", 'Musical', 'Comedy', \"Children's\", 'Comedy', 'Animation', \"Children's\", 'Comedy', 'Musical', 'Animation', \"Children's\", 'Musical', 'Animation', \"Children's\", 'Musical', 'Animation', \"Children's\", 'Animation', \"Children's\", 'Animation', \"Children's\", 'Animation', \"Children's\", 'Musical', \"Children's\", 'Comedy', 'Adventure', \"Children's\", \"Children's\", 'Drama', 'Adventure', \"Children's\", \"Children's\", 'Comedy', 'Animation', \"Children's\", 'Musical', 'Animation', \"Children's\", \"Children's\", 'Comedy', 'Musical', 'Animation', \"Children's\", 'Musical', 'Adventure', \"Children's\", 'Comedy', 'Fantasy', \"Children's\", 'Drama', 'Fantasy', 'Sci-Fi', 'Comedy', 'Horror', 'Animation', \"Children's\", 'Musical', \"Children's\", 'Comedy', 'Comedy', \"Children's\", 'Comedy', 'Comedy', 'Mystery', \"Children's\", 'Comedy', 'Fantasy', \"Children's\", 'Comedy', 'Animation', \"Children's\", 'Mystery', 'Sci-Fi', 'Thriller', 'Comedy', \"Children's\", 'Comedy', 'Animation', \"Children's\", 'Fantasy', 'War', 'Animation', \"Children's\", \"Children's\", 'Comedy', \"Children's\", 'Comedy', 'Sci-Fi', \"Children's\", 'Drama', 'Animation', \"Children's\", 'Animation', \"Children's\", 'Fantasy', 'Musical', 'Animation', \"Children's\", 'Animation', \"Children's\", 'Musical', \"Children's\", 'Horror', 'Drama', 'Animation', \"Children's\", 'Animation', \"Children's\", 'Animation', \"Children's\", 'Comedy', 'Animation', \"Children's\", 'Comedy', 'Comedy', 'Comedy', 'Adventure', \"Children's\", 'Drama', 'Comedy', 'Drama', 'Action', 'Comedy', 'Romance', 'Thriller', 'Comedy', 'Western', 'Comedy', 'Romance', 'Comedy', 'Romance', 'Comedy', 'Romance', 'Comedy', 'Romance', 'Action', 'Adventure', 'Fantasy', 'Sci-Fi', 'Comedy', 'Comedy', 'Action', 'Comedy', 'Sci-Fi', 'Thriller', 'Action', 'Sci-Fi', 'Western', 'Comedy', 'Horror', 'Comedy', 'Horror', 'Thriller', 'Action', 'Adventure', \"Children's\", 'Comedy', 'Action', 'Adventure', 'Comedy', 'Animation', \"Children's\", 'Thriller', 'Comedy', 'Comedy', 'Thriller', 'Animation', \"Children's\", 'Comedy', 'Romance', 'Comedy', 'Adventure', 'Animation', 'Film-Noir', 'Horror', 'Comedy', 'Romance', 'Animation', \"Children's\", 'Horror', 'Romance', 'Animation', \"Children's\", 'Comedy', 'Comedy', 'Drama', 'Sci-Fi', \"Children's\", 'Comedy', 'Adventure', 'Comedy', 'Sci-Fi', 'Drama', 'Mystery', 'Thriller', 'Comedy', 'Animation', \"Children's\", 'Comedy', 'Animation', \"Children's\", 'Action', 'Animation', \"Children's\", 'Comedy', 'Comedy', 'Horror', 'Action', 'Sci-Fi', 'Comedy', 'Animation', \"Children's\", 'Comedy', 'Action', 'Adventure', 'Fantasy', 'Sci-Fi', 'Action', 'Adventure', 'Sci-Fi', 'Comedy', 'Romance', 'War', 'Drama', 'Horror', 'Action', 'Comedy', 'War', 'Film-Noir', 'Sci-Fi', 'Animation', \"Children's\", 'Musical', 'Action', 'Adventure', 'Animation', 'Horror', 'Sci-Fi', 'Action', 'Horror', 'Sci-Fi', 'Comedy', 'Sci-Fi', 'Adventure', 'Sci-Fi', 'Horror', 'Thriller', 'Horror', 'Drama', 'Mystery', 'Sci-Fi', 'Thriller', 'Comedy', 'Sci-Fi', 'Comedy', \"Children's\", 'Drama', 'Fantasy', 'Sci-Fi', 'Action', 'Adventure', 'Sci-Fi', 'Thriller', 'Action', 'Adventure', 'Drama', 'Sci-Fi', 'War', 'Action', 'Adventure', 'Action', 'Adventure', 'Romance', 'Sci-Fi', 'War', 'Action', 'Horror', 'Sci-Fi', 'Thriller', 'Action', 'Adventure', 'Comedy', 'Horror', 'Sci-Fi', 'Action', 'Crime', 'Drama', 'Drama', 'Sci-Fi', 'Comedy', 'Romance', 'Comedy', 'Sci-Fi', 'Sci-Fi', 'Action', 'Horror', 'Sci-Fi', 'Thriller', 'Action', 'Adventure', 'Sci-Fi', 'Action', 'Adventure', 'Sci-Fi', 'Action', 'Adventure', 'Sci-Fi', 'Action', 'Adventure', 'Sci-Fi', 'Action', 'Adventure', 'Sci-Fi']\n"
     ]
    }
   ],
   "source": [
    "print(x)"
   ]
  },
  {
   "cell_type": "code",
   "execution_count": 41,
   "metadata": {},
   "outputs": [
    {
     "name": "stdout",
     "output_type": "stream",
     "text": [
      "['Drama', 'Adventure', 'Mystery', 'Documentary', \"Children's\", 'Sci-Fi', 'Crime', 'War', 'Horror', 'Animation', 'Musical', 'Action', 'Fantasy', 'Comedy', 'Thriller', 'Film-Noir', 'Western', 'Romance']\n"
     ]
    }
   ],
   "source": [
    "unique_genres = list(set(x))\n",
    "print(unique_genres)"
   ]
  },
  {
   "cell_type": "code",
   "execution_count": 42,
   "metadata": {},
   "outputs": [],
   "source": [
    "unique_genres = pd.Series(unique_genres)"
   ]
  },
  {
   "cell_type": "code",
   "execution_count": 43,
   "metadata": {},
   "outputs": [
    {
     "data": {
      "text/html": [
       "<div>\n",
       "<style scoped>\n",
       "    .dataframe tbody tr th:only-of-type {\n",
       "        vertical-align: middle;\n",
       "    }\n",
       "\n",
       "    .dataframe tbody tr th {\n",
       "        vertical-align: top;\n",
       "    }\n",
       "\n",
       "    .dataframe thead th {\n",
       "        text-align: right;\n",
       "    }\n",
       "</style>\n",
       "<table border=\"1\" class=\"dataframe\">\n",
       "  <thead>\n",
       "    <tr style=\"text-align: right;\">\n",
       "      <th></th>\n",
       "      <th>0</th>\n",
       "      <th>1</th>\n",
       "      <th>2</th>\n",
       "      <th>3</th>\n",
       "      <th>4</th>\n",
       "      <th>5</th>\n",
       "      <th>6</th>\n",
       "      <th>7</th>\n",
       "      <th>8</th>\n",
       "      <th>9</th>\n",
       "      <th>10</th>\n",
       "      <th>11</th>\n",
       "      <th>12</th>\n",
       "      <th>13</th>\n",
       "      <th>14</th>\n",
       "      <th>15</th>\n",
       "      <th>16</th>\n",
       "      <th>17</th>\n",
       "    </tr>\n",
       "  </thead>\n",
       "  <tbody>\n",
       "    <tr>\n",
       "      <td>0</td>\n",
       "      <td>0.0</td>\n",
       "      <td>0.0</td>\n",
       "      <td>0.0</td>\n",
       "      <td>0.0</td>\n",
       "      <td>1.0</td>\n",
       "      <td>0.0</td>\n",
       "      <td>0.0</td>\n",
       "      <td>0.0</td>\n",
       "      <td>0.0</td>\n",
       "      <td>1.0</td>\n",
       "      <td>0.0</td>\n",
       "      <td>0.0</td>\n",
       "      <td>0.0</td>\n",
       "      <td>1.0</td>\n",
       "      <td>0.0</td>\n",
       "      <td>0.0</td>\n",
       "      <td>0.0</td>\n",
       "      <td>0.0</td>\n",
       "    </tr>\n",
       "    <tr>\n",
       "      <td>1</td>\n",
       "      <td>0.0</td>\n",
       "      <td>0.0</td>\n",
       "      <td>0.0</td>\n",
       "      <td>0.0</td>\n",
       "      <td>1.0</td>\n",
       "      <td>0.0</td>\n",
       "      <td>0.0</td>\n",
       "      <td>0.0</td>\n",
       "      <td>0.0</td>\n",
       "      <td>1.0</td>\n",
       "      <td>1.0</td>\n",
       "      <td>0.0</td>\n",
       "      <td>0.0</td>\n",
       "      <td>0.0</td>\n",
       "      <td>0.0</td>\n",
       "      <td>0.0</td>\n",
       "      <td>0.0</td>\n",
       "      <td>1.0</td>\n",
       "    </tr>\n",
       "    <tr>\n",
       "      <td>2</td>\n",
       "      <td>1.0</td>\n",
       "      <td>0.0</td>\n",
       "      <td>0.0</td>\n",
       "      <td>0.0</td>\n",
       "      <td>0.0</td>\n",
       "      <td>0.0</td>\n",
       "      <td>0.0</td>\n",
       "      <td>0.0</td>\n",
       "      <td>0.0</td>\n",
       "      <td>0.0</td>\n",
       "      <td>0.0</td>\n",
       "      <td>0.0</td>\n",
       "      <td>0.0</td>\n",
       "      <td>0.0</td>\n",
       "      <td>0.0</td>\n",
       "      <td>0.0</td>\n",
       "      <td>0.0</td>\n",
       "      <td>0.0</td>\n",
       "    </tr>\n",
       "    <tr>\n",
       "      <td>3</td>\n",
       "      <td>0.0</td>\n",
       "      <td>1.0</td>\n",
       "      <td>0.0</td>\n",
       "      <td>0.0</td>\n",
       "      <td>0.0</td>\n",
       "      <td>1.0</td>\n",
       "      <td>0.0</td>\n",
       "      <td>0.0</td>\n",
       "      <td>0.0</td>\n",
       "      <td>0.0</td>\n",
       "      <td>0.0</td>\n",
       "      <td>1.0</td>\n",
       "      <td>1.0</td>\n",
       "      <td>0.0</td>\n",
       "      <td>0.0</td>\n",
       "      <td>0.0</td>\n",
       "      <td>0.0</td>\n",
       "      <td>0.0</td>\n",
       "    </tr>\n",
       "  </tbody>\n",
       "</table>\n",
       "</div>"
      ],
      "text/plain": [
       "    0    1    2    3    4    5    6    7    8    9    10   11   12   13   14  \\\n",
       "0  0.0  0.0  0.0  0.0  1.0  0.0  0.0  0.0  0.0  1.0  0.0  0.0  0.0  1.0  0.0   \n",
       "1  0.0  0.0  0.0  0.0  1.0  0.0  0.0  0.0  0.0  1.0  1.0  0.0  0.0  0.0  0.0   \n",
       "2  1.0  0.0  0.0  0.0  0.0  0.0  0.0  0.0  0.0  0.0  0.0  0.0  0.0  0.0  0.0   \n",
       "3  0.0  1.0  0.0  0.0  0.0  1.0  0.0  0.0  0.0  0.0  0.0  1.0  1.0  0.0  0.0   \n",
       "\n",
       "    15   16   17  \n",
       "0  0.0  0.0  0.0  \n",
       "1  0.0  0.0  1.0  \n",
       "2  0.0  0.0  0.0  \n",
       "3  0.0  0.0  0.0  "
      ]
     },
     "execution_count": 43,
     "metadata": {},
     "output_type": "execute_result"
    }
   ],
   "source": [
    "df = pd.DataFrame()\n",
    "for row in Pdata.Genres:\n",
    "    a = unique_genres.isin(row) #is in method of series can be applied\n",
    "    df = df.append(a, ignore_index = True)\n",
    "df[:4]"
   ]
  },
  {
   "cell_type": "code",
   "execution_count": 44,
   "metadata": {},
   "outputs": [
    {
     "data": {
      "text/html": [
       "<div>\n",
       "<style scoped>\n",
       "    .dataframe tbody tr th:only-of-type {\n",
       "        vertical-align: middle;\n",
       "    }\n",
       "\n",
       "    .dataframe tbody tr th {\n",
       "        vertical-align: top;\n",
       "    }\n",
       "\n",
       "    .dataframe thead th {\n",
       "        text-align: right;\n",
       "    }\n",
       "</style>\n",
       "<table border=\"1\" class=\"dataframe\">\n",
       "  <thead>\n",
       "    <tr style=\"text-align: right;\">\n",
       "      <th></th>\n",
       "      <th>Drama</th>\n",
       "      <th>Adventure</th>\n",
       "      <th>Mystery</th>\n",
       "      <th>Documentary</th>\n",
       "      <th>Children's</th>\n",
       "      <th>Sci-Fi</th>\n",
       "      <th>Crime</th>\n",
       "      <th>War</th>\n",
       "      <th>Horror</th>\n",
       "      <th>Animation</th>\n",
       "      <th>Musical</th>\n",
       "      <th>Action</th>\n",
       "      <th>Fantasy</th>\n",
       "      <th>Comedy</th>\n",
       "      <th>Thriller</th>\n",
       "      <th>Film-Noir</th>\n",
       "      <th>Western</th>\n",
       "      <th>Romance</th>\n",
       "    </tr>\n",
       "  </thead>\n",
       "  <tbody>\n",
       "    <tr>\n",
       "      <td>0</td>\n",
       "      <td>0.0</td>\n",
       "      <td>0.0</td>\n",
       "      <td>0.0</td>\n",
       "      <td>0.0</td>\n",
       "      <td>1.0</td>\n",
       "      <td>0.0</td>\n",
       "      <td>0.0</td>\n",
       "      <td>0.0</td>\n",
       "      <td>0.0</td>\n",
       "      <td>1.0</td>\n",
       "      <td>0.0</td>\n",
       "      <td>0.0</td>\n",
       "      <td>0.0</td>\n",
       "      <td>1.0</td>\n",
       "      <td>0.0</td>\n",
       "      <td>0.0</td>\n",
       "      <td>0.0</td>\n",
       "      <td>0.0</td>\n",
       "    </tr>\n",
       "    <tr>\n",
       "      <td>1</td>\n",
       "      <td>0.0</td>\n",
       "      <td>0.0</td>\n",
       "      <td>0.0</td>\n",
       "      <td>0.0</td>\n",
       "      <td>1.0</td>\n",
       "      <td>0.0</td>\n",
       "      <td>0.0</td>\n",
       "      <td>0.0</td>\n",
       "      <td>0.0</td>\n",
       "      <td>1.0</td>\n",
       "      <td>1.0</td>\n",
       "      <td>0.0</td>\n",
       "      <td>0.0</td>\n",
       "      <td>0.0</td>\n",
       "      <td>0.0</td>\n",
       "      <td>0.0</td>\n",
       "      <td>0.0</td>\n",
       "      <td>1.0</td>\n",
       "    </tr>\n",
       "    <tr>\n",
       "      <td>2</td>\n",
       "      <td>1.0</td>\n",
       "      <td>0.0</td>\n",
       "      <td>0.0</td>\n",
       "      <td>0.0</td>\n",
       "      <td>0.0</td>\n",
       "      <td>0.0</td>\n",
       "      <td>0.0</td>\n",
       "      <td>0.0</td>\n",
       "      <td>0.0</td>\n",
       "      <td>0.0</td>\n",
       "      <td>0.0</td>\n",
       "      <td>0.0</td>\n",
       "      <td>0.0</td>\n",
       "      <td>0.0</td>\n",
       "      <td>0.0</td>\n",
       "      <td>0.0</td>\n",
       "      <td>0.0</td>\n",
       "      <td>0.0</td>\n",
       "    </tr>\n",
       "  </tbody>\n",
       "</table>\n",
       "</div>"
      ],
      "text/plain": [
       "   Drama  Adventure  Mystery  Documentary  Children's  Sci-Fi  Crime  War  \\\n",
       "0    0.0        0.0      0.0          0.0         1.0     0.0    0.0  0.0   \n",
       "1    0.0        0.0      0.0          0.0         1.0     0.0    0.0  0.0   \n",
       "2    1.0        0.0      0.0          0.0         0.0     0.0    0.0  0.0   \n",
       "\n",
       "   Horror  Animation  Musical  Action  Fantasy  Comedy  Thriller  Film-Noir  \\\n",
       "0     0.0        1.0      0.0     0.0      0.0     1.0       0.0        0.0   \n",
       "1     0.0        1.0      1.0     0.0      0.0     0.0       0.0        0.0   \n",
       "2     0.0        0.0      0.0     0.0      0.0     0.0       0.0        0.0   \n",
       "\n",
       "   Western  Romance  \n",
       "0      0.0      0.0  \n",
       "1      0.0      1.0  \n",
       "2      0.0      0.0  "
      ]
     },
     "execution_count": 44,
     "metadata": {},
     "output_type": "execute_result"
    }
   ],
   "source": [
    "df.columns = unique_genres\n",
    "df.head(3)"
   ]
  },
  {
   "cell_type": "code",
   "execution_count": 46,
   "metadata": {},
   "outputs": [],
   "source": [
    "Pdata = pd.concat((Pdata, df), axis = 1)"
   ]
  },
  {
   "cell_type": "code",
   "execution_count": 47,
   "metadata": {},
   "outputs": [
    {
     "data": {
      "text/html": [
       "<div>\n",
       "<style scoped>\n",
       "    .dataframe tbody tr th:only-of-type {\n",
       "        vertical-align: middle;\n",
       "    }\n",
       "\n",
       "    .dataframe tbody tr th {\n",
       "        vertical-align: top;\n",
       "    }\n",
       "\n",
       "    .dataframe thead th {\n",
       "        text-align: right;\n",
       "    }\n",
       "</style>\n",
       "<table border=\"1\" class=\"dataframe\">\n",
       "  <thead>\n",
       "    <tr style=\"text-align: right;\">\n",
       "      <th></th>\n",
       "      <th>MovieID</th>\n",
       "      <th>Title</th>\n",
       "      <th>Genres</th>\n",
       "      <th>UserID</th>\n",
       "      <th>Rating</th>\n",
       "      <th>Timestamp</th>\n",
       "      <th>Gender</th>\n",
       "      <th>Age</th>\n",
       "      <th>Occupation</th>\n",
       "      <th>Zip-Code</th>\n",
       "      <th>...</th>\n",
       "      <th>Horror</th>\n",
       "      <th>Animation</th>\n",
       "      <th>Musical</th>\n",
       "      <th>Action</th>\n",
       "      <th>Fantasy</th>\n",
       "      <th>Comedy</th>\n",
       "      <th>Thriller</th>\n",
       "      <th>Film-Noir</th>\n",
       "      <th>Western</th>\n",
       "      <th>Romance</th>\n",
       "    </tr>\n",
       "  </thead>\n",
       "  <tbody>\n",
       "    <tr>\n",
       "      <td>0</td>\n",
       "      <td>1</td>\n",
       "      <td>Toy Story (1995)</td>\n",
       "      <td>[Animation, Children's, Comedy]</td>\n",
       "      <td>1</td>\n",
       "      <td>5</td>\n",
       "      <td>978824268</td>\n",
       "      <td>F</td>\n",
       "      <td>1</td>\n",
       "      <td>10</td>\n",
       "      <td>48067</td>\n",
       "      <td>...</td>\n",
       "      <td>0.0</td>\n",
       "      <td>1.0</td>\n",
       "      <td>0.0</td>\n",
       "      <td>0.0</td>\n",
       "      <td>0.0</td>\n",
       "      <td>1.0</td>\n",
       "      <td>0.0</td>\n",
       "      <td>0.0</td>\n",
       "      <td>0.0</td>\n",
       "      <td>0.0</td>\n",
       "    </tr>\n",
       "    <tr>\n",
       "      <td>1</td>\n",
       "      <td>48</td>\n",
       "      <td>Pocahontas (1995)</td>\n",
       "      <td>[Animation, Children's, Musical, Romance]</td>\n",
       "      <td>1</td>\n",
       "      <td>5</td>\n",
       "      <td>978824351</td>\n",
       "      <td>F</td>\n",
       "      <td>1</td>\n",
       "      <td>10</td>\n",
       "      <td>48067</td>\n",
       "      <td>...</td>\n",
       "      <td>0.0</td>\n",
       "      <td>1.0</td>\n",
       "      <td>1.0</td>\n",
       "      <td>0.0</td>\n",
       "      <td>0.0</td>\n",
       "      <td>0.0</td>\n",
       "      <td>0.0</td>\n",
       "      <td>0.0</td>\n",
       "      <td>0.0</td>\n",
       "      <td>1.0</td>\n",
       "    </tr>\n",
       "    <tr>\n",
       "      <td>2</td>\n",
       "      <td>150</td>\n",
       "      <td>Apollo 13 (1995)</td>\n",
       "      <td>[Drama]</td>\n",
       "      <td>1</td>\n",
       "      <td>5</td>\n",
       "      <td>978301777</td>\n",
       "      <td>F</td>\n",
       "      <td>1</td>\n",
       "      <td>10</td>\n",
       "      <td>48067</td>\n",
       "      <td>...</td>\n",
       "      <td>0.0</td>\n",
       "      <td>0.0</td>\n",
       "      <td>0.0</td>\n",
       "      <td>0.0</td>\n",
       "      <td>0.0</td>\n",
       "      <td>0.0</td>\n",
       "      <td>0.0</td>\n",
       "      <td>0.0</td>\n",
       "      <td>0.0</td>\n",
       "      <td>0.0</td>\n",
       "    </tr>\n",
       "  </tbody>\n",
       "</table>\n",
       "<p>3 rows × 28 columns</p>\n",
       "</div>"
      ],
      "text/plain": [
       "   MovieID              Title                                     Genres  \\\n",
       "0        1   Toy Story (1995)            [Animation, Children's, Comedy]   \n",
       "1       48  Pocahontas (1995)  [Animation, Children's, Musical, Romance]   \n",
       "2      150   Apollo 13 (1995)                                    [Drama]   \n",
       "\n",
       "   UserID  Rating  Timestamp Gender  Age  Occupation Zip-Code  ...  Horror  \\\n",
       "0       1       5  978824268      F    1          10    48067  ...     0.0   \n",
       "1       1       5  978824351      F    1          10    48067  ...     0.0   \n",
       "2       1       5  978301777      F    1          10    48067  ...     0.0   \n",
       "\n",
       "   Animation  Musical  Action  Fantasy  Comedy  Thriller  Film-Noir  Western  \\\n",
       "0        1.0      0.0     0.0      0.0     1.0       0.0        0.0      0.0   \n",
       "1        1.0      1.0     0.0      0.0     0.0       0.0        0.0      0.0   \n",
       "2        0.0      0.0     0.0      0.0     0.0       0.0        0.0      0.0   \n",
       "\n",
       "   Romance  \n",
       "0      0.0  \n",
       "1      1.0  \n",
       "2      0.0  \n",
       "\n",
       "[3 rows x 28 columns]"
      ]
     },
     "execution_count": 47,
     "metadata": {},
     "output_type": "execute_result"
    }
   ],
   "source": [
    "Pdata.head(3)"
   ]
  },
  {
   "cell_type": "code",
   "execution_count": 48,
   "metadata": {},
   "outputs": [
    {
     "data": {
      "text/plain": [
       "Index(['MovieID', 'Title', 'Genres', 'UserID', 'Rating', 'Timestamp', 'Gender',\n",
       "       'Age', 'Occupation', 'Zip-Code', 'Drama', 'Adventure', 'Mystery',\n",
       "       'Documentary', 'Children's', 'Sci-Fi', 'Crime', 'War', 'Horror',\n",
       "       'Animation', 'Musical', 'Action', 'Fantasy', 'Comedy', 'Thriller',\n",
       "       'Film-Noir', 'Western', 'Romance'],\n",
       "      dtype='object')"
      ]
     },
     "execution_count": 48,
     "metadata": {},
     "output_type": "execute_result"
    }
   ],
   "source": [
    "Pdata.columns"
   ]
  },
  {
   "cell_type": "code",
   "execution_count": 49,
   "metadata": {},
   "outputs": [],
   "source": [
    "final_data = Pdata.drop([\"MovieID\", \"Title\", \"Genres\", \"UserID\", \"Timestamp\", \"Zip-Code\"], axis = 1)"
   ]
  },
  {
   "cell_type": "code",
   "execution_count": 50,
   "metadata": {},
   "outputs": [
    {
     "data": {
      "text/html": [
       "<div>\n",
       "<style scoped>\n",
       "    .dataframe tbody tr th:only-of-type {\n",
       "        vertical-align: middle;\n",
       "    }\n",
       "\n",
       "    .dataframe tbody tr th {\n",
       "        vertical-align: top;\n",
       "    }\n",
       "\n",
       "    .dataframe thead th {\n",
       "        text-align: right;\n",
       "    }\n",
       "</style>\n",
       "<table border=\"1\" class=\"dataframe\">\n",
       "  <thead>\n",
       "    <tr style=\"text-align: right;\">\n",
       "      <th></th>\n",
       "      <th>Rating</th>\n",
       "      <th>Gender</th>\n",
       "      <th>Age</th>\n",
       "      <th>Occupation</th>\n",
       "      <th>Drama</th>\n",
       "      <th>Adventure</th>\n",
       "      <th>Mystery</th>\n",
       "      <th>Documentary</th>\n",
       "      <th>Children's</th>\n",
       "      <th>Sci-Fi</th>\n",
       "      <th>...</th>\n",
       "      <th>Horror</th>\n",
       "      <th>Animation</th>\n",
       "      <th>Musical</th>\n",
       "      <th>Action</th>\n",
       "      <th>Fantasy</th>\n",
       "      <th>Comedy</th>\n",
       "      <th>Thriller</th>\n",
       "      <th>Film-Noir</th>\n",
       "      <th>Western</th>\n",
       "      <th>Romance</th>\n",
       "    </tr>\n",
       "  </thead>\n",
       "  <tbody>\n",
       "    <tr>\n",
       "      <td>0</td>\n",
       "      <td>5</td>\n",
       "      <td>F</td>\n",
       "      <td>1</td>\n",
       "      <td>10</td>\n",
       "      <td>0.0</td>\n",
       "      <td>0.0</td>\n",
       "      <td>0.0</td>\n",
       "      <td>0.0</td>\n",
       "      <td>1.0</td>\n",
       "      <td>0.0</td>\n",
       "      <td>...</td>\n",
       "      <td>0.0</td>\n",
       "      <td>1.0</td>\n",
       "      <td>0.0</td>\n",
       "      <td>0.0</td>\n",
       "      <td>0.0</td>\n",
       "      <td>1.0</td>\n",
       "      <td>0.0</td>\n",
       "      <td>0.0</td>\n",
       "      <td>0.0</td>\n",
       "      <td>0.0</td>\n",
       "    </tr>\n",
       "    <tr>\n",
       "      <td>1</td>\n",
       "      <td>5</td>\n",
       "      <td>F</td>\n",
       "      <td>1</td>\n",
       "      <td>10</td>\n",
       "      <td>0.0</td>\n",
       "      <td>0.0</td>\n",
       "      <td>0.0</td>\n",
       "      <td>0.0</td>\n",
       "      <td>1.0</td>\n",
       "      <td>0.0</td>\n",
       "      <td>...</td>\n",
       "      <td>0.0</td>\n",
       "      <td>1.0</td>\n",
       "      <td>1.0</td>\n",
       "      <td>0.0</td>\n",
       "      <td>0.0</td>\n",
       "      <td>0.0</td>\n",
       "      <td>0.0</td>\n",
       "      <td>0.0</td>\n",
       "      <td>0.0</td>\n",
       "      <td>1.0</td>\n",
       "    </tr>\n",
       "    <tr>\n",
       "      <td>2</td>\n",
       "      <td>5</td>\n",
       "      <td>F</td>\n",
       "      <td>1</td>\n",
       "      <td>10</td>\n",
       "      <td>1.0</td>\n",
       "      <td>0.0</td>\n",
       "      <td>0.0</td>\n",
       "      <td>0.0</td>\n",
       "      <td>0.0</td>\n",
       "      <td>0.0</td>\n",
       "      <td>...</td>\n",
       "      <td>0.0</td>\n",
       "      <td>0.0</td>\n",
       "      <td>0.0</td>\n",
       "      <td>0.0</td>\n",
       "      <td>0.0</td>\n",
       "      <td>0.0</td>\n",
       "      <td>0.0</td>\n",
       "      <td>0.0</td>\n",
       "      <td>0.0</td>\n",
       "      <td>0.0</td>\n",
       "    </tr>\n",
       "  </tbody>\n",
       "</table>\n",
       "<p>3 rows × 22 columns</p>\n",
       "</div>"
      ],
      "text/plain": [
       "   Rating Gender  Age  Occupation  Drama  Adventure  Mystery  Documentary  \\\n",
       "0       5      F    1          10    0.0        0.0      0.0          0.0   \n",
       "1       5      F    1          10    0.0        0.0      0.0          0.0   \n",
       "2       5      F    1          10    1.0        0.0      0.0          0.0   \n",
       "\n",
       "   Children's  Sci-Fi  ...  Horror  Animation  Musical  Action  Fantasy  \\\n",
       "0         1.0     0.0  ...     0.0        1.0      0.0     0.0      0.0   \n",
       "1         1.0     0.0  ...     0.0        1.0      1.0     0.0      0.0   \n",
       "2         0.0     0.0  ...     0.0        0.0      0.0     0.0      0.0   \n",
       "\n",
       "   Comedy  Thriller  Film-Noir  Western  Romance  \n",
       "0     1.0       0.0        0.0      0.0      0.0  \n",
       "1     0.0       0.0        0.0      0.0      1.0  \n",
       "2     0.0       0.0        0.0      0.0      0.0  \n",
       "\n",
       "[3 rows x 22 columns]"
      ]
     },
     "execution_count": 50,
     "metadata": {},
     "output_type": "execute_result"
    }
   ],
   "source": [
    "final_data.head(3)"
   ]
  },
  {
   "cell_type": "code",
   "execution_count": 90,
   "metadata": {},
   "outputs": [
    {
     "name": "stdout",
     "output_type": "stream",
     "text": [
      "      Rating Gender  Age  Occupation  Drama  Adventure  Mystery  Documentary  \\\n",
      "0          5      2    1          10    0.0        0.0      0.0          0.0   \n",
      "1          5      2    1          10    0.0        0.0      0.0          0.0   \n",
      "2          5      2    1          10    1.0        0.0      0.0          0.0   \n",
      "3          4      2    1          10    0.0        1.0      0.0          0.0   \n",
      "4          5      2    1          10    1.0        0.0      0.0          0.0   \n",
      "...      ...    ...  ...         ...    ...        ...      ...          ...   \n",
      "6995       5      1   35           7    0.0        1.0      0.0          0.0   \n",
      "6996       4      1   35           7    0.0        1.0      0.0          0.0   \n",
      "6997       5      1   35           7    0.0        1.0      0.0          0.0   \n",
      "6998       5      1   35           7    0.0        1.0      0.0          0.0   \n",
      "6999       5      1   35           7    0.0        1.0      0.0          0.0   \n",
      "\n",
      "      Children's  Sci-Fi  ...  Horror  Animation  Musical  Action  Fantasy  \\\n",
      "0            1.0     0.0  ...     0.0        1.0      0.0     0.0      0.0   \n",
      "1            1.0     0.0  ...     0.0        1.0      1.0     0.0      0.0   \n",
      "2            0.0     0.0  ...     0.0        0.0      0.0     0.0      0.0   \n",
      "3            0.0     1.0  ...     0.0        0.0      0.0     1.0      1.0   \n",
      "4            0.0     0.0  ...     0.0        0.0      0.0     0.0      0.0   \n",
      "...          ...     ...  ...     ...        ...      ...     ...      ...   \n",
      "6995         0.0     1.0  ...     0.0        0.0      0.0     1.0      0.0   \n",
      "6996         0.0     1.0  ...     0.0        0.0      0.0     1.0      0.0   \n",
      "6997         0.0     1.0  ...     0.0        0.0      0.0     1.0      0.0   \n",
      "6998         0.0     1.0  ...     0.0        0.0      0.0     1.0      0.0   \n",
      "6999         0.0     1.0  ...     0.0        0.0      0.0     1.0      0.0   \n",
      "\n",
      "      Comedy  Thriller  Film-Noir  Western  Romance  \n",
      "0        1.0       0.0        0.0      0.0      0.0  \n",
      "1        0.0       0.0        0.0      0.0      1.0  \n",
      "2        0.0       0.0        0.0      0.0      0.0  \n",
      "3        0.0       0.0        0.0      0.0      0.0  \n",
      "4        0.0       0.0        0.0      0.0      0.0  \n",
      "...      ...       ...        ...      ...      ...  \n",
      "6995     0.0       0.0        0.0      0.0      0.0  \n",
      "6996     0.0       0.0        0.0      0.0      0.0  \n",
      "6997     0.0       0.0        0.0      0.0      0.0  \n",
      "6998     0.0       0.0        0.0      0.0      0.0  \n",
      "6999     0.0       0.0        0.0      0.0      0.0  \n",
      "\n",
      "[7000 rows x 22 columns]\n"
     ]
    }
   ],
   "source": [
    "final_data.Gender[final_data.Gender == 'M'] = 1\n",
    "final_data.Gender[final_data.Gender == 'F'] = 2\n",
    "print(final_data) "
   ]
  },
  {
   "cell_type": "code",
   "execution_count": 126,
   "metadata": {},
   "outputs": [],
   "source": [
    "y = final_data['Rating']\n",
    "x= final_data.iloc[:, 1:]"
   ]
  },
  {
   "cell_type": "code",
   "execution_count": 127,
   "metadata": {},
   "outputs": [
    {
     "data": {
      "text/plain": [
       "Rating          1.219257\n",
       "Gender          0.236110\n",
       "Age             1.984967\n",
       "Occupation     15.285254\n",
       "Drama           0.200108\n",
       "Adventure       0.141779\n",
       "Mystery         0.030177\n",
       "Documentary     0.004126\n",
       "Children's      0.132468\n",
       "Sci-Fi          0.136835\n",
       "Crime           0.058540\n",
       "War             0.056031\n",
       "Horror          0.057538\n",
       "Animation       0.089899\n",
       "Musical         0.066581\n",
       "Action          0.198175\n",
       "Fantasy         0.052618\n",
       "Comedy          0.240262\n",
       "Thriller        0.137890\n",
       "Film-Noir       0.011858\n",
       "Western         0.018916\n",
       "Romance         0.141309\n",
       "dtype: float64"
      ]
     },
     "execution_count": 127,
     "metadata": {},
     "output_type": "execute_result"
    }
   ],
   "source": [
    "final_data.var()"
   ]
  },
  {
   "cell_type": "code",
   "execution_count": 128,
   "metadata": {},
   "outputs": [
    {
     "name": "stdout",
     "output_type": "stream",
     "text": [
      "(7000, 21)\n",
      "(7000,)\n"
     ]
    }
   ],
   "source": [
    "print(x.shape)\n",
    "print(y.shape)"
   ]
  },
  {
   "cell_type": "code",
   "execution_count": 94,
   "metadata": {},
   "outputs": [],
   "source": [
    "from sklearn.feature_selection import SelectKBest\n",
    "from sklearn.feature_selection import chi2\n",
    "from sklearn.neighbors import KNeighborsClassifier\n",
    "knn = KNeighborsClassifier(n_neighbors=5)"
   ]
  },
  {
   "cell_type": "code",
   "execution_count": 95,
   "metadata": {},
   "outputs": [],
   "source": [
    "selector = SelectKBest(chi2, k = 3)"
   ]
  },
  {
   "cell_type": "code",
   "execution_count": 96,
   "metadata": {},
   "outputs": [],
   "source": [
    "from sklearn.pipeline import Pipeline\n",
    "pipe = Pipeline([('select_k_best', selector), \n",
    "                 ('knn', knn)])"
   ]
  },
  {
   "cell_type": "code",
   "execution_count": 97,
   "metadata": {},
   "outputs": [
    {
     "data": {
      "text/plain": [
       "{'memory': None,\n",
       " 'steps': [('select_k_best',\n",
       "   SelectKBest(k=3, score_func=<function chi2 at 0x000001C7866A4828>)),\n",
       "  ('knn',\n",
       "   KNeighborsClassifier(algorithm='auto', leaf_size=30, metric='minkowski',\n",
       "                        metric_params=None, n_jobs=None, n_neighbors=5, p=2,\n",
       "                        weights='uniform'))],\n",
       " 'verbose': False,\n",
       " 'select_k_best': SelectKBest(k=3, score_func=<function chi2 at 0x000001C7866A4828>),\n",
       " 'knn': KNeighborsClassifier(algorithm='auto', leaf_size=30, metric='minkowski',\n",
       "                      metric_params=None, n_jobs=None, n_neighbors=5, p=2,\n",
       "                      weights='uniform'),\n",
       " 'select_k_best__k': 3,\n",
       " 'select_k_best__score_func': <function sklearn.feature_selection.univariate_selection.chi2(X, y)>,\n",
       " 'knn__algorithm': 'auto',\n",
       " 'knn__leaf_size': 30,\n",
       " 'knn__metric': 'minkowski',\n",
       " 'knn__metric_params': None,\n",
       " 'knn__n_jobs': None,\n",
       " 'knn__n_neighbors': 5,\n",
       " 'knn__p': 2,\n",
       " 'knn__weights': 'uniform'}"
      ]
     },
     "execution_count": 97,
     "metadata": {},
     "output_type": "execute_result"
    }
   ],
   "source": [
    "pipe.get_params()"
   ]
  },
  {
   "cell_type": "code",
   "execution_count": 98,
   "metadata": {},
   "outputs": [],
   "source": [
    "param_grid = [\n",
    "  {'select_k_best__k': [1, 4, 3, 5],\n",
    "   'knn__n_neighbors': [3, 5, 6,9]}\n",
    "  ]"
   ]
  },
  {
   "cell_type": "code",
   "execution_count": 99,
   "metadata": {},
   "outputs": [],
   "source": [
    "from sklearn.model_selection import GridSearchCV\n",
    "gs = GridSearchCV(estimator=pipe, \n",
    "                  param_grid=param_grid, \n",
    "                  scoring='accuracy', \n",
    "                  n_jobs=1, \n",
    "                  cv=5,  \n",
    "                  refit=False)"
   ]
  },
  {
   "cell_type": "code",
   "execution_count": 100,
   "metadata": {},
   "outputs": [
    {
     "data": {
      "text/html": [
       "<div>\n",
       "<style scoped>\n",
       "    .dataframe tbody tr th:only-of-type {\n",
       "        vertical-align: middle;\n",
       "    }\n",
       "\n",
       "    .dataframe tbody tr th {\n",
       "        vertical-align: top;\n",
       "    }\n",
       "\n",
       "    .dataframe thead th {\n",
       "        text-align: right;\n",
       "    }\n",
       "</style>\n",
       "<table border=\"1\" class=\"dataframe\">\n",
       "  <thead>\n",
       "    <tr style=\"text-align: right;\">\n",
       "      <th></th>\n",
       "      <th>Rating</th>\n",
       "      <th>Gender</th>\n",
       "      <th>Age</th>\n",
       "      <th>Occupation</th>\n",
       "      <th>Drama</th>\n",
       "      <th>Adventure</th>\n",
       "      <th>Mystery</th>\n",
       "      <th>Documentary</th>\n",
       "      <th>Children's</th>\n",
       "      <th>Sci-Fi</th>\n",
       "      <th>...</th>\n",
       "      <th>Horror</th>\n",
       "      <th>Animation</th>\n",
       "      <th>Musical</th>\n",
       "      <th>Action</th>\n",
       "      <th>Fantasy</th>\n",
       "      <th>Comedy</th>\n",
       "      <th>Thriller</th>\n",
       "      <th>Film-Noir</th>\n",
       "      <th>Western</th>\n",
       "      <th>Romance</th>\n",
       "    </tr>\n",
       "  </thead>\n",
       "  <tbody>\n",
       "    <tr>\n",
       "      <td>0</td>\n",
       "      <td>5</td>\n",
       "      <td>2</td>\n",
       "      <td>1</td>\n",
       "      <td>10</td>\n",
       "      <td>0.0</td>\n",
       "      <td>0.0</td>\n",
       "      <td>0.0</td>\n",
       "      <td>0.0</td>\n",
       "      <td>1.0</td>\n",
       "      <td>0.0</td>\n",
       "      <td>...</td>\n",
       "      <td>0.0</td>\n",
       "      <td>1.0</td>\n",
       "      <td>0.0</td>\n",
       "      <td>0.0</td>\n",
       "      <td>0.0</td>\n",
       "      <td>1.0</td>\n",
       "      <td>0.0</td>\n",
       "      <td>0.0</td>\n",
       "      <td>0.0</td>\n",
       "      <td>0.0</td>\n",
       "    </tr>\n",
       "  </tbody>\n",
       "</table>\n",
       "<p>1 rows × 22 columns</p>\n",
       "</div>"
      ],
      "text/plain": [
       "   Rating Gender  Age  Occupation  Drama  Adventure  Mystery  Documentary  \\\n",
       "0       5      2    1          10    0.0        0.0      0.0          0.0   \n",
       "\n",
       "   Children's  Sci-Fi  ...  Horror  Animation  Musical  Action  Fantasy  \\\n",
       "0         1.0     0.0  ...     0.0        1.0      0.0     0.0      0.0   \n",
       "\n",
       "   Comedy  Thriller  Film-Noir  Western  Romance  \n",
       "0     1.0       0.0        0.0      0.0      0.0  \n",
       "\n",
       "[1 rows x 22 columns]"
      ]
     },
     "execution_count": 100,
     "metadata": {},
     "output_type": "execute_result"
    }
   ],
   "source": [
    "final_data.head(1)"
   ]
  },
  {
   "cell_type": "code",
   "execution_count": 102,
   "metadata": {},
   "outputs": [],
   "source": [
    "y = final_data.Rating.values\n",
    "x= final_data.iloc[:, 1:].values"
   ]
  },
  {
   "cell_type": "code",
   "execution_count": 103,
   "metadata": {},
   "outputs": [],
   "source": [
    "gs = gs.fit(x,y)"
   ]
  },
  {
   "cell_type": "code",
   "execution_count": 104,
   "metadata": {},
   "outputs": [
    {
     "data": {
      "text/plain": [
       "{'knn__n_neighbors': 6, 'select_k_best__k': 1}"
      ]
     },
     "execution_count": 104,
     "metadata": {},
     "output_type": "execute_result"
    }
   ],
   "source": [
    "gs.best_params_"
   ]
  },
  {
   "cell_type": "code",
   "execution_count": 106,
   "metadata": {},
   "outputs": [
    {
     "name": "stdout",
     "output_type": "stream",
     "text": [
      "Best parameters via GridSearch {'knn__n_neighbors': 6, 'select_k_best__k': 1}\n"
     ]
    }
   ],
   "source": [
    "print(\"Best parameters via GridSearch\", gs.best_params_)"
   ]
  },
  {
   "cell_type": "code",
   "execution_count": 108,
   "metadata": {},
   "outputs": [
    {
     "name": "stdout",
     "output_type": "stream",
     "text": [
      "Best score: 0.231\n"
     ]
    }
   ],
   "source": [
    "print('Best score:', gs.best_score_)"
   ]
  },
  {
   "cell_type": "code",
   "execution_count": 109,
   "metadata": {},
   "outputs": [],
   "source": [
    "import seaborn as sns"
   ]
  },
  {
   "cell_type": "code",
   "execution_count": 110,
   "metadata": {},
   "outputs": [
    {
     "data": {
      "text/plain": [
       "<matplotlib.axes._subplots.AxesSubplot at 0x1c787e960c8>"
      ]
     },
     "execution_count": 110,
     "metadata": {},
     "output_type": "execute_result"
    },
    {
     "data": {
      "image/png": "[encoded data removed]",
      "text/plain": [
       "<Figure size 432x288 with 1 Axes>"
      ]
     },
     "metadata": {
      "needs_background": "light"
     },
     "output_type": "display_data"
    }
   ],
   "source": [
    "sns.countplot(final_data['Rating'])"
   ]
  },
  {
   "cell_type": "markdown",
   "metadata": {},
   "source": [
    "#as per above chart we can see it is an unblanced classification problem"
   ]
  },
  {
   "cell_type": "code",
   "execution_count": 112,
   "metadata": {},
   "outputs": [],
   "source": [
    "from sklearn.preprocessing import LabelEncoder"
   ]
  },
  {
   "cell_type": "code",
   "execution_count": 113,
   "metadata": {},
   "outputs": [],
   "source": [
    "le=LabelEncoder()"
   ]
  },
  {
   "cell_type": "code",
   "execution_count": 116,
   "metadata": {},
   "outputs": [],
   "source": [
    "for i in final_data.columns:\n",
    "    final_data[i]=le.fit_transform(final_data[i])"
   ]
  },
  {
   "cell_type": "code",
   "execution_count": 129,
   "metadata": {},
   "outputs": [
    {
     "data": {
      "text/html": [
       "<div>\n",
       "<style scoped>\n",
       "    .dataframe tbody tr th:only-of-type {\n",
       "        vertical-align: middle;\n",
       "    }\n",
       "\n",
       "    .dataframe tbody tr th {\n",
       "        vertical-align: top;\n",
       "    }\n",
       "\n",
       "    .dataframe thead th {\n",
       "        text-align: right;\n",
       "    }\n",
       "</style>\n",
       "<table border=\"1\" class=\"dataframe\">\n",
       "  <thead>\n",
       "    <tr style=\"text-align: right;\">\n",
       "      <th></th>\n",
       "      <th>Rating</th>\n",
       "      <th>Gender</th>\n",
       "      <th>Age</th>\n",
       "      <th>Occupation</th>\n",
       "      <th>Drama</th>\n",
       "      <th>Adventure</th>\n",
       "      <th>Mystery</th>\n",
       "      <th>Documentary</th>\n",
       "      <th>Children's</th>\n",
       "      <th>Sci-Fi</th>\n",
       "      <th>...</th>\n",
       "      <th>Horror</th>\n",
       "      <th>Animation</th>\n",
       "      <th>Musical</th>\n",
       "      <th>Action</th>\n",
       "      <th>Fantasy</th>\n",
       "      <th>Comedy</th>\n",
       "      <th>Thriller</th>\n",
       "      <th>Film-Noir</th>\n",
       "      <th>Western</th>\n",
       "      <th>Romance</th>\n",
       "    </tr>\n",
       "  </thead>\n",
       "  <tbody>\n",
       "    <tr>\n",
       "      <td>0</td>\n",
       "      <td>4</td>\n",
       "      <td>1</td>\n",
       "      <td>0</td>\n",
       "      <td>7</td>\n",
       "      <td>0</td>\n",
       "      <td>0</td>\n",
       "      <td>0</td>\n",
       "      <td>0</td>\n",
       "      <td>1</td>\n",
       "      <td>0</td>\n",
       "      <td>...</td>\n",
       "      <td>0</td>\n",
       "      <td>1</td>\n",
       "      <td>0</td>\n",
       "      <td>0</td>\n",
       "      <td>0</td>\n",
       "      <td>1</td>\n",
       "      <td>0</td>\n",
       "      <td>0</td>\n",
       "      <td>0</td>\n",
       "      <td>0</td>\n",
       "    </tr>\n",
       "    <tr>\n",
       "      <td>1</td>\n",
       "      <td>4</td>\n",
       "      <td>1</td>\n",
       "      <td>0</td>\n",
       "      <td>7</td>\n",
       "      <td>0</td>\n",
       "      <td>0</td>\n",
       "      <td>0</td>\n",
       "      <td>0</td>\n",
       "      <td>1</td>\n",
       "      <td>0</td>\n",
       "      <td>...</td>\n",
       "      <td>0</td>\n",
       "      <td>1</td>\n",
       "      <td>1</td>\n",
       "      <td>0</td>\n",
       "      <td>0</td>\n",
       "      <td>0</td>\n",
       "      <td>0</td>\n",
       "      <td>0</td>\n",
       "      <td>0</td>\n",
       "      <td>1</td>\n",
       "    </tr>\n",
       "    <tr>\n",
       "      <td>2</td>\n",
       "      <td>4</td>\n",
       "      <td>1</td>\n",
       "      <td>0</td>\n",
       "      <td>7</td>\n",
       "      <td>1</td>\n",
       "      <td>0</td>\n",
       "      <td>0</td>\n",
       "      <td>0</td>\n",
       "      <td>0</td>\n",
       "      <td>0</td>\n",
       "      <td>...</td>\n",
       "      <td>0</td>\n",
       "      <td>0</td>\n",
       "      <td>0</td>\n",
       "      <td>0</td>\n",
       "      <td>0</td>\n",
       "      <td>0</td>\n",
       "      <td>0</td>\n",
       "      <td>0</td>\n",
       "      <td>0</td>\n",
       "      <td>0</td>\n",
       "    </tr>\n",
       "    <tr>\n",
       "      <td>3</td>\n",
       "      <td>3</td>\n",
       "      <td>1</td>\n",
       "      <td>0</td>\n",
       "      <td>7</td>\n",
       "      <td>0</td>\n",
       "      <td>1</td>\n",
       "      <td>0</td>\n",
       "      <td>0</td>\n",
       "      <td>0</td>\n",
       "      <td>1</td>\n",
       "      <td>...</td>\n",
       "      <td>0</td>\n",
       "      <td>0</td>\n",
       "      <td>0</td>\n",
       "      <td>1</td>\n",
       "      <td>1</td>\n",
       "      <td>0</td>\n",
       "      <td>0</td>\n",
       "      <td>0</td>\n",
       "      <td>0</td>\n",
       "      <td>0</td>\n",
       "    </tr>\n",
       "    <tr>\n",
       "      <td>4</td>\n",
       "      <td>4</td>\n",
       "      <td>1</td>\n",
       "      <td>0</td>\n",
       "      <td>7</td>\n",
       "      <td>1</td>\n",
       "      <td>0</td>\n",
       "      <td>0</td>\n",
       "      <td>0</td>\n",
       "      <td>0</td>\n",
       "      <td>0</td>\n",
       "      <td>...</td>\n",
       "      <td>0</td>\n",
       "      <td>0</td>\n",
       "      <td>0</td>\n",
       "      <td>0</td>\n",
       "      <td>0</td>\n",
       "      <td>0</td>\n",
       "      <td>0</td>\n",
       "      <td>0</td>\n",
       "      <td>0</td>\n",
       "      <td>0</td>\n",
       "    </tr>\n",
       "  </tbody>\n",
       "</table>\n",
       "<p>5 rows × 22 columns</p>\n",
       "</div>"
      ],
      "text/plain": [
       "   Rating  Gender  Age  Occupation  Drama  Adventure  Mystery  Documentary  \\\n",
       "0       4       1    0           7      0          0        0            0   \n",
       "1       4       1    0           7      0          0        0            0   \n",
       "2       4       1    0           7      1          0        0            0   \n",
       "3       3       1    0           7      0          1        0            0   \n",
       "4       4       1    0           7      1          0        0            0   \n",
       "\n",
       "   Children's  Sci-Fi  ...  Horror  Animation  Musical  Action  Fantasy  \\\n",
       "0           1       0  ...       0          1        0       0        0   \n",
       "1           1       0  ...       0          1        1       0        0   \n",
       "2           0       0  ...       0          0        0       0        0   \n",
       "3           0       1  ...       0          0        0       1        1   \n",
       "4           0       0  ...       0          0        0       0        0   \n",
       "\n",
       "   Comedy  Thriller  Film-Noir  Western  Romance  \n",
       "0       1         0          0        0        0  \n",
       "1       0         0          0        0        1  \n",
       "2       0         0          0        0        0  \n",
       "3       0         0          0        0        0  \n",
       "4       0         0          0        0        0  \n",
       "\n",
       "[5 rows x 22 columns]"
      ]
     },
     "execution_count": 129,
     "metadata": {},
     "output_type": "execute_result"
    }
   ],
   "source": [
    "final_data.head()"
   ]
  },
  {
   "cell_type": "code",
   "execution_count": 130,
   "metadata": {},
   "outputs": [],
   "source": [
    "x=final_data[final_data.columns[:-1]]\n",
    "y=final_data['Rating']"
   ]
  },
  {
   "cell_type": "code",
   "execution_count": 120,
   "metadata": {},
   "outputs": [
    {
     "data": {
      "text/plain": [
       "3    2284\n",
       "2    2087\n",
       "4    1480\n",
       "1     766\n",
       "0     383\n",
       "Name: Rating, dtype: int64"
      ]
     },
     "execution_count": 120,
     "metadata": {},
     "output_type": "execute_result"
    }
   ],
   "source": [
    "pd.value_counts(y)"
   ]
  },
  {
   "cell_type": "code",
   "execution_count": 131,
   "metadata": {},
   "outputs": [
    {
     "data": {
      "text/html": [
       "<div>\n",
       "<style scoped>\n",
       "    .dataframe tbody tr th:only-of-type {\n",
       "        vertical-align: middle;\n",
       "    }\n",
       "\n",
       "    .dataframe tbody tr th {\n",
       "        vertical-align: top;\n",
       "    }\n",
       "\n",
       "    .dataframe thead th {\n",
       "        text-align: right;\n",
       "    }\n",
       "</style>\n",
       "<table border=\"1\" class=\"dataframe\">\n",
       "  <thead>\n",
       "    <tr style=\"text-align: right;\">\n",
       "      <th></th>\n",
       "      <th>Rating</th>\n",
       "      <th>Gender</th>\n",
       "      <th>Age</th>\n",
       "      <th>Occupation</th>\n",
       "      <th>Drama</th>\n",
       "      <th>Adventure</th>\n",
       "      <th>Mystery</th>\n",
       "      <th>Documentary</th>\n",
       "      <th>Children's</th>\n",
       "      <th>Sci-Fi</th>\n",
       "      <th>...</th>\n",
       "      <th>War</th>\n",
       "      <th>Horror</th>\n",
       "      <th>Animation</th>\n",
       "      <th>Musical</th>\n",
       "      <th>Action</th>\n",
       "      <th>Fantasy</th>\n",
       "      <th>Comedy</th>\n",
       "      <th>Thriller</th>\n",
       "      <th>Film-Noir</th>\n",
       "      <th>Western</th>\n",
       "    </tr>\n",
       "  </thead>\n",
       "  <tbody>\n",
       "    <tr>\n",
       "      <td>0</td>\n",
       "      <td>4</td>\n",
       "      <td>1</td>\n",
       "      <td>0</td>\n",
       "      <td>7</td>\n",
       "      <td>0</td>\n",
       "      <td>0</td>\n",
       "      <td>0</td>\n",
       "      <td>0</td>\n",
       "      <td>1</td>\n",
       "      <td>0</td>\n",
       "      <td>...</td>\n",
       "      <td>0</td>\n",
       "      <td>0</td>\n",
       "      <td>1</td>\n",
       "      <td>0</td>\n",
       "      <td>0</td>\n",
       "      <td>0</td>\n",
       "      <td>1</td>\n",
       "      <td>0</td>\n",
       "      <td>0</td>\n",
       "      <td>0</td>\n",
       "    </tr>\n",
       "    <tr>\n",
       "      <td>1</td>\n",
       "      <td>4</td>\n",
       "      <td>1</td>\n",
       "      <td>0</td>\n",
       "      <td>7</td>\n",
       "      <td>0</td>\n",
       "      <td>0</td>\n",
       "      <td>0</td>\n",
       "      <td>0</td>\n",
       "      <td>1</td>\n",
       "      <td>0</td>\n",
       "      <td>...</td>\n",
       "      <td>0</td>\n",
       "      <td>0</td>\n",
       "      <td>1</td>\n",
       "      <td>1</td>\n",
       "      <td>0</td>\n",
       "      <td>0</td>\n",
       "      <td>0</td>\n",
       "      <td>0</td>\n",
       "      <td>0</td>\n",
       "      <td>0</td>\n",
       "    </tr>\n",
       "  </tbody>\n",
       "</table>\n",
       "<p>2 rows × 21 columns</p>\n",
       "</div>"
      ],
      "text/plain": [
       "   Rating  Gender  Age  Occupation  Drama  Adventure  Mystery  Documentary  \\\n",
       "0       4       1    0           7      0          0        0            0   \n",
       "1       4       1    0           7      0          0        0            0   \n",
       "\n",
       "   Children's  Sci-Fi  ...  War  Horror  Animation  Musical  Action  Fantasy  \\\n",
       "0           1       0  ...    0       0          1        0       0        0   \n",
       "1           1       0  ...    0       0          1        1       0        0   \n",
       "\n",
       "   Comedy  Thriller  Film-Noir  Western  \n",
       "0       1         0          0        0  \n",
       "1       0         0          0        0  \n",
       "\n",
       "[2 rows x 21 columns]"
      ]
     },
     "execution_count": 131,
     "metadata": {},
     "output_type": "execute_result"
    }
   ],
   "source": [
    "x.head(2)"
   ]
  },
  {
   "cell_type": "code",
   "execution_count": 132,
   "metadata": {},
   "outputs": [],
   "source": [
    "from sklearn.linear_model import LogisticRegression"
   ]
  },
  {
   "cell_type": "code",
   "execution_count": 133,
   "metadata": {},
   "outputs": [],
   "source": [
    "logreg=LogisticRegression(solver='newton-cg',multi_class='multinomial')"
   ]
  },
  {
   "cell_type": "code",
   "execution_count": 140,
   "metadata": {},
   "outputs": [],
   "source": [
    "from sklearn.model_selection import train_test_split\n",
    "x_train, x_test, y_train, y_test = train_test_split(x, y, test_size=0.4, random_state=42)"
   ]
  },
  {
   "cell_type": "code",
   "execution_count": 141,
   "metadata": {},
   "outputs": [
    {
     "data": {
      "text/plain": [
       "LogisticRegression(C=1.0, class_weight=None, dual=False, fit_intercept=True,\n",
       "                   intercept_scaling=1, l1_ratio=None, max_iter=100,\n",
       "                   multi_class='multinomial', n_jobs=None, penalty='l2',\n",
       "                   random_state=None, solver='newton-cg', tol=0.0001, verbose=0,\n",
       "                   warm_start=False)"
      ]
     },
     "execution_count": 141,
     "metadata": {},
     "output_type": "execute_result"
    }
   ],
   "source": [
    "logreg.fit(x_train,y_train)"
   ]
  },
  {
   "cell_type": "code",
   "execution_count": 142,
   "metadata": {},
   "outputs": [],
   "source": [
    "pred=logreg.predict(x_test)"
   ]
  },
  {
   "cell_type": "code",
   "execution_count": 150,
   "metadata": {},
   "outputs": [
    {
     "data": {
      "text/plain": [
       "1.0"
      ]
     },
     "execution_count": 150,
     "metadata": {},
     "output_type": "execute_result"
    }
   ],
   "source": [
    "logreg.score(x_test,y_test)"
   ]
  },
  {
   "cell_type": "code",
   "execution_count": 151,
   "metadata": {},
   "outputs": [
    {
     "data": {
      "text/plain": [
       "1.0"
      ]
     },
     "execution_count": 151,
     "metadata": {},
     "output_type": "execute_result"
    }
   ],
   "source": [
    "logreg.score(x_train,y_train)"
   ]
  },
  {
   "cell_type": "markdown",
   "metadata": {},
   "source": [
    "# Ans:4 Logistic Regression model gives good accuracy and its is best to predict movies raiting"
   ]
  },
  {
   "cell_type": "code",
   "execution_count": null,
   "metadata": {},
   "outputs": [],
   "source": []
  }
 ],
 "metadata": {
  "kernelspec": {
   "display_name": "Python 3",
   "language": "python",
   "name": "python3"
  },
  "language_info": {
   "codemirror_mode": {
    "name": "ipython",
    "version": 3
   },
   "file_extension": ".py",
   "mimetype": "text/x-python",
   "name": "python",
   "nbconvert_exporter": "python",
   "pygments_lexer": "ipython3",
   "version": "3.7.4"
  }
 },
 "nbformat": 4,
 "nbformat_minor": 2
}
